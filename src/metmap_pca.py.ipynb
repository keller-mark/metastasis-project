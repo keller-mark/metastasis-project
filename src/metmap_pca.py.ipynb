{
 "cells": [
  {
   "cell_type": "code",
   "execution_count": 112,
   "id": "fifty-northeast",
   "metadata": {},
   "outputs": [],
   "source": [
    "# start coding here"
   ]
  },
  {
   "cell_type": "code",
   "execution_count": 113,
   "id": "classified-executive",
   "metadata": {},
   "outputs": [],
   "source": [
    "import numpy as np\n",
    "import pandas as pd\n",
    "from sklearn.decomposition import PCA\n",
    "\n",
    "import altair as alt\n",
    "from altair_saver import save as alt_save"
   ]
  },
  {
   "cell_type": "markdown",
   "id": "circular-wilson",
   "metadata": {},
   "outputs": [],
   "source": [
    "## Does the first principal component just align to the axis of overall metastatic potential?"
   ]
  },
  {
   "cell_type": "code",
   "execution_count": 114,
   "id": "knowing-heater",
   "metadata": {},
   "outputs": [],
   "source": [
    "metmap_tissues = [\n",
    "    'brain',\n",
    "    'lung',\n",
    "    'liver',\n",
    "    'bone',\n",
    "    'kidney'\n",
    "]"
   ]
  },
  {
   "cell_type": "code",
   "execution_count": 115,
   "id": "solar-dictionary",
   "metadata": {},
   "outputs": [],
   "source": [
    "all_df = pd.read_excel(snakemake.input['mm_potential'], sheet_name=f\"metp500.all5\", index_col=0)\n",
    "all_df.head()"
   ]
  },
  {
   "cell_type": "code",
   "execution_count": 116,
   "id": "disciplinary-washington",
   "metadata": {},
   "outputs": [],
   "source": [
    "met_potential_df = pd.DataFrame(index=all_df.index.values.tolist())"
   ]
  },
  {
   "cell_type": "code",
   "execution_count": 117,
   "id": "cooperative-sudan",
   "metadata": {},
   "outputs": [],
   "source": [
    "for metmap_tissue in metmap_tissues:\n",
    "    tissue_df = pd.read_excel(snakemake.input['mm_potential'], sheet_name=f\"metp500.{metmap_tissue}\", index_col=0)\n",
    "    met_potential_df[metmap_tissue] = tissue_df['mean']"
   ]
  },
  {
   "cell_type": "code",
   "execution_count": 118,
   "id": "comic-correlation",
   "metadata": {},
   "outputs": [],
   "source": [
    "met_potential_df.head()"
   ]
  },
  {
   "cell_type": "code",
   "execution_count": 119,
   "id": "black-hollywood",
   "metadata": {},
   "outputs": [],
   "source": [
    "X = met_potential_df.values\n",
    "pca = PCA(n_components=2)\n",
    "X_prime = pca.fit_transform(X)"
   ]
  },
  {
   "cell_type": "code",
   "execution_count": 120,
   "id": "everyday-strip",
   "metadata": {},
   "outputs": [],
   "source": [
    "pca.explained_variance_ratio_"
   ]
  },
  {
   "cell_type": "code",
   "execution_count": 121,
   "id": "alternative-spectrum",
   "metadata": {},
   "outputs": [],
   "source": [
    "pca.singular_values_"
   ]
  },
  {
   "cell_type": "code",
   "execution_count": 122,
   "id": "alpha-aviation",
   "metadata": {},
   "outputs": [],
   "source": [
    "pca_df = pd.DataFrame(index=all_df.index.values.tolist(), data=X_prime, columns=[\"PC1\", \"PC2\"])\n",
    "pca_df[\"all5_mean\"] = all_df[\"mean\"]\n",
    "pca_df[\"all5_penetrance\"] = all_df[\"penetrance\"]\n",
    "pca_df[\"all5_penetrance_is_zero\"] = (all_df[\"penetrance\"] == 0.0)\n",
    "\n",
    "pca_df = pca_df.reset_index()"
   ]
  },
  {
   "cell_type": "code",
   "execution_count": 123,
   "id": "romantic-hearts",
   "metadata": {},
   "outputs": [],
   "source": [
    "pca_df.head()"
   ]
  },
  {
   "cell_type": "code",
   "execution_count": 124,
   "id": "promising-artist",
   "metadata": {},
   "outputs": [],
   "source": [
    "(all_df[\"penetrance\"] != 0.0).sum()"
   ]
  },
  {
   "cell_type": "code",
   "execution_count": 145,
   "id": "friendly-somerset",
   "metadata": {},
   "outputs": [],
   "source": [
    "scales = alt.selection_interval(bind='scales')\n",
    "\n",
    "penetrance_plot = alt.Chart(pca_df).mark_circle(size=40, opacity=1).encode(\n",
    "    x=alt.X(\"PC2:Q\"),\n",
    "    y=alt.Y(\"PC1:Q\"),\n",
    "    color=alt.Color(\"all5_penetrance_is_zero:N\", legend=alt.Legend(title=\"Metastasis Penetrance is Zero\"), scale=alt.Scale(domain=[False, True])),\n",
    "    tooltip=[\n",
    "        alt.Tooltip(\"index:N\", title=\"Cell Line\"),\n",
    "        alt.Tooltip(\"all5_mean:Q\", title=\"Overall Metastasis Potential\"),\n",
    "        alt.Tooltip(\"all5_penetrance:Q\", title=\"Overall Metastasis Penetrance\")\n",
    "    ]\n",
    ").add_selection(\n",
    "    scales\n",
    ").properties(\n",
    "    width=500,\n",
    "    height=500\n",
    ")\n",
    "penetrance_plot"
   ]
  },
  {
   "cell_type": "code",
   "execution_count": 126,
   "id": "cathedral-purple",
   "metadata": {},
   "outputs": [],
   "source": [
    "alt_save(penetrance_plot, snakemake.output['pca_plot'])"
   ]
  },
  {
   "cell_type": "code",
   "execution_count": 144,
   "id": "attended-finland",
   "metadata": {},
   "outputs": [],
   "source": [
    "scales = alt.selection_interval(bind='scales')\n",
    "\n",
    "alt.Chart(pca_df).mark_circle(size=40, opacity=1).encode(\n",
    "    x=alt.X(\"PC2:Q\"),\n",
    "    y=alt.Y(\"PC1:Q\"),\n",
    "    color=alt.Color(\"all5_mean:Q\", legend=alt.Legend(title=\"Overall Metastasis Potential\")),\n",
    "    tooltip=[\n",
    "        alt.Tooltip(\"index:N\", title=\"Cell Line\"),\n",
    "        alt.Tooltip(\"all5_mean:Q\", title=\"Overall Metastasis Potential\")\n",
    "    ]\n",
    ").add_selection(\n",
    "    scales\n",
    ").properties(\n",
    "    width=500,\n",
    "    height=500\n",
    ")"
   ]
  },
  {
   "cell_type": "code",
   "execution_count": 146,
   "id": "certain-method",
   "metadata": {},
   "outputs": [],
   "source": [
    "scales = alt.selection_interval(bind='scales')\n",
    "\n",
    "alt.Chart(pca_df).mark_circle(size=40, opacity=1).encode(\n",
    "    x=alt.X(\"PC2:Q\"),\n",
    "    y=alt.Y(\"PC1:Q\"),\n",
    "    color=alt.Color(\"all5_mean:Q\", legend=alt.Legend(title=\"Overall Metastasis Potential\"), scale=alt.Scale(domain=[-4, -3])),\n",
    "    tooltip=[\n",
    "        alt.Tooltip(\"index:N\", title=\"Cell Line\"),\n",
    "        alt.Tooltip(\"all5_mean:Q\", title=\"Overall Metastasis Potential\")\n",
    "    ]\n",
    ").add_selection(\n",
    "    scales\n",
    ").properties(\n",
    "    width=500,\n",
    "    height=500\n",
    ")"
   ]
  },
  {
   "cell_type": "markdown",
   "id": "blank-officer",
   "metadata": {},
   "outputs": [],
   "source": [
    "# Filtering out cell lines with `penetrance == 0`\n",
    "\n",
    "372 cell lines have non-zero overall penetrance"
   ]
  },
  {
   "cell_type": "code",
   "execution_count": 129,
   "id": "occupational-saver",
   "metadata": {},
   "outputs": [],
   "source": [
    "nonzero_potential_df = met_potential_df.loc[all_df['penetrance'] != 0]\n",
    "nonzero_potential_df.head()"
   ]
  },
  {
   "cell_type": "code",
   "execution_count": 130,
   "id": "reported-dating",
   "metadata": {},
   "outputs": [],
   "source": [
    "nonzero_all_df = all_df.loc[all_df['penetrance'] != 0]"
   ]
  },
  {
   "cell_type": "code",
   "execution_count": 131,
   "id": "indoor-century",
   "metadata": {},
   "outputs": [],
   "source": [
    "X = nonzero_potential_df.values\n",
    "pca = PCA(n_components=2)\n",
    "X_prime = pca.fit_transform(X)"
   ]
  },
  {
   "cell_type": "code",
   "execution_count": 132,
   "id": "allied-complaint",
   "metadata": {},
   "outputs": [],
   "source": [
    "pca.explained_variance_ratio_"
   ]
  },
  {
   "cell_type": "code",
   "execution_count": 133,
   "id": "honest-guest",
   "metadata": {},
   "outputs": [],
   "source": [
    "nonzero_pca_df = pd.DataFrame(index=nonzero_potential_df.index.values.tolist(), data=X_prime, columns=[\"PC1\", \"PC2\"])\n",
    "nonzero_pca_df[\"all5_mean\"] = nonzero_all_df[\"mean\"]\n",
    "nonzero_pca_df[\"all5_penetrance\"] = nonzero_all_df[\"penetrance\"]\n",
    "\n",
    "nonzero_pca_df = nonzero_pca_df.reset_index()"
   ]
  },
  {
   "cell_type": "code",
   "execution_count": 148,
   "id": "absent-liquid",
   "metadata": {},
   "outputs": [],
   "source": [
    "scales = alt.selection_interval(bind='scales')\n",
    "\n",
    "alt.Chart(nonzero_pca_df).mark_circle(size=60, opacity=1).encode(\n",
    "    x=alt.X(\"PC2:Q\"),\n",
    "    y=alt.Y(\"PC1:Q\"),\n",
    "    color=alt.Color(\"all5_mean:Q\", legend=alt.Legend(title=\"Overall Metastasis Potential\")),\n",
    "    tooltip=[\n",
    "        alt.Tooltip(\"index:N\", title=\"Cell Line\"),\n",
    "        alt.Tooltip(\"all5_mean:Q\", title=\"Overall Metastasis Potential\")\n",
    "    ]\n",
    ").add_selection(\n",
    "    scales\n",
    ").properties(\n",
    "    title=\"Principal Components: Overall Metastasis Potential\",\n",
    "    width=500,\n",
    "    height=500\n",
    ")"
   ]
  },
  {
   "cell_type": "code",
   "execution_count": 147,
   "id": "superior-bunch",
   "metadata": {},
   "outputs": [],
   "source": [
    "scales = alt.selection_interval(bind='scales')\n",
    "\n",
    "alt.Chart(nonzero_pca_df).mark_circle(size=60, opacity=1).encode(\n",
    "    x=alt.X(\"PC2:Q\"),\n",
    "    y=alt.Y(\"PC1:Q\"),\n",
    "    color=alt.Color(\"all5_penetrance:Q\", legend=alt.Legend(title=\"Overall Metastasis Penetrance\")),\n",
    "    tooltip=[\n",
    "        alt.Tooltip(\"index:N\", title=\"Cell Line\"),\n",
    "        alt.Tooltip(\"all5_mean:Q\", title=\"Overall Metastasis Potential\")\n",
    "    ]\n",
    ").add_selection(\n",
    "    scales\n",
    ").properties(\n",
    "    title=\"Principal Components: Overall Metastasis Potential\",\n",
    "    width=500,\n",
    "    height=500\n",
    ")"
   ]
  },
  {
   "cell_type": "code",
   "execution_count": null,
   "id": "driven-accountability",
   "metadata": {},
   "outputs": [],
   "source": []
  },
  {
   "cell_type": "code",
   "execution_count": null,
   "id": "removable-oklahoma",
   "metadata": {},
   "outputs": [],
   "source": []
  }
 ],
 "metadata": {
  "kernelspec": {
   "display_name": "Python 3",
   "language": "python",
   "name": "python3"
  },
  "language_info": {
   "codemirror_mode": {
    "name": "ipython",
    "version": 3
   },
   "file_extension": ".py",
   "mimetype": "text/x-python",
   "name": "python",
   "nbconvert_exporter": "python",
   "pygments_lexer": "ipython3",
   "version": "3.8.8"
  }
 },
 "nbformat": 4,
 "nbformat_minor": 5
}
