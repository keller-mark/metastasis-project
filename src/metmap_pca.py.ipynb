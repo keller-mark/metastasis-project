{
 "cells": [
  {
   "cell_type": "code",
   "execution_count": 2,
   "id": "virtual-newfoundland",
   "metadata": {},
   "outputs": [],
   "source": [
    "# start coding here"
   ]
  },
  {
   "cell_type": "code",
   "execution_count": 3,
   "id": "separate-threshold",
   "metadata": {},
   "outputs": [],
   "source": [
    "import numpy as np\n",
    "import pandas as pd\n",
    "from sklearn.decomposition import PCA\n",
    "\n",
    "import altair as alt\n",
    "from altair_saver import save as alt_save"
   ]
  },
  {
   "cell_type": "markdown",
   "id": "general-vision",
   "metadata": {},
   "outputs": [],
   "source": [
    "## Does the first principal component just align to the axis of overall metastatic potential?"
   ]
  },
  {
   "cell_type": "code",
   "execution_count": 4,
   "id": "surprising-color",
   "metadata": {},
   "outputs": [],
   "source": [
    "metmap_tissues = [\n",
    "    'brain',\n",
    "    'lung',\n",
    "    'liver',\n",
    "    'bone',\n",
    "    'kidney'\n",
    "]"
   ]
  },
  {
   "cell_type": "code",
   "execution_count": 5,
   "id": "related-principle",
   "metadata": {},
   "outputs": [],
   "source": [
    "all_df = pd.read_excel(snakemake.input['mm_potential'], sheet_name=f\"metp500.all5\", index_col=0)\n",
    "all_df.head()"
   ]
  },
  {
   "cell_type": "code",
   "execution_count": 6,
   "id": "liable-simulation",
   "metadata": {},
   "outputs": [],
   "source": [
    "met_potential_df = pd.DataFrame(index=all_df.index.values.tolist())"
   ]
  },
  {
   "cell_type": "code",
   "execution_count": 7,
   "id": "cardiac-vermont",
   "metadata": {},
   "outputs": [],
   "source": [
    "for metmap_tissue in metmap_tissues:\n",
    "    tissue_df = pd.read_excel(snakemake.input['mm_potential'], sheet_name=f\"metp500.{metmap_tissue}\", index_col=0)\n",
    "    met_potential_df[metmap_tissue] = tissue_df['mean']"
   ]
  },
  {
   "cell_type": "code",
   "execution_count": 8,
   "id": "colored-nicaragua",
   "metadata": {},
   "outputs": [],
   "source": [
    "met_potential_df.head()"
   ]
  },
  {
   "cell_type": "code",
   "execution_count": 9,
   "id": "eleven-measure",
   "metadata": {},
   "outputs": [],
   "source": [
    "X = met_potential_df.values\n",
    "pca = PCA(n_components=2)\n",
    "X_prime = pca.fit_transform(X)"
   ]
  },
  {
   "cell_type": "code",
   "execution_count": 10,
   "id": "disturbed-backup",
   "metadata": {},
   "outputs": [],
   "source": [
    "pca.explained_variance_ratio_"
   ]
  },
  {
   "cell_type": "code",
   "execution_count": 11,
   "id": "finnish-afghanistan",
   "metadata": {},
   "outputs": [],
   "source": [
    "pca.singular_values_"
   ]
  },
  {
   "cell_type": "code",
   "execution_count": 12,
   "id": "radio-pastor",
   "metadata": {},
   "outputs": [],
   "source": [
    "pca_df = pd.DataFrame(index=all_df.index.values.tolist(), data=X_prime, columns=[\"PC1\", \"PC2\"])\n",
    "pca_df[\"all5_mean\"] = all_df[\"mean\"]\n",
    "pca_df[\"all5_penetrance\"] = all_df[\"penetrance\"]\n",
    "pca_df[\"all5_penetrance_is_zero\"] = (all_df[\"penetrance\"] == 0.0)\n",
    "\n",
    "pca_df = pca_df.reset_index()"
   ]
  },
  {
   "cell_type": "code",
   "execution_count": 13,
   "id": "affecting-confidence",
   "metadata": {},
   "outputs": [],
   "source": [
    "pca_df.head()"
   ]
  },
  {
   "cell_type": "code",
   "execution_count": 14,
   "id": "patient-flesh",
   "metadata": {},
   "outputs": [],
   "source": [
    "(all_df[\"penetrance\"] != 0.0).sum()"
   ]
  },
  {
   "cell_type": "code",
   "execution_count": 15,
   "id": "surface-season",
   "metadata": {},
   "outputs": [],
   "source": [
    "scales = alt.selection_interval(bind='scales')\n",
    "\n",
    "penetrance_plot = alt.Chart(pca_df).mark_circle(size=40, opacity=1).encode(\n",
    "    x=alt.X(\"PC2:Q\"),\n",
    "    y=alt.Y(\"PC1:Q\"),\n",
    "    color=alt.Color(\"all5_penetrance_is_zero:N\", legend=alt.Legend(title=\"Metastasis Penetrance is Zero\"), scale=alt.Scale(domain=[False, True])),\n",
    "    tooltip=[\n",
    "        alt.Tooltip(\"index:N\", title=\"Cell Line\"),\n",
    "        alt.Tooltip(\"all5_mean:Q\", title=\"Overall Metastasis Potential\"),\n",
    "        alt.Tooltip(\"all5_penetrance:Q\", title=\"Overall Metastasis Penetrance\")\n",
    "    ]\n",
    ").add_selection(\n",
    "    scales\n",
    ").properties(\n",
    "    width=500,\n",
    "    height=500\n",
    ")\n",
    "penetrance_plot"
   ]
  },
  {
   "cell_type": "code",
   "execution_count": 16,
   "id": "supposed-fabric",
   "metadata": {},
   "outputs": [],
   "source": [
    "alt_save(penetrance_plot, snakemake.output['pca_plot'])"
   ]
  },
  {
   "cell_type": "code",
   "execution_count": 17,
   "id": "varied-chrome",
   "metadata": {},
   "outputs": [],
   "source": [
    "scales = alt.selection_interval(bind='scales')\n",
    "\n",
    "alt.Chart(pca_df).mark_circle(size=40, opacity=1).encode(\n",
    "    x=alt.X(\"PC2:Q\"),\n",
    "    y=alt.Y(\"PC1:Q\"),\n",
    "    color=alt.Color(\"all5_mean:Q\", legend=alt.Legend(title=\"Overall Metastasis Potential\")),\n",
    "    tooltip=[\n",
    "        alt.Tooltip(\"index:N\", title=\"Cell Line\"),\n",
    "        alt.Tooltip(\"all5_mean:Q\", title=\"Overall Metastasis Potential\")\n",
    "    ]\n",
    ").add_selection(\n",
    "    scales\n",
    ").properties(\n",
    "    width=500,\n",
    "    height=500\n",
    ")"
   ]
  },
  {
   "cell_type": "code",
   "execution_count": 18,
   "id": "existing-formation",
   "metadata": {},
   "outputs": [],
   "source": [
    "scales = alt.selection_interval(bind='scales')\n",
    "\n",
    "alt.Chart(pca_df).mark_circle(size=40, opacity=1).encode(\n",
    "    x=alt.X(\"PC2:Q\"),\n",
    "    y=alt.Y(\"PC1:Q\"),\n",
    "    color=alt.Color(\"all5_mean:Q\", legend=alt.Legend(title=\"Overall Metastasis Potential\"), scale=alt.Scale(domain=[-4, -3])),\n",
    "    tooltip=[\n",
    "        alt.Tooltip(\"index:N\", title=\"Cell Line\"),\n",
    "        alt.Tooltip(\"all5_mean:Q\", title=\"Overall Metastasis Potential\")\n",
    "    ]\n",
    ").add_selection(\n",
    "    scales\n",
    ").properties(\n",
    "    width=500,\n",
    "    height=500\n",
    ")"
   ]
  },
  {
   "cell_type": "markdown",
   "id": "macro-electricity",
   "metadata": {},
   "outputs": [],
   "source": [
    "# Filtering out cell lines with `penetrance == 0`\n",
    "\n",
    "372 cell lines have non-zero overall penetrance"
   ]
  },
  {
   "cell_type": "code",
   "execution_count": 19,
   "id": "loaded-champagne",
   "metadata": {},
   "outputs": [],
   "source": [
    "nonzero_potential_df = met_potential_df.loc[all_df['penetrance'] != 0]\n",
    "nonzero_potential_df.head()"
   ]
  },
  {
   "cell_type": "code",
   "execution_count": 20,
   "id": "governing-consortium",
   "metadata": {},
   "outputs": [],
   "source": [
    "nonzero_all_df = all_df.loc[all_df['penetrance'] != 0]"
   ]
  },
  {
   "cell_type": "code",
   "execution_count": 21,
   "id": "smart-camping",
   "metadata": {},
   "outputs": [],
   "source": [
    "X = nonzero_potential_df.values\n",
    "pca = PCA(n_components=2)\n",
    "X_prime = pca.fit_transform(X)"
   ]
  },
  {
   "cell_type": "code",
   "execution_count": 22,
   "id": "internal-communist",
   "metadata": {},
   "outputs": [],
   "source": [
    "pca.explained_variance_ratio_"
   ]
  },
  {
   "cell_type": "code",
   "execution_count": 59,
   "id": "unknown-exercise",
   "metadata": {},
   "outputs": [],
   "source": [
    "nonzero_pca_df = pd.DataFrame(index=nonzero_potential_df.index.values.tolist(), data=X_prime, columns=[\"PC1\", \"PC2\"])\n",
    "nonzero_pca_df[\"all5_mean\"] = nonzero_all_df[\"mean\"]\n",
    "nonzero_pca_df[\"all5_penetrance\"] = nonzero_all_df[\"penetrance\"]\n",
    "\n",
    "nonzero_pca_df = nonzero_pca_df.merge(nonzero_potential_df, how=\"left\", left_index=True, right_index=True)\n",
    "nonzero_pca_df = nonzero_pca_df.reset_index()"
   ]
  },
  {
   "cell_type": "code",
   "execution_count": 60,
   "id": "laughing-bishop",
   "metadata": {},
   "outputs": [],
   "source": [
    "nonzero_potential_plot = alt.Chart(nonzero_pca_df).mark_circle(size=60, opacity=1).encode(\n",
    "    x=alt.X(\"PC2:Q\"),\n",
    "    y=alt.Y(\"PC1:Q\"),\n",
    "    color=alt.Color(\"all5_mean:Q\", legend=alt.Legend(title=\"Overall Metastasis Potential\")),\n",
    "    tooltip=[\n",
    "        alt.Tooltip(\"index:N\", title=\"Cell Line\"),\n",
    "        alt.Tooltip(\"all5_mean:Q\", title=\"Overall Metastasis Potential\")\n",
    "    ]\n",
    ").properties(\n",
    "    title=\"Principal Components: Overall Metastasis Potential\",\n",
    "    width=500,\n",
    "    height=500\n",
    ")\n",
    "\n",
    "nonzero_penetrance_plot = alt.Chart(nonzero_pca_df).mark_circle(size=60, opacity=1).encode(\n",
    "    x=alt.X(\"PC2:Q\"),\n",
    "    y=alt.Y(\"PC1:Q\"),\n",
    "    color=alt.Color(\"all5_penetrance:Q\", legend=alt.Legend(title=\"Overall Metastasis Penetrance\")),\n",
    "    tooltip=[\n",
    "        alt.Tooltip(\"index:N\", title=\"Cell Line\"),\n",
    "        alt.Tooltip(\"all5_mean:Q\", title=\"Overall Metastasis Potential\")\n",
    "    ]\n",
    ").properties(\n",
    "    title=\"Principal Components: Overall Metastasis Potential\",\n",
    "    width=500,\n",
    "    height=500\n",
    ")\n",
    "\n",
    "alt.hconcat(nonzero_potential_plot, nonzero_penetrance_plot).resolve_scale(\n",
    "    color='independent'\n",
    ")"
   ]
  },
  {
   "cell_type": "code",
   "execution_count": 76,
   "id": "agreed-conditions",
   "metadata": {},
   "outputs": [],
   "source": [
    "tooltip = [\n",
    "    alt.Tooltip(\"index:N\", title=\"Cell Line\"),\n",
    "    alt.Tooltip(\"all5_mean:Q\", title=\"Potential\"),\n",
    "    alt.Tooltip(\"all5_penetrance:Q\", title=\"Penetrance\")\n",
    "]\n",
    "\n",
    "nonzero_potential_pc1_plot = alt.Chart(nonzero_pca_df).mark_circle(size=60, opacity=1).encode(\n",
    "    x=alt.X(\"all5_mean:Q\"),\n",
    "    y=alt.Y(\"PC1:Q\"),\n",
    "    color=alt.Color(\"all5_mean:Q\", legend=alt.Legend(title=\"Potential\")),\n",
    "    tooltip=tooltip\n",
    ").properties(\n",
    "    title=\"PC1 vs. Potential\",\n",
    "    width=400,\n",
    "    height=400\n",
    ")\n",
    "\n",
    "nonzero_penetrance_pc1_plot = alt.Chart(nonzero_pca_df).mark_circle(size=60, opacity=1).encode(\n",
    "    x=alt.X(\"all5_penetrance:Q\"),\n",
    "    y=alt.Y(\"PC1:Q\"),\n",
    "    color=alt.Color(\"all5_penetrance:Q\", legend=alt.Legend(title=\"Penetrance\")),\n",
    "    tooltip=tooltip\n",
    ").properties(\n",
    "    title=\"PC1 vs. Penetrance\",\n",
    "    width=400,\n",
    "    height=400\n",
    ")\n",
    "\n",
    "nonzero_potential_pc2_plot = alt.Chart(nonzero_pca_df).mark_circle(size=60, opacity=1).encode(\n",
    "    x=alt.X(\"all5_mean:Q\"),\n",
    "    y=alt.Y(\"PC2:Q\"),\n",
    "    color=alt.Color(\"all5_mean:Q\", legend=alt.Legend(title=\"Potential\")),\n",
    "    tooltip=tooltip\n",
    ").properties(\n",
    "    title=\"PC2 vs. Potential\",\n",
    "    width=400,\n",
    "    height=400\n",
    ")\n",
    "\n",
    "nonzero_penetrance_pc2_plot = alt.Chart(nonzero_pca_df).mark_circle(size=60, opacity=1).encode(\n",
    "    x=alt.X(\"all5_penetrance:Q\"),\n",
    "    y=alt.Y(\"PC2:Q\"),\n",
    "    color=alt.Color(\"all5_penetrance:Q\", legend=alt.Legend(title=\"Penetrance\")),\n",
    "    tooltip=tooltip\n",
    ").properties(\n",
    "    title=\"PC2 vs. Penetrance\",\n",
    "    width=400,\n",
    "    height=400\n",
    ")\n",
    "\n",
    "alt.vconcat(alt.hconcat(nonzero_potential_pc1_plot, nonzero_penetrance_pc1_plot).resolve_scale(\n",
    "    color='independent'\n",
    "), alt.hconcat(nonzero_potential_pc2_plot, nonzero_penetrance_pc2_plot).resolve_scale(\n",
    "    color='independent'\n",
    ")).resolve_scale(\n",
    "    color='independent'\n",
    ")"
   ]
  },
  {
   "cell_type": "code",
   "execution_count": 75,
   "id": "known-island",
   "metadata": {},
   "outputs": [],
   "source": [
    "def get_tissue_plot(tissue):\n",
    "    return alt.Chart(nonzero_pca_df).mark_circle(size=40, opacity=1).encode(\n",
    "        x=alt.X(f\"{tissue}:Q\"),\n",
    "        y=alt.Y(\"PC1:Q\"),\n",
    "        color=alt.Color(\"all5_mean:Q\", legend=alt.Legend(title=\"Overall Potential\"), scale=alt.Scale(domain=[-4, 3])),\n",
    "        tooltip=tooltip\n",
    "    ).properties(\n",
    "        title=f\"PC1 vs. {tissue} potential\",\n",
    "        width=300,\n",
    "        height=300\n",
    "    )\n",
    "\n",
    "brain_plot = get_tissue_plot(\"brain\")\n",
    "lung_plot = get_tissue_plot(\"lung\")\n",
    "liver_plot = get_tissue_plot(\"liver\")\n",
    "bone_plot = get_tissue_plot(\"bone\")\n",
    "kidney_plot = get_tissue_plot(\"kidney\")\n",
    "\n",
    "alt.hconcat(brain_plot, lung_plot, liver_plot, bone_plot, kidney_plot)"
   ]
  },
  {
   "cell_type": "code",
   "execution_count": null,
   "id": "internal-premiere",
   "metadata": {},
   "outputs": [],
   "source": []
  }
 ],
 "metadata": {
  "kernelspec": {
   "display_name": "Python 3",
   "language": "python",
   "name": "python3"
  },
  "language_info": {
   "codemirror_mode": {
    "name": "ipython",
    "version": 3
   },
   "file_extension": ".py",
   "mimetype": "text/x-python",
   "name": "python",
   "nbconvert_exporter": "python",
   "pygments_lexer": "ipython3",
   "version": "3.8.8"
  }
 },
 "nbformat": 4,
 "nbformat_minor": 5
}
