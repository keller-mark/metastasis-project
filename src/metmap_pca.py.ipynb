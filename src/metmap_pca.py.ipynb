{
 "cells": [
  {
   "cell_type": "code",
   "execution_count": 33,
   "id": "certified-piano",
   "metadata": {},
   "outputs": [],
   "source": [
    "# start coding here"
   ]
  },
  {
   "cell_type": "code",
   "execution_count": 34,
   "id": "incorporate-emerald",
   "metadata": {},
   "outputs": [],
   "source": [
    "import numpy as np\n",
    "import pandas as pd\n",
    "from sklearn.decomposition import PCA\n",
    "\n",
    "import altair as alt\n",
    "from altair_saver import save as alt_save"
   ]
  },
  {
   "cell_type": "markdown",
   "id": "divided-astronomy",
   "metadata": {},
   "outputs": [],
   "source": [
    "## Does the first principal component just align to the axis of overall metastatic potential?"
   ]
  },
  {
   "cell_type": "code",
   "execution_count": 35,
   "id": "significant-elizabeth",
   "metadata": {},
   "outputs": [],
   "source": [
    "metmap_tissues = [\n",
    "    'brain',\n",
    "    'lung',\n",
    "    'liver',\n",
    "    'bone',\n",
    "    'kidney'\n",
    "]"
   ]
  },
  {
   "cell_type": "code",
   "execution_count": 36,
   "id": "welcome-scene",
   "metadata": {},
   "outputs": [],
   "source": [
    "all_df = pd.read_excel(snakemake.input['mm_potential'], sheet_name=f\"metp500.all5\", index_col=0)\n",
    "all_df.head()"
   ]
  },
  {
   "cell_type": "code",
   "execution_count": 37,
   "id": "novel-cowboy",
   "metadata": {},
   "outputs": [],
   "source": [
    "met_potential_df = pd.DataFrame(index=all_df.index.values.tolist())"
   ]
  },
  {
   "cell_type": "code",
   "execution_count": 38,
   "id": "monetary-formation",
   "metadata": {},
   "outputs": [],
   "source": [
    "for metmap_tissue in metmap_tissues:\n",
    "    tissue_df = pd.read_excel(snakemake.input['mm_potential'], sheet_name=f\"metp500.{metmap_tissue}\", index_col=0)\n",
    "    met_potential_df[metmap_tissue] = tissue_df['mean']"
   ]
  },
  {
   "cell_type": "code",
   "execution_count": 39,
   "id": "valued-wales",
   "metadata": {},
   "outputs": [],
   "source": [
    "met_potential_df.head()"
   ]
  },
  {
   "cell_type": "code",
   "execution_count": 40,
   "id": "tender-shade",
   "metadata": {},
   "outputs": [],
   "source": [
    "X = met_potential_df.values\n",
    "pca = PCA(n_components=None)\n",
    "X_prime = pca.fit_transform(X)"
   ]
  },
  {
   "cell_type": "code",
   "execution_count": 41,
   "id": "aboriginal-premium",
   "metadata": {},
   "outputs": [],
   "source": [
    "pca.explained_variance_ratio_"
   ]
  },
  {
   "cell_type": "code",
   "execution_count": 42,
   "id": "subtle-chemistry",
   "metadata": {},
   "outputs": [],
   "source": [
    "pca.singular_values_"
   ]
  },
  {
   "cell_type": "code",
   "execution_count": 46,
   "id": "certain-summit",
   "metadata": {},
   "outputs": [],
   "source": [
    "pca_df = pd.DataFrame(index=all_df.index.values.tolist(), data=X_prime[:,0:2], columns=[\"PC1\", \"PC2\"])\n",
    "pca_df[\"all5_mean\"] = all_df[\"mean\"]\n",
    "pca_df[\"all5_penetrance\"] = all_df[\"penetrance\"]\n",
    "pca_df[\"all5_penetrance_is_zero\"] = (all_df[\"penetrance\"] == 0.0)\n",
    "\n",
    "pca_df = pca_df.reset_index()"
   ]
  },
  {
   "cell_type": "code",
   "execution_count": 47,
   "id": "authorized-state",
   "metadata": {},
   "outputs": [],
   "source": [
    "pca_df.head()"
   ]
  },
  {
   "cell_type": "code",
   "execution_count": 48,
   "id": "color-benjamin",
   "metadata": {},
   "outputs": [],
   "source": [
    "(all_df[\"penetrance\"] == 0.0).sum()"
   ]
  },
  {
   "cell_type": "code",
   "execution_count": 49,
   "id": "second-lewis",
   "metadata": {},
   "outputs": [],
   "source": [
    "scales = alt.selection_interval(bind='scales')\n",
    "\n",
    "penetrance_plot = alt.Chart(pca_df).mark_circle(size=40, opacity=1).encode(\n",
    "    x=alt.X(\"PC2:Q\"),\n",
    "    y=alt.Y(\"PC1:Q\"),\n",
    "    color=alt.Color(\"all5_penetrance_is_zero:N\", legend=alt.Legend(title=\"Metastasis Penetrance is Zero\"), scale=alt.Scale(domain=[False, True])),\n",
    "    tooltip=[\n",
    "        alt.Tooltip(\"index:N\", title=\"Cell Line\"),\n",
    "        alt.Tooltip(\"all5_mean:Q\", title=\"Overall Metastasis Potential\"),\n",
    "        alt.Tooltip(\"all5_penetrance:Q\", title=\"Overall Metastasis Penetrance\")\n",
    "    ]\n",
    ").add_selection(\n",
    "    scales\n",
    ").properties(\n",
    "    width=500,\n",
    "    height=500\n",
    ")\n",
    "penetrance_plot"
   ]
  },
  {
   "cell_type": "code",
   "execution_count": 50,
   "id": "expensive-vitamin",
   "metadata": {},
   "outputs": [],
   "source": [
    "alt_save(penetrance_plot, snakemake.output['pca_plot_1'])"
   ]
  },
  {
   "cell_type": "code",
   "execution_count": 52,
   "id": "charged-giving",
   "metadata": {},
   "outputs": [],
   "source": [
    "scales = alt.selection_interval(bind='scales')\n",
    "\n",
    "alt.Chart(pca_df).mark_circle(size=40, opacity=1).encode(\n",
    "    x=alt.X(\"PC2:Q\"),\n",
    "    y=alt.Y(\"PC1:Q\"),\n",
    "    color=alt.Color(\"all5_mean:Q\", legend=alt.Legend(title=\"Overall Metastasis Potential\")),\n",
    "    tooltip=[\n",
    "        alt.Tooltip(\"index:N\", title=\"Cell Line\"),\n",
    "        alt.Tooltip(\"all5_mean:Q\", title=\"Overall Metastasis Potential\")\n",
    "    ]\n",
    ").properties(\n",
    "    width=500,\n",
    "    height=500\n",
    ")"
   ]
  },
  {
   "cell_type": "markdown",
   "id": "committed-consortium",
   "metadata": {},
   "outputs": [],
   "source": [
    "## Plot the PCA loadings"
   ]
  },
  {
   "cell_type": "code",
   "execution_count": 53,
   "id": "further-framing",
   "metadata": {},
   "outputs": [],
   "source": [
    "components = pca.components_"
   ]
  },
  {
   "cell_type": "code",
   "execution_count": 56,
   "id": "developing-georgia",
   "metadata": {},
   "outputs": [],
   "source": [
    "# Rows: components\n",
    "# Cols: features\n",
    "components.shape"
   ]
  },
  {
   "cell_type": "code",
   "execution_count": 82,
   "id": "demographic-carrier",
   "metadata": {},
   "outputs": [],
   "source": [
    "loadings_df = pd.DataFrame(data=[], columns=[\"PC\", \"feature\", \"loading\"])\n",
    "\n",
    "for i in range(components.shape[0]):\n",
    "    for j in range(components.shape[1]):\n",
    "        loadings_df = loadings_df.append({\n",
    "            \"PC\": f\"PC{i+1}\",\n",
    "            \"feature\": met_potential_df.columns.values.tolist()[j],\n",
    "            \"loading\": components[i, j]\n",
    "        }, ignore_index=True)\n",
    "\n",
    "components[0,:] # how much each feature contributes to the first principal component"
   ]
  },
  {
   "cell_type": "code",
   "execution_count": 83,
   "id": "chinese-sample",
   "metadata": {},
   "outputs": [],
   "source": [
    "loadings_df.head()"
   ]
  },
  {
   "cell_type": "markdown",
   "id": "stainless-cookbook",
   "metadata": {},
   "outputs": [],
   "source": [
    "From http://strata.uga.edu/8370/lecturenotes/principalComponents.html\n",
    "\n",
    "> Because the sum of the squares of all loadings for an individual principal component must sum to one, we can calculate what the loadings would be if all variables contributed equally to that principal component. Any variable that has a larger loading than this value contributes more than one variable’s worth of information and would be regarded as an important contributor to that principal component."
   ]
  },
  {
   "cell_type": "code",
   "execution_count": 117,
   "id": "neutral-thomas",
   "metadata": {},
   "outputs": [],
   "source": [
    "loadings_df[\"large\"] = loadings_df[\"loading\"].apply(lambda a: abs(a) >= np.sqrt(1/components.shape[0]))\n",
    "loadings_df[\"loading_str\"] = loadings_df[\"loading\"].apply(lambda a: f\"{a:.3f}\")\n",
    "\n",
    "loadings_table = alt.Chart(loadings_df).mark_text(fontWeight=600, fontSize=16).encode(\n",
    "    y=alt.Y(\"feature:O\", axis=alt.Axis(title=\"Organ (for Metastasis Potential)\")),\n",
    "    x=alt.X(\"PC:O\", axis=alt.Axis(orient=\"top\", labelAngle=0, title=\"Principal Component\")),\n",
    "    text=alt.Text(\"loading_str:N\"),\n",
    "    opacity=alt.Opacity(\"large:N\", scale=alt.Scale(domain=[False, True]), legend=None)\n",
    ").properties(\n",
    "    width=300,\n",
    "    height=300\n",
    ")\n",
    "\n",
    "loadings_table"
   ]
  },
  {
   "cell_type": "code",
   "execution_count": 118,
   "id": "warming-floor",
   "metadata": {},
   "outputs": [],
   "source": [
    "alt_save(loadings_table, snakemake.output[\"pca_plot_5\"])"
   ]
  },
  {
   "cell_type": "markdown",
   "id": "chubby-there",
   "metadata": {},
   "outputs": [],
   "source": [
    "## Plot the explained variance ratio"
   ]
  },
  {
   "cell_type": "code",
   "execution_count": 112,
   "id": "earned-freedom",
   "metadata": {},
   "outputs": [],
   "source": [
    "variance_df = pd.DataFrame(index=range(components.shape[0]))\n",
    "\n",
    "variance_df[\"explained_variance_ratio\"] = pca.explained_variance_ratio_ * 100\n",
    "variance_df[\"PC\"] = variance_df.index.to_series().apply(lambda i: f\"PC{i+1}\")"
   ]
  },
  {
   "cell_type": "code",
   "execution_count": 113,
   "id": "tropical-tours",
   "metadata": {},
   "outputs": [],
   "source": [
    "variance_df.head()"
   ]
  },
  {
   "cell_type": "markdown",
   "id": "cross-black",
   "metadata": {},
   "outputs": [],
   "source": [
    "> A second criteria we should consider is which principal components explain more than one variable’s worth of information. Since we have eight variables, if each variable contributed equally, they would each contribute 12.5% to the total variance, indicated by the red line."
   ]
  },
  {
   "cell_type": "code",
   "execution_count": 115,
   "id": "brilliant-universal",
   "metadata": {},
   "outputs": [],
   "source": [
    "percent_variance_plot = alt.Chart(variance_df).mark_bar().encode(\n",
    "    x=alt.X(\"PC:O\"),\n",
    "    y=alt.Y(\"explained_variance_ratio:Q\", axis=alt.Axis(title=\"Percent Variance Explained\"))\n",
    ")\n",
    "\n",
    "percent_variance_plot"
   ]
  },
  {
   "cell_type": "code",
   "execution_count": null,
   "id": "apparent-removal",
   "metadata": {},
   "outputs": [],
   "source": [
    "alt_save(percent_variance_plot, snakemake.output[\"pca_plot_6\"])"
   ]
  },
  {
   "cell_type": "code",
   "execution_count": 18,
   "id": "portable-custody",
   "metadata": {},
   "outputs": [],
   "source": [
    "scales = alt.selection_interval(bind='scales')\n",
    "\n",
    "alt.Chart(pca_df).mark_circle(size=40, opacity=1).encode(\n",
    "    x=alt.X(\"PC2:Q\"),\n",
    "    y=alt.Y(\"PC1:Q\"),\n",
    "    color=alt.Color(\"all5_mean:Q\", legend=alt.Legend(title=\"Overall Metastasis Potential\"), scale=alt.Scale(domain=[-4, -3])),\n",
    "    tooltip=[\n",
    "        alt.Tooltip(\"index:N\", title=\"Cell Line\"),\n",
    "        alt.Tooltip(\"all5_mean:Q\", title=\"Overall Metastasis Potential\")\n",
    "    ]\n",
    ").add_selection(\n",
    "    scales\n",
    ").properties(\n",
    "    width=500,\n",
    "    height=500\n",
    ")"
   ]
  },
  {
   "cell_type": "markdown",
   "id": "planned-danger",
   "metadata": {},
   "outputs": [],
   "source": [
    "# Filtering out cell lines with `penetrance == 0`\n",
    "\n",
    "372 cell lines have non-zero overall penetrance"
   ]
  },
  {
   "cell_type": "code",
   "execution_count": 19,
   "id": "mechanical-basketball",
   "metadata": {},
   "outputs": [],
   "source": [
    "nonzero_potential_df = met_potential_df.loc[all_df['penetrance'] != 0]\n",
    "nonzero_potential_df.head()"
   ]
  },
  {
   "cell_type": "code",
   "execution_count": 20,
   "id": "revolutionary-banner",
   "metadata": {},
   "outputs": [],
   "source": [
    "nonzero_all_df = all_df.loc[all_df['penetrance'] != 0]"
   ]
  },
  {
   "cell_type": "code",
   "execution_count": 21,
   "id": "synthetic-carol",
   "metadata": {},
   "outputs": [],
   "source": [
    "X = nonzero_potential_df.values\n",
    "pca = PCA(n_components=2)\n",
    "X_prime = pca.fit_transform(X)"
   ]
  },
  {
   "cell_type": "code",
   "execution_count": 22,
   "id": "roman-malawi",
   "metadata": {},
   "outputs": [],
   "source": [
    "pca.explained_variance_ratio_"
   ]
  },
  {
   "cell_type": "code",
   "execution_count": 23,
   "id": "understanding-reality",
   "metadata": {},
   "outputs": [],
   "source": [
    "nonzero_pca_df = pd.DataFrame(index=nonzero_potential_df.index.values.tolist(), data=X_prime, columns=[\"PC1\", \"PC2\"])\n",
    "nonzero_pca_df[\"all5_mean\"] = nonzero_all_df[\"mean\"]\n",
    "nonzero_pca_df[\"all5_penetrance\"] = nonzero_all_df[\"penetrance\"]\n",
    "\n",
    "nonzero_pca_df = nonzero_pca_df.merge(nonzero_potential_df, how=\"left\", left_index=True, right_index=True)\n",
    "nonzero_pca_df = nonzero_pca_df.reset_index()"
   ]
  },
  {
   "cell_type": "code",
   "execution_count": 24,
   "id": "minus-warrior",
   "metadata": {},
   "outputs": [],
   "source": [
    "nonzero_potential_plot = alt.Chart(nonzero_pca_df).mark_circle(size=60, opacity=1).encode(\n",
    "    x=alt.X(\"PC2:Q\"),\n",
    "    y=alt.Y(\"PC1:Q\"),\n",
    "    color=alt.Color(\"all5_mean:Q\", legend=alt.Legend(title=\"Overall Metastasis Potential\")),\n",
    "    tooltip=[\n",
    "        alt.Tooltip(\"index:N\", title=\"Cell Line\"),\n",
    "        alt.Tooltip(\"all5_mean:Q\", title=\"Overall Metastasis Potential\")\n",
    "    ]\n",
    ").properties(\n",
    "    title=\"Principal Components: Overall Metastasis Potential\",\n",
    "    width=500,\n",
    "    height=500\n",
    ")\n",
    "\n",
    "nonzero_penetrance_plot = alt.Chart(nonzero_pca_df).mark_circle(size=60, opacity=1).encode(\n",
    "    x=alt.X(\"PC2:Q\"),\n",
    "    y=alt.Y(\"PC1:Q\"),\n",
    "    color=alt.Color(\"all5_penetrance:Q\", legend=alt.Legend(title=\"Overall Metastasis Penetrance\")),\n",
    "    tooltip=[\n",
    "        alt.Tooltip(\"index:N\", title=\"Cell Line\"),\n",
    "        alt.Tooltip(\"all5_mean:Q\", title=\"Overall Metastasis Potential\")\n",
    "    ]\n",
    ").properties(\n",
    "    title=\"Principal Components: Overall Metastasis Potential\",\n",
    "    width=500,\n",
    "    height=500\n",
    ")\n",
    "\n",
    "alt.hconcat(nonzero_potential_plot, nonzero_penetrance_plot).resolve_scale(\n",
    "    color='independent'\n",
    ")"
   ]
  },
  {
   "cell_type": "code",
   "execution_count": 25,
   "id": "competitive-uruguay",
   "metadata": {},
   "outputs": [],
   "source": [
    "tooltip = [\n",
    "    alt.Tooltip(\"index:N\", title=\"Cell Line\"),\n",
    "    alt.Tooltip(\"all5_mean:Q\", title=\"Potential\"),\n",
    "    alt.Tooltip(\"all5_penetrance:Q\", title=\"Penetrance\")\n",
    "]\n",
    "\n",
    "nonzero_potential_pc1_plot = alt.Chart(nonzero_pca_df).mark_circle(size=60, opacity=1).encode(\n",
    "    x=alt.X(\"all5_mean:Q\"),\n",
    "    y=alt.Y(\"PC1:Q\"),\n",
    "    color=alt.Color(\"all5_mean:Q\", legend=alt.Legend(title=\"Potential\")),\n",
    "    tooltip=tooltip\n",
    ").properties(\n",
    "    title=\"PC1 vs. Potential\",\n",
    "    width=400,\n",
    "    height=400\n",
    ")\n",
    "\n",
    "nonzero_penetrance_pc1_plot = alt.Chart(nonzero_pca_df).mark_circle(size=60, opacity=1).encode(\n",
    "    x=alt.X(\"all5_penetrance:Q\"),\n",
    "    y=alt.Y(\"PC1:Q\"),\n",
    "    color=alt.Color(\"all5_penetrance:Q\", legend=alt.Legend(title=\"Penetrance\")),\n",
    "    tooltip=tooltip\n",
    ").properties(\n",
    "    title=\"PC1 vs. Penetrance\",\n",
    "    width=400,\n",
    "    height=400\n",
    ")\n",
    "\n",
    "nonzero_potential_pc2_plot = alt.Chart(nonzero_pca_df).mark_circle(size=60, opacity=1).encode(\n",
    "    x=alt.X(\"all5_mean:Q\"),\n",
    "    y=alt.Y(\"PC2:Q\"),\n",
    "    color=alt.Color(\"all5_mean:Q\", legend=alt.Legend(title=\"Potential\")),\n",
    "    tooltip=tooltip\n",
    ").properties(\n",
    "    title=\"PC2 vs. Potential\",\n",
    "    width=400,\n",
    "    height=400\n",
    ")\n",
    "\n",
    "nonzero_penetrance_pc2_plot = alt.Chart(nonzero_pca_df).mark_circle(size=60, opacity=1).encode(\n",
    "    x=alt.X(\"all5_penetrance:Q\"),\n",
    "    y=alt.Y(\"PC2:Q\"),\n",
    "    color=alt.Color(\"all5_penetrance:Q\", legend=alt.Legend(title=\"Penetrance\")),\n",
    "    tooltip=tooltip\n",
    ").properties(\n",
    "    title=\"PC2 vs. Penetrance\",\n",
    "    width=400,\n",
    "    height=400\n",
    ")\n",
    "\n",
    "pc1_and_pc2_plot = alt.vconcat(alt.hconcat(nonzero_potential_pc1_plot, nonzero_penetrance_pc1_plot).resolve_scale(\n",
    "    color='independent'\n",
    "), alt.hconcat(nonzero_potential_pc2_plot, nonzero_penetrance_pc2_plot).resolve_scale(\n",
    "    color='independent'\n",
    ")).resolve_scale(\n",
    "    color='independent'\n",
    ")\n",
    "\n",
    "pc1_and_pc2_plot"
   ]
  },
  {
   "cell_type": "code",
   "execution_count": 26,
   "id": "unusual-gentleman",
   "metadata": {},
   "outputs": [],
   "source": [
    "alt_save(pc1_and_pc2_plot, snakemake.output['pca_plot_2'])"
   ]
  },
  {
   "cell_type": "code",
   "execution_count": 27,
   "id": "faced-routine",
   "metadata": {},
   "outputs": [],
   "source": [
    "def get_tissue_plot(tissue):\n",
    "    return alt.Chart(nonzero_pca_df).mark_circle(size=40, opacity=1).encode(\n",
    "        x=alt.X(f\"{tissue}:Q\"),\n",
    "        y=alt.Y(\"PC1:Q\"),\n",
    "        color=alt.Color(\"all5_mean:Q\", legend=alt.Legend(title=\"Overall Potential\"), scale=alt.Scale(domain=[-4, 3])),\n",
    "        tooltip=tooltip\n",
    "    ).properties(\n",
    "        title=f\"PC1 vs. {tissue} potential\",\n",
    "        width=300,\n",
    "        height=300\n",
    "    )\n",
    "\n",
    "brain_plot = get_tissue_plot(\"brain\")\n",
    "lung_plot = get_tissue_plot(\"lung\")\n",
    "liver_plot = get_tissue_plot(\"liver\")\n",
    "bone_plot = get_tissue_plot(\"bone\")\n",
    "kidney_plot = get_tissue_plot(\"kidney\")\n",
    "\n",
    "pc1_by_organ_plot = alt.hconcat(brain_plot, lung_plot, liver_plot, bone_plot, kidney_plot)\n",
    "\n",
    "pc1_by_organ_plot"
   ]
  },
  {
   "cell_type": "code",
   "execution_count": 28,
   "id": "attended-iceland",
   "metadata": {},
   "outputs": [],
   "source": [
    "alt_save(pc1_by_organ_plot, snakemake.output['pca_plot_3'])"
   ]
  },
  {
   "cell_type": "code",
   "execution_count": 29,
   "id": "fabulous-motor",
   "metadata": {},
   "outputs": [],
   "source": [
    "def get_overall_by_tissue_plot(tissue):\n",
    "    return alt.Chart(nonzero_pca_df).mark_circle(size=40, opacity=1).encode(\n",
    "        x=alt.X(f\"{tissue}:Q\"),\n",
    "        y=alt.Y(\"all5_mean:Q\", axis=alt.Axis(title=\"Overall Potential\")),\n",
    "        color=alt.Color(\"all5_mean:Q\", legend=alt.Legend(title=\"Overall Potential\"), scale=alt.Scale(domain=[-4, 3])),\n",
    "        tooltip=tooltip\n",
    "    ).properties(\n",
    "        title=f\"Overall vs. {tissue} potential\",\n",
    "        width=300,\n",
    "        height=300\n",
    "    )\n",
    "\n",
    "brain_plot = get_overall_by_tissue_plot(\"brain\")\n",
    "lung_plot = get_overall_by_tissue_plot(\"lung\")\n",
    "liver_plot = get_overall_by_tissue_plot(\"liver\")\n",
    "bone_plot = get_overall_by_tissue_plot(\"bone\")\n",
    "kidney_plot = get_overall_by_tissue_plot(\"kidney\")\n",
    "\n",
    "overall_by_organ_plot = alt.hconcat(brain_plot, lung_plot, liver_plot, bone_plot, kidney_plot)\n",
    "\n",
    "overall_by_organ_plot"
   ]
  },
  {
   "cell_type": "code",
   "execution_count": 30,
   "id": "global-traffic",
   "metadata": {},
   "outputs": [],
   "source": [
    "alt_save(overall_by_organ_plot, snakemake.output['pca_plot_4'])"
   ]
  },
  {
   "cell_type": "code",
   "execution_count": null,
   "id": "impressed-engagement",
   "metadata": {},
   "outputs": [],
   "source": []
  }
 ],
 "metadata": {
  "kernelspec": {
   "display_name": "Python 3",
   "language": "python",
   "name": "python3"
  },
  "language_info": {
   "codemirror_mode": {
    "name": "ipython",
    "version": 3
   },
   "file_extension": ".py",
   "mimetype": "text/x-python",
   "name": "python",
   "nbconvert_exporter": "python",
   "pygments_lexer": "ipython3",
   "version": "3.8.8"
  }
 },
 "nbformat": 4,
 "nbformat_minor": 5
}
