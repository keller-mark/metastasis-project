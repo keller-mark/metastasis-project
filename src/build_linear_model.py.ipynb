{
 "cells": [
  {
   "cell_type": "code",
   "execution_count": 2,
   "id": "beginning-chemistry",
   "metadata": {},
   "outputs": [],
   "source": [
    "# start coding here"
   ]
  },
  {
   "cell_type": "code",
   "execution_count": 57,
   "id": "assured-inside",
   "metadata": {},
   "outputs": [],
   "source": [
    "from anndata import read_h5ad, AnnData\n",
    "import pandas as pd\n",
    "import numpy as np\n",
    "from sklearn.linear_model import LinearRegression\n",
    "from sklearn.model_selection import train_test_split\n",
    "from sklearn.metrics import mean_squared_error, r2_score\n",
    "import matplotlib.pyplot as plt"
   ]
  },
  {
   "cell_type": "code",
   "execution_count": 58,
   "id": "native-examination",
   "metadata": {},
   "outputs": [],
   "source": [
    "coexp_adata = read_h5ad(snakemake.input['tm_ccle_coexp'])\n",
    "metmap_tissue = snakemake.params['metmap_tissue']"
   ]
  },
  {
   "cell_type": "code",
   "execution_count": 59,
   "id": "focused-dublin",
   "metadata": {},
   "outputs": [],
   "source": [
    "metmap_tissue"
   ]
  },
  {
   "cell_type": "code",
   "execution_count": 60,
   "id": "smooth-exemption",
   "metadata": {},
   "outputs": [],
   "source": [
    "coexp_adata.obs"
   ]
  },
  {
   "cell_type": "code",
   "execution_count": 61,
   "id": "specialized-setting",
   "metadata": {},
   "outputs": [],
   "source": [
    "coef_df = pd.DataFrame(columns=[\"cell_ontology_id\", \"metmap_tissue\", \"MSE\", \"R2\"])\n",
    "coef_arr = []"
   ]
  },
  {
   "cell_type": "code",
   "execution_count": 62,
   "id": "unlikely-fight",
   "metadata": {},
   "outputs": [],
   "source": [
    "# Build a regression model for each cell type\n",
    "cell_ontology_ids = coexp_adata.obs['cell_ontology_id'].unique().tolist()\n",
    "for cell_ontology_id in cell_ontology_ids:\n",
    "    ct_coexp_adata = coexp_adata[coexp_adata.obs['cell_ontology_id'] == cell_ontology_id, :]\n",
    "    # Metastatic potential, the response variable\n",
    "    y = ct_coexp_adata.obs['met_potential_mean'].values\n",
    "\n",
    "    X = ct_coexp_adata.X.toarray()\n",
    "    X_train, X_test, y_train, y_test = train_test_split(X, y, test_size=0.33, random_state=2445)\n",
    "    \n",
    "    regr = LinearRegression()\n",
    "\n",
    "    # Train the model using the training sets\n",
    "    regr.fit(X_train, y_train)\n",
    "\n",
    "    # Make predictions using the testing set\n",
    "    y_pred = regr.predict(X_test)\n",
    "\n",
    "    #print('Coefficients: \\n', regr.coef_)\n",
    "    print('Mean squared error: %.2f' % mean_squared_error(y_test, y_pred))\n",
    "    # The coefficient of determination: 1 is perfect prediction\n",
    "    print('Coefficient of determination: %.2f' % r2_score(y_test, y_pred))\n",
    "    \n",
    "    coef_df = coef_df.append({\n",
    "        \"cell_ontology_id\": cell_ontology_id,\n",
    "        \"metmap_tissue\": metmap_tissue,\n",
    "        \"MSE\": mean_squared_error(y_test, y_pred),\n",
    "        \"R2\": r2_score(y_test, y_pred)\n",
    "    }, ignore_index=True)\n",
    "    coef_arr.append(regr.coef_)"
   ]
  },
  {
   "cell_type": "code",
   "execution_count": 63,
   "id": "overhead-trauma",
   "metadata": {},
   "outputs": [],
   "source": [
    "coef_X = np.stack(coef_arr, axis=-1).T"
   ]
  },
  {
   "cell_type": "code",
   "execution_count": 64,
   "id": "found-desperate",
   "metadata": {},
   "outputs": [],
   "source": [
    "coef_df.shape"
   ]
  },
  {
   "cell_type": "code",
   "execution_count": 65,
   "id": "attractive-export",
   "metadata": {},
   "outputs": [],
   "source": [
    "coef_adata = AnnData(X=coef_X, obs=coef_df)\n",
    "coef_adata.write(snakemake.output[0])"
   ]
  },
  {
   "cell_type": "code",
   "execution_count": 66,
   "id": "engaged-catering",
   "metadata": {},
   "outputs": [],
   "source": [
    "coef_adata.obs"
   ]
  },
  {
   "cell_type": "code",
   "execution_count": null,
   "id": "therapeutic-saudi",
   "metadata": {},
   "outputs": [],
   "source": []
  }
 ],
 "metadata": {
  "kernelspec": {
   "display_name": "Python 3",
   "language": "python",
   "name": "python3"
  },
  "language_info": {
   "codemirror_mode": {
    "name": "ipython",
    "version": 3
   },
   "file_extension": ".py",
   "mimetype": "text/x-python",
   "name": "python",
   "nbconvert_exporter": "python",
   "pygments_lexer": "ipython3",
   "version": "3.8.8"
  }
 },
 "nbformat": 4,
 "nbformat_minor": 5
}
