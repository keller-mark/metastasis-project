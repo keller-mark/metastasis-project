{
 "cells": [
  {
   "cell_type": "code",
   "execution_count": 15,
   "id": "alive-domain",
   "metadata": {},
   "outputs": [],
   "source": [
    "import pandas as pd\n",
    "import numpy as np\n",
    "from anndata import read_h5ad, AnnData\n",
    "\n",
    "from sklearn.model_selection import StratifiedKFold"
   ]
  },
  {
   "cell_type": "code",
   "execution_count": 16,
   "id": "sacred-andorra",
   "metadata": {},
   "outputs": [],
   "source": [
    "num_folds = snakemake.params[\"num_folds\"]"
   ]
  },
  {
   "cell_type": "code",
   "execution_count": 17,
   "id": "norman-billion",
   "metadata": {},
   "outputs": [],
   "source": [
    "ccle_adata = read_h5ad(snakemake.input['ccle_exp'])"
   ]
  },
  {
   "cell_type": "code",
   "execution_count": 18,
   "id": "tribal-arlington",
   "metadata": {},
   "outputs": [],
   "source": [
    "mm_all_df = pd.read_excel(snakemake.input['mm_potential'], sheet_name=f\"metp500.all5\", index_col=0)"
   ]
  },
  {
   "cell_type": "code",
   "execution_count": 19,
   "id": "stuck-stations",
   "metadata": {},
   "outputs": [],
   "source": [
    "mm_celllines = mm_all_df.index.values.tolist()\n",
    "cellline_intersect = set(ccle_adata.obs.index.values.tolist()).intersection(set(mm_celllines))\n",
    "num_cellines = len(cellline_intersect)\n",
    "num_cellines"
   ]
  },
  {
   "cell_type": "code",
   "execution_count": 20,
   "id": "opening-arrangement",
   "metadata": {},
   "outputs": [],
   "source": [
    "ccle_adata.obs = ccle_adata.obs.merge(mm_all_df, how=\"left\", left_index=True, right_index=True)"
   ]
  },
  {
   "cell_type": "code",
   "execution_count": 21,
   "id": "gorgeous-australian",
   "metadata": {},
   "outputs": [],
   "source": [
    "mm_rows = ccle_adata.obs.index.to_series().apply(lambda cid: cid in cellline_intersect)\n",
    "ccle_adata = ccle_adata[mm_rows, :]"
   ]
  },
  {
   "cell_type": "code",
   "execution_count": 22,
   "id": "australian-institute",
   "metadata": {},
   "outputs": [],
   "source": [
    "ccle_adata.obs[\"metastatic\"] = ccle_adata.obs[\"penetrance\"].apply(lambda p: p > 0.0)"
   ]
  },
  {
   "cell_type": "code",
   "execution_count": 23,
   "id": "meaning-transcription",
   "metadata": {},
   "outputs": [],
   "source": [
    "ccle_adata.obs"
   ]
  },
  {
   "cell_type": "code",
   "execution_count": 24,
   "id": "hydraulic-consciousness",
   "metadata": {},
   "outputs": [],
   "source": [
    "random_state = 2445"
   ]
  },
  {
   "cell_type": "code",
   "execution_count": 25,
   "id": "educational-decision",
   "metadata": {},
   "outputs": [],
   "source": [
    "skf = StratifiedKFold(n_splits=num_folds, shuffle=True, random_state=random_state)"
   ]
  },
  {
   "cell_type": "code",
   "execution_count": 31,
   "id": "imposed-tracker",
   "metadata": {},
   "outputs": [],
   "source": [
    "indices = ccle_adata.obs.index.values.tolist()\n",
    "X = np.zeros(num_cellines)\n",
    "y = ccle_adata.obs[\"metastatic\"].values"
   ]
  },
  {
   "cell_type": "code",
   "execution_count": 32,
   "id": "reserved-istanbul",
   "metadata": {},
   "outputs": [],
   "source": [
    "out_cols = [\"fold\", \"cellline\", \"cellline_index\", \"set\"]\n",
    "out_df = pd.DataFrame(columns=[\"fold\", \"cellline\", \"cellline_index\", \"set\"])\n",
    "\n",
    "for fold_i, (train_indices, test_indices) in enumerate(skf.split(X, y)):\n",
    "    for train_i in train_indices:\n",
    "        out_df = out_df.append({\n",
    "            \"fold\": fold_i,\n",
    "            \"cellline\": indices[train_i],\n",
    "            \"cellline_index\": train_i,\n",
    "            \"set\": \"train\"\n",
    "        }, ignore_index=True)\n",
    "    for test_i in test_indices:\n",
    "        out_df = out_df.append({\n",
    "            \"fold\": fold_i,\n",
    "            \"cellline\": indices[test_i],\n",
    "            \"cellline_index\": test_i,\n",
    "            \"set\": \"test\"\n",
    "        }, ignore_index=True)\n",
    "\n"
   ]
  },
  {
   "cell_type": "code",
   "execution_count": 33,
   "id": "individual-diversity",
   "metadata": {},
   "outputs": [],
   "source": [
    "out_df.to_csv(snakemake.output[0])"
   ]
  },
  {
   "cell_type": "code",
   "execution_count": null,
   "id": "green-safety",
   "metadata": {},
   "outputs": [],
   "source": []
  }
 ],
 "metadata": {
  "kernelspec": {
   "display_name": "Python 3",
   "language": "python",
   "name": "python3"
  },
  "language_info": {
   "codemirror_mode": {
    "name": "ipython",
    "version": 3
   },
   "file_extension": ".py",
   "mimetype": "text/x-python",
   "name": "python",
   "nbconvert_exporter": "python",
   "pygments_lexer": "ipython3",
   "version": "3.8.8"
  }
 },
 "nbformat": 4,
 "nbformat_minor": 5
}
