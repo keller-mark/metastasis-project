{
 "cells": [
  {
   "cell_type": "code",
   "execution_count": 127,
   "id": "anonymous-bread",
   "metadata": {},
   "outputs": [],
   "source": [
    "from utils import *\n",
    "import scanpy as sc\n",
    "import matplotlib.pyplot as plt"
   ]
  },
  {
   "cell_type": "code",
   "execution_count": 128,
   "id": "younger-engagement",
   "metadata": {},
   "outputs": [],
   "source": [
    "counts_df = pd.read_csv(snakemake.input[\"counts\"], index_col=0)\n",
    "conditions_df = pd.read_csv(snakemake.input[\"conditions\"], index_col=0)\n",
    "deseq_df = pd.read_csv(snakemake.input[\"deseq\"], index_col=0)"
   ]
  },
  {
   "cell_type": "code",
   "execution_count": 87,
   "id": "median-venture",
   "metadata": {},
   "outputs": [],
   "source": [
    "significant = (deseq_df[\"padj\"] <= 0.01) & (abs(deseq_df[\"log2FoldChange\"]) >= 3.0)"
   ]
  },
  {
   "cell_type": "code",
   "execution_count": 88,
   "id": "rolled-symposium",
   "metadata": {},
   "outputs": [],
   "source": [
    "counts_sig_df = counts_df.T.loc[significant].T\n",
    "deseq_sig_df = deseq_df.loc[significant]"
   ]
  },
  {
   "cell_type": "code",
   "execution_count": 133,
   "id": "unsigned-headline",
   "metadata": {},
   "outputs": [],
   "source": [
    "conditions_df = conditions_df.sort_values(by=[\"metastatic\", \"mean\"])\n",
    "deseq_sig_df = deseq_sig_df.sort_values(by=\"log2FoldChange\")\n",
    "counts_sig_df = counts_sig_df.loc[conditions_df.index.values.tolist()][deseq_sig_df.index.values.tolist()]"
   ]
  },
  {
   "cell_type": "code",
   "execution_count": 134,
   "id": "informative-judgment",
   "metadata": {},
   "outputs": [],
   "source": [
    "conditions_df"
   ]
  },
  {
   "cell_type": "code",
   "execution_count": 135,
   "id": "unexpected-subscriber",
   "metadata": {},
   "outputs": [],
   "source": [
    "deseq_sig_df"
   ]
  },
  {
   "cell_type": "code",
   "execution_count": 136,
   "id": "fifteen-basic",
   "metadata": {},
   "outputs": [],
   "source": [
    "adata = AnnData(X=counts_sig_df.values, var=deseq_sig_df, obs=conditions_df)"
   ]
  },
  {
   "cell_type": "code",
   "execution_count": 137,
   "id": "american-patch",
   "metadata": {},
   "outputs": [],
   "source": [
    "sc.pp.normalize_total(adata, target_sum=1e4)\n",
    "sc.pp.log1p(adata)\n",
    "sc.pp.scale(adata, max_value=10)"
   ]
  },
  {
   "cell_type": "code",
   "execution_count": 140,
   "id": "french-basement",
   "metadata": {},
   "outputs": [],
   "source": [
    "ax = sc.pl.heatmap(adata, var_names=adata.var_names, groupby=\"metastatic\", num_categories=2, show=False)\n",
    "plt.savefig(snakemake.output[\"heatmap_plot\"])"
   ]
  },
  {
   "cell_type": "code",
   "execution_count": null,
   "id": "broken-paraguay",
   "metadata": {},
   "outputs": [],
   "source": []
  }
 ],
 "metadata": {
  "kernelspec": {
   "display_name": "Python 3",
   "language": "python",
   "name": "python3"
  },
  "language_info": {
   "codemirror_mode": {
    "name": "ipython",
    "version": 3
   },
   "file_extension": ".py",
   "mimetype": "text/x-python",
   "name": "python",
   "nbconvert_exporter": "python",
   "pygments_lexer": "ipython3",
   "version": "3.8.8"
  }
 },
 "nbformat": 4,
 "nbformat_minor": 5
}
