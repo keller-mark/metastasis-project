{
 "cells": [
  {
   "cell_type": "code",
   "execution_count": 2,
   "id": "falling-canberra",
   "metadata": {},
   "outputs": [],
   "source": [
    "# start coding here"
   ]
  },
  {
   "cell_type": "code",
   "execution_count": 29,
   "id": "bizarre-investment",
   "metadata": {},
   "outputs": [],
   "source": [
    "from anndata import read_h5ad, AnnData\n",
    "import pandas as pd\n",
    "import numpy as np\n",
    "from sklearn.linear_model import LinearRegression\n",
    "from sklearn.ensemble import RandomForestRegressor\n",
    "from sklearn.model_selection import train_test_split, KFold\n",
    "from sklearn.metrics import mean_squared_error, r2_score\n",
    "\n",
    "import altair as alt\n",
    "from altair_saver import save as alt_save"
   ]
  },
  {
   "cell_type": "code",
   "execution_count": 30,
   "id": "enhanced-blocking",
   "metadata": {},
   "outputs": [],
   "source": [
    "metmap_tissue = snakemake.params['metmap_tissue']\n",
    "model = snakemake.wildcards['model']"
   ]
  },
  {
   "cell_type": "code",
   "execution_count": 31,
   "id": "organizational-cherry",
   "metadata": {},
   "outputs": [],
   "source": [
    "coexp_adata = read_h5ad(snakemake.input[0])"
   ]
  },
  {
   "cell_type": "code",
   "execution_count": 32,
   "id": "extreme-heating",
   "metadata": {},
   "outputs": [],
   "source": [
    "metmap_tissue"
   ]
  },
  {
   "cell_type": "code",
   "execution_count": 33,
   "id": "guilty-johnston",
   "metadata": {},
   "outputs": [],
   "source": [
    "coexp_adata.obs"
   ]
  },
  {
   "cell_type": "code",
   "execution_count": 34,
   "id": "comic-latin",
   "metadata": {},
   "outputs": [],
   "source": [
    "def model_with_linear_regression(cell_ontology_id, cell_ontology_name, ct_coexp_adata, coef_df, coef_arr):\n",
    "    # Metastatic potential, the response variable\n",
    "    y = ct_coexp_adata.obs['met_potential_mean'].values\n",
    "    X = ct_coexp_adata.X.toarray()\n",
    "    \n",
    "    top_coef_meta = None\n",
    "    top_coef_arr = None\n",
    "    best_mse = None\n",
    "    all_y_test = np.array([])\n",
    "    all_y_pred = np.array([])\n",
    "    \n",
    "    folds = []\n",
    "    \n",
    "    kf = KFold(n_splits=5, shuffle=True, random_state=2445)\n",
    "    for fold_i, (train_index, test_index) in enumerate(kf.split(X, y)):\n",
    "        X_train, X_test = X[train_index], X[test_index]\n",
    "        y_train, y_test = y[train_index], y[test_index]\n",
    "        \n",
    "        regr = LinearRegression()\n",
    "\n",
    "        # Train the model using the training sets\n",
    "        regr.fit(X_train, y_train)\n",
    "\n",
    "        # Make predictions using the testing set\n",
    "        y_pred = regr.predict(X_test)\n",
    "        \n",
    "        all_y_test = np.concatenate((all_y_test, y_test))\n",
    "        all_y_pred = np.concatenate((all_y_pred, y_pred))\n",
    "        \n",
    "        mse_val = mean_squared_error(y_test, y_pred)\n",
    "        r2_val = r2_score(y_test, y_pred)\n",
    "        \n",
    "        folds.append({\n",
    "            \"cell_ontology_id\": cell_ontology_id,\n",
    "            \"cell_ontology_name\": cell_ontology_name,\n",
    "            \"fold\": fold_i,\n",
    "            \"MSE\": mse_val,\n",
    "            \"R2\": r2_val\n",
    "        })\n",
    "        \n",
    "        if best_mse is None or mse_val < best_mse:\n",
    "            top_coef_meta = {\n",
    "                \"cell_ontology_id\": cell_ontology_id,\n",
    "                \"cell_ontology_name\": cell_ontology_name,\n",
    "                \"metmap_tissue\": metmap_tissue,\n",
    "                \"MSE\": mse_val,\n",
    "                \"R2\": r2_val,\n",
    "                \"model\": \"LinearRegression\"\n",
    "            }\n",
    "            top_coef_arr = regr.coef_\n",
    "            best_mse = mse_val\n",
    "    \n",
    "    coef_df = coef_df.append(top_coef_meta, ignore_index=True)\n",
    "    coef_arr.append(top_coef_arr)\n",
    "    \n",
    "    pred_df = pd.DataFrame(data=[], columns=[\"y_test\", \"y_pred\"])\n",
    "    pred_df[\"y_test\"] = all_y_test\n",
    "    pred_df[\"y_pred\"] = all_y_pred\n",
    "    \n",
    "    fold_df = pd.DataFrame(data=folds)\n",
    "    \n",
    "    return coef_df, coef_arr, pred_df, fold_df\n",
    "    "
   ]
  },
  {
   "cell_type": "code",
   "execution_count": 35,
   "id": "sophisticated-patio",
   "metadata": {},
   "outputs": [],
   "source": [
    "def model_with_random_forest_regressor(cell_ontology_id, cell_ontology_name, ct_coexp_adata, coef_df, coef_arr):\n",
    "    y = ct_coexp_adata.obs['met_potential_mean'].values\n",
    "    X = ct_coexp_adata.X.toarray()\n",
    "    \n",
    "    top_coef_meta = None\n",
    "    top_coef_arr = None\n",
    "    best_mse = None\n",
    "    all_y_test = np.array([])\n",
    "    all_y_pred = np.array([])\n",
    "    \n",
    "    folds = []\n",
    "    \n",
    "    kf = KFold(n_splits=5, shuffle=True, random_state=2445)\n",
    "    for fold_i, (train_index, test_index) in enumerate(kf.split(X, y)):\n",
    "        X_train, X_test = X[train_index], X[test_index]\n",
    "        y_train, y_test = y[train_index], y[test_index]\n",
    "    \n",
    "    \n",
    "        regr = RandomForestRegressor()\n",
    "\n",
    "        # Train the model using the training sets\n",
    "        regr.fit(X_train, y_train)\n",
    "\n",
    "        # Make predictions using the testing set\n",
    "        y_pred = regr.predict(X_test)\n",
    "\n",
    "        \n",
    "        \n",
    "        all_y_test = np.concatenate((all_y_test, y_test))\n",
    "        all_y_pred = np.concatenate((all_y_pred, y_pred))\n",
    "        \n",
    "        mse_val = mean_squared_error(y_test, y_pred)\n",
    "        r2_val = regr.score(X_test, y_test)\n",
    "        \n",
    "        folds.append({\n",
    "            \"cell_ontology_id\": cell_ontology_id,\n",
    "            \"cell_ontology_name\": cell_ontology_name,\n",
    "            \"fold\": fold_i,\n",
    "            \"MSE\": mse_val,\n",
    "            \"R2\": r2_val\n",
    "        })\n",
    "        \n",
    "        if best_mse is None or mse_val < best_mse:\n",
    "            top_coef_meta = {\n",
    "                \"cell_ontology_id\": cell_ontology_id,\n",
    "                \"cell_ontology_name\": cell_ontology_name,\n",
    "                \"metmap_tissue\": metmap_tissue,\n",
    "                \"MSE\": mse_val,\n",
    "                \"R2\": r2_val,\n",
    "                \"model\": \"RandomForestRegressor\"\n",
    "            }\n",
    "            top_coef_arr = regr.feature_importances_\n",
    "            best_mse = mse_val\n",
    "        \n",
    "    \n",
    "    coef_df = coef_df.append(top_coef_meta, ignore_index=True)\n",
    "    coef_arr.append(top_coef_arr)\n",
    "    \n",
    "    pred_df = pd.DataFrame(data=[], columns=[\"y_test\", \"y_pred\"])\n",
    "    pred_df[\"y_test\"] = all_y_test\n",
    "    pred_df[\"y_pred\"] = all_y_pred\n",
    "    \n",
    "    fold_df = pd.DataFrame(data=folds)\n",
    "    \n",
    "    return coef_df, coef_arr, pred_df, fold_df\n",
    "    "
   ]
  },
  {
   "cell_type": "code",
   "execution_count": 36,
   "id": "exciting-norway",
   "metadata": {},
   "outputs": [],
   "source": [
    "coef_df = pd.DataFrame(columns=[\"cell_ontology_id\", \"cell_ontology_name\", \"metmap_tissue\", \"MSE\", \"R2\"])\n",
    "coef_arr = []\n",
    "cell_type_by_fold_df = pd.DataFrame(columns=[\"cell_ontology_id\", \"cell_ontology_name\", \"fold\", \"MSE\", \"R2\"])"
   ]
  },
  {
   "cell_type": "code",
   "execution_count": 37,
   "id": "creative-accordance",
   "metadata": {},
   "outputs": [],
   "source": [
    "best_cell_type_pred_df = None\n",
    "best_cell_type_pred_mse = None\n",
    "best_cell_type_pred_r2 = None\n",
    "best_cell_type_pred_id = None\n",
    "best_cell_type_pred_name = None"
   ]
  },
  {
   "cell_type": "code",
   "execution_count": 38,
   "id": "olive-driving",
   "metadata": {},
   "outputs": [],
   "source": [
    "# Build a regression model for each cell type\n",
    "cell_ontology_ids = coexp_adata.obs['cell_ontology_id'].unique().tolist()\n",
    "\n",
    "for cell_ontology_id in cell_ontology_ids:\n",
    "    ct_coexp_adata = coexp_adata[coexp_adata.obs['cell_ontology_id'] == cell_ontology_id, :]\n",
    "    cell_ontology_name = ct_coexp_adata.obs['cell_ontology_name'].unique().tolist()[0]\n",
    "    if model == \"LinearRegression\":\n",
    "        coef_df, coef_arr, pred_df, fold_df = model_with_linear_regression(cell_ontology_id, cell_ontology_name, ct_coexp_adata, coef_df, coef_arr)\n",
    "    elif model == \"RandomForestRegressor\":\n",
    "        coef_df, coef_arr, pred_df, fold_df = model_with_random_forest_regressor(cell_ontology_id, cell_ontology_name, ct_coexp_adata, coef_df, coef_arr)\n",
    "    \n",
    "    pred_mse = mean_squared_error(pred_df[\"y_test\"].values, pred_df[\"y_pred\"].values)\n",
    "    if best_cell_type_pred_mse is None or pred_mse < best_cell_type_pred_mse:\n",
    "        best_cell_type_pred_df = pred_df\n",
    "        best_cell_type_pred_mse = pred_mse\n",
    "        best_cell_type_pred_r2 = r2_score(pred_df[\"y_test\"].values, pred_df[\"y_pred\"].values)\n",
    "        best_cell_type_pred_id = cell_ontology_id\n",
    "        best_cell_type_pred_name = cell_ontology_name\n",
    "    \n",
    "    cell_type_by_fold_df = cell_type_by_fold_df.append(fold_df, ignore_index=True)"
   ]
  },
  {
   "cell_type": "code",
   "execution_count": 39,
   "id": "streaming-proceeding",
   "metadata": {},
   "outputs": [],
   "source": [
    "coef_df"
   ]
  },
  {
   "cell_type": "code",
   "execution_count": 40,
   "id": "prime-conducting",
   "metadata": {},
   "outputs": [],
   "source": [
    "pred_df = best_cell_type_pred_df"
   ]
  },
  {
   "cell_type": "code",
   "execution_count": 41,
   "id": "agreed-insertion",
   "metadata": {},
   "outputs": [],
   "source": [
    "min_val = pred_df.min().min()\n",
    "max_val = pred_df.max().max()\n",
    "\n",
    "pred_plot = alt.Chart(pred_df).mark_point().encode(\n",
    "    x=alt.X(\"y_test:Q\", scale=alt.Scale(domain=[min_val, max_val])),\n",
    "    y=alt.Y(\"y_pred:Q\", scale=alt.Scale(domain=[min_val, max_val]))\n",
    ").properties(\n",
    "    title={\n",
    "        \"text\": f\"Predicted vs. actual metastasis potential\",\n",
    "        \"subtitle\": f\"{model}, {metmap_tissue} {best_cell_type_pred_name}, MSE: {best_cell_type_pred_mse:.2f}, R^2: {best_cell_type_pred_r2:.2f}\"\n",
    "    }\n",
    ")\n",
    "pred_plot"
   ]
  },
  {
   "cell_type": "code",
   "execution_count": 42,
   "id": "useful-header",
   "metadata": {},
   "outputs": [],
   "source": [
    "fold_plot = alt.Chart(cell_type_by_fold_df).mark_boxplot().encode(\n",
    "    x=alt.X('cell_ontology_name:N', axis=alt.Axis(title=\"Cell Ontology Name\")),\n",
    "    y=alt.Y('MSE:Q')\n",
    ").properties(\n",
    "    title={\n",
    "        \"text\": f\"5-fold CV MSE per Cell Type\",\n",
    "        \"subtitle\": f\"{model}, {metmap_tissue}\"\n",
    "    }\n",
    ")\n",
    "\n",
    "fold_plot"
   ]
  },
  {
   "cell_type": "code",
   "execution_count": 43,
   "id": "smooth-method",
   "metadata": {},
   "outputs": [],
   "source": [
    "coef_X = np.stack(coef_arr, axis=-1).T"
   ]
  },
  {
   "cell_type": "code",
   "execution_count": 44,
   "id": "extreme-violence",
   "metadata": {},
   "outputs": [],
   "source": [
    "coef_df.shape"
   ]
  },
  {
   "cell_type": "code",
   "execution_count": 69,
   "id": "informative-webster",
   "metadata": {},
   "outputs": [],
   "source": [
    "coef_adata = AnnData(X=coef_X, obs=coef_df)\n",
    "coef_adata.write(snakemake.output[\"model\"])"
   ]
  },
  {
   "cell_type": "code",
   "execution_count": null,
   "id": "middle-newton",
   "metadata": {},
   "outputs": [],
   "source": [
    "alt_save(pred_plot, snakemake.output[\"prediction_plot\"])\n",
    "alt_save(fold_plot, snakemake.output[\"mse_plot\"])"
   ]
  }
 ],
 "metadata": {
  "kernelspec": {
   "display_name": "Python 3",
   "language": "python",
   "name": "python3"
  },
  "language_info": {
   "codemirror_mode": {
    "name": "ipython",
    "version": 3
   },
   "file_extension": ".py",
   "mimetype": "text/x-python",
   "name": "python",
   "nbconvert_exporter": "python",
   "pygments_lexer": "ipython3",
   "version": "3.8.8"
  }
 },
 "nbformat": 4,
 "nbformat_minor": 5
}
