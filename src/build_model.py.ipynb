{
 "cells": [
  {
   "cell_type": "code",
   "execution_count": 2,
   "id": "logical-ferry",
   "metadata": {},
   "outputs": [],
   "source": [
    "# start coding here"
   ]
  },
  {
   "cell_type": "code",
   "execution_count": 3,
   "id": "straight-discount",
   "metadata": {},
   "outputs": [],
   "source": [
    "from anndata import read_h5ad, AnnData\n",
    "import pandas as pd\n",
    "import numpy as np\n",
    "from sklearn.linear_model import LinearRegression\n",
    "from sklearn.ensemble import RandomForestRegressor\n",
    "from sklearn.model_selection import train_test_split, KFold\n",
    "from sklearn.metrics import mean_squared_error, r2_score\n",
    "\n",
    "import altair as alt\n",
    "from altair_saver import save as alt_save"
   ]
  },
  {
   "cell_type": "code",
   "execution_count": 4,
   "id": "realistic-listing",
   "metadata": {},
   "outputs": [],
   "source": [
    "metmap_tissue = snakemake.params['metmap_tissue']\n",
    "model = snakemake.wildcards['model']"
   ]
  },
  {
   "cell_type": "code",
   "execution_count": 5,
   "id": "natural-vancouver",
   "metadata": {},
   "outputs": [],
   "source": [
    "coexp_adata = read_h5ad(snakemake.input[0])"
   ]
  },
  {
   "cell_type": "code",
   "execution_count": 6,
   "id": "graduate-meeting",
   "metadata": {},
   "outputs": [],
   "source": [
    "metmap_tissue"
   ]
  },
  {
   "cell_type": "code",
   "execution_count": 7,
   "id": "reserved-pacific",
   "metadata": {},
   "outputs": [],
   "source": [
    "coexp_adata.obs"
   ]
  },
  {
   "cell_type": "code",
   "execution_count": 8,
   "id": "nutritional-diagnosis",
   "metadata": {},
   "outputs": [],
   "source": [
    "def model_with_linear_regression(cell_ontology_id, ct_coexp_adata, coef_df, coef_arr):\n",
    "    # Metastatic potential, the response variable\n",
    "    y = ct_coexp_adata.obs['met_potential_mean'].values\n",
    "    X = ct_coexp_adata.X.toarray()\n",
    "    \n",
    "    top_coef_meta = None\n",
    "    top_coef_arr = None\n",
    "    best_mse = None\n",
    "    all_y_test = np.array([])\n",
    "    all_y_pred = np.array([])\n",
    "    \n",
    "    folds = []\n",
    "    \n",
    "    kf = KFold(n_splits=5, shuffle=True, random_state=2445)\n",
    "    for fold_i, (train_index, test_index) in enumerate(kf.split(X, y)):\n",
    "        X_train, X_test = X[train_index], X[test_index]\n",
    "        y_train, y_test = y[train_index], y[test_index]\n",
    "        \n",
    "        regr = LinearRegression()\n",
    "\n",
    "        # Train the model using the training sets\n",
    "        regr.fit(X_train, y_train)\n",
    "\n",
    "        # Make predictions using the testing set\n",
    "        y_pred = regr.predict(X_test)\n",
    "        \n",
    "        all_y_test = np.concatenate((all_y_test, y_test))\n",
    "        all_y_pred = np.concatenate((all_y_pred, y_pred))\n",
    "        \n",
    "        mse_val = mean_squared_error(y_test, y_pred)\n",
    "        r2_val = r2_score(y_test, y_pred)\n",
    "        \n",
    "        folds.append({\n",
    "            \"cell_ontology_id\": cell_ontology_id,\n",
    "            \"fold\": fold_i,\n",
    "            \"MSE\": mse_val,\n",
    "            \"R2\": r2_val\n",
    "        })\n",
    "        \n",
    "        if best_mse is None or mse_val < best_mse:\n",
    "            top_coef_meta = {\n",
    "                \"cell_ontology_id\": cell_ontology_id,\n",
    "                \"metmap_tissue\": metmap_tissue,\n",
    "                \"MSE\": mse_val,\n",
    "                \"R2\": r2_val,\n",
    "                \"model\": \"LinearRegression\"\n",
    "            }\n",
    "            top_coef_arr = regr.coef_\n",
    "            best_mse = mse_val\n",
    "    \n",
    "    coef_df = coef_df.append(top_coef_meta, ignore_index=True)\n",
    "    coef_arr.append(top_coef_arr)\n",
    "    \n",
    "    pred_df = pd.DataFrame(data=[], columns=[\"y_test\", \"y_pred\"])\n",
    "    pred_df[\"y_test\"] = all_y_test\n",
    "    pred_df[\"y_pred\"] = all_y_pred\n",
    "    \n",
    "    fold_df = pd.DataFrame(data=folds)\n",
    "    \n",
    "    return coef_df, coef_arr, pred_df, fold_df\n",
    "    "
   ]
  },
  {
   "cell_type": "code",
   "execution_count": 9,
   "id": "neither-detector",
   "metadata": {},
   "outputs": [],
   "source": [
    "def model_with_random_forest_regressor(cell_ontology_id, ct_coexp_adata, coef_df, coef_arr):\n",
    "    y = ct_coexp_adata.obs['met_potential_mean'].values\n",
    "    X = ct_coexp_adata.X.toarray()\n",
    "    \n",
    "    top_coef_meta = None\n",
    "    top_coef_arr = None\n",
    "    best_mse = None\n",
    "    all_y_test = np.array([])\n",
    "    all_y_pred = np.array([])\n",
    "    \n",
    "    folds = []\n",
    "    \n",
    "    kf = KFold(n_splits=5, shuffle=True, random_state=2445)\n",
    "    for fold_i, (train_index, test_index) in enumerate(kf.split(X, y)):\n",
    "        X_train, X_test = X[train_index], X[test_index]\n",
    "        y_train, y_test = y[train_index], y[test_index]\n",
    "    \n",
    "    \n",
    "        regr = RandomForestRegressor()\n",
    "\n",
    "        # Train the model using the training sets\n",
    "        regr.fit(X_train, y_train)\n",
    "\n",
    "        # Make predictions using the testing set\n",
    "        y_pred = regr.predict(X_test)\n",
    "\n",
    "        \n",
    "        \n",
    "        all_y_test = np.concatenate((all_y_test, y_test))\n",
    "        all_y_pred = np.concatenate((all_y_pred, y_pred))\n",
    "        \n",
    "        mse_val = mean_squared_error(y_test, y_pred)\n",
    "        r2_val = regr.score(X_test, y_test)\n",
    "        \n",
    "        folds.append({\n",
    "            \"cell_ontology_id\": cell_ontology_id,\n",
    "            \"fold\": fold_i,\n",
    "            \"MSE\": mse_val,\n",
    "            \"R2\": r2_val\n",
    "        })\n",
    "        \n",
    "        if best_mse is None or mse_val < best_mse:\n",
    "            top_coef_meta = {\n",
    "                \"cell_ontology_id\": cell_ontology_id,\n",
    "                \"metmap_tissue\": metmap_tissue,\n",
    "                \"MSE\": mse_val,\n",
    "                \"R2\": r2_val,\n",
    "                \"model\": \"RandomForestRegressor\"\n",
    "            }\n",
    "            top_coef_arr = regr.feature_importances_\n",
    "            best_mse = mse_val\n",
    "        \n",
    "    \n",
    "    coef_df = coef_df.append(top_coef_meta, ignore_index=True)\n",
    "    coef_arr.append(top_coef_arr)\n",
    "    \n",
    "    pred_df = pd.DataFrame(data=[], columns=[\"y_test\", \"y_pred\"])\n",
    "    pred_df[\"y_test\"] = all_y_test\n",
    "    pred_df[\"y_pred\"] = all_y_pred\n",
    "    \n",
    "    fold_df = pd.DataFrame(data=folds)\n",
    "    \n",
    "    return coef_df, coef_arr, pred_df, fold_df\n",
    "    "
   ]
  },
  {
   "cell_type": "code",
   "execution_count": 10,
   "id": "stupid-kinase",
   "metadata": {},
   "outputs": [],
   "source": [
    "coef_df = pd.DataFrame(columns=[\"cell_ontology_id\", \"metmap_tissue\", \"MSE\", \"R2\"])\n",
    "coef_arr = []\n",
    "cell_type_by_fold_df = pd.DataFrame(columns=[\"cell_ontology_id\", \"fold\", \"MSE\", \"R2\"])"
   ]
  },
  {
   "cell_type": "code",
   "execution_count": 11,
   "id": "separated-carnival",
   "metadata": {},
   "outputs": [],
   "source": [
    "best_cell_type_pred_df = None\n",
    "best_cell_type_pred_mse = None\n",
    "best_cell_type_pred_r2 = None\n",
    "best_cell_type_pred = None"
   ]
  },
  {
   "cell_type": "code",
   "execution_count": 12,
   "id": "abandoned-recording",
   "metadata": {},
   "outputs": [],
   "source": [
    "# Build a regression model for each cell type\n",
    "cell_ontology_ids = coexp_adata.obs['cell_ontology_id'].unique().tolist()\n",
    "\n",
    "for cell_type in cell_ontology_ids:\n",
    "    ct_coexp_adata = coexp_adata[coexp_adata.obs['cell_ontology_id'] == cell_type, :]\n",
    "    if model == \"LinearRegression\":\n",
    "        coef_df, coef_arr, pred_df, fold_df = model_with_linear_regression(cell_type, ct_coexp_adata, coef_df, coef_arr)\n",
    "    elif model == \"RandomForestRegressor\":\n",
    "        coef_df, coef_arr, pred_df, fold_df = model_with_random_forest_regressor(cell_type, ct_coexp_adata, coef_df, coef_arr)\n",
    "    \n",
    "    pred_mse = mean_squared_error(pred_df[\"y_test\"].values, pred_df[\"y_pred\"].values)\n",
    "    if best_cell_type_pred_mse is None or pred_mse < best_cell_type_pred_mse:\n",
    "        best_cell_type_pred_df = pred_df\n",
    "        best_cell_type_pred_mse = pred_mse\n",
    "        best_cell_type_pred_r2 = r2_score(pred_df[\"y_test\"].values, pred_df[\"y_pred\"].values)\n",
    "        best_cell_type_pred = cell_type\n",
    "    \n",
    "    cell_type_by_fold_df = cell_type_by_fold_df.append(fold_df, ignore_index=True)"
   ]
  },
  {
   "cell_type": "code",
   "execution_count": 13,
   "id": "crude-combining",
   "metadata": {},
   "outputs": [],
   "source": [
    "pred_df = best_cell_type_pred_df"
   ]
  },
  {
   "cell_type": "code",
   "execution_count": 14,
   "id": "plastic-cutting",
   "metadata": {},
   "outputs": [],
   "source": [
    "min_val = pred_df.min().min()\n",
    "max_val = pred_df.max().max()\n",
    "\n",
    "pred_plot = alt.Chart(pred_df).mark_point().encode(\n",
    "    x=alt.X(\"y_test:Q\", scale=alt.Scale(domain=[min_val, max_val])),\n",
    "    y=alt.Y(\"y_pred:Q\", scale=alt.Scale(domain=[min_val, max_val]))\n",
    ").properties(\n",
    "    title={\n",
    "        \"text\": f\"Predicted vs. actual metastasis potential\",\n",
    "        \"subtitle\": f\"{model}, {metmap_tissue} {best_cell_type_pred}, MSE: {best_cell_type_pred_mse:.2f}, R^2: {best_cell_type_pred_r2:.2f}\"\n",
    "    }\n",
    ")\n",
    "pred_plot"
   ]
  },
  {
   "cell_type": "code",
   "execution_count": 16,
   "id": "nutritional-johns",
   "metadata": {},
   "outputs": [],
   "source": [
    "fold_plot = alt.Chart(cell_type_by_fold_df).mark_boxplot().encode(\n",
    "    x=alt.X('cell_ontology_id:N', axis=alt.Axis(title=\"Cell Ontology ID\")),\n",
    "    y=alt.Y('MSE:Q', axis=alt.Axis(title=\"Mean Squared Error\"))\n",
    ").properties(\n",
    "    title={\n",
    "        \"text\": f\"5-fold CV MSE per Cell Type\",\n",
    "        \"subtitle\": f\"{model}, {metmap_tissue}\"\n",
    "    }\n",
    ")\n",
    "\n",
    "fold_plot"
   ]
  },
  {
   "cell_type": "code",
   "execution_count": 115,
   "id": "bibliographic-heart",
   "metadata": {},
   "outputs": [],
   "source": [
    "coef_X = np.stack(coef_arr, axis=-1).T"
   ]
  },
  {
   "cell_type": "code",
   "execution_count": 108,
   "id": "eligible-ballot",
   "metadata": {},
   "outputs": [],
   "source": [
    "coef_df.shape"
   ]
  },
  {
   "cell_type": "code",
   "execution_count": 69,
   "id": "exposed-interest",
   "metadata": {},
   "outputs": [],
   "source": [
    "coef_adata = AnnData(X=coef_X, obs=coef_df)\n",
    "coef_adata.write(snakemake.output[\"model\"])"
   ]
  },
  {
   "cell_type": "code",
   "execution_count": null,
   "id": "measured-rebecca",
   "metadata": {},
   "outputs": [],
   "source": [
    "alt_save(pred_plot, snakemake.output[\"prediction_plot\"])\n",
    "alt_save(fold_plot, snakemake.output[\"mse_plot\"])"
   ]
  }
 ],
 "metadata": {
  "kernelspec": {
   "display_name": "Python 3",
   "language": "python",
   "name": "python3"
  },
  "language_info": {
   "codemirror_mode": {
    "name": "ipython",
    "version": 3
   },
   "file_extension": ".py",
   "mimetype": "text/x-python",
   "name": "python",
   "nbconvert_exporter": "python",
   "pygments_lexer": "ipython3",
   "version": "3.8.8"
  }
 },
 "nbformat": 4,
 "nbformat_minor": 5
}
