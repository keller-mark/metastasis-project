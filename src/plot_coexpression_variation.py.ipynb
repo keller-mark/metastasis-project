{
 "cells": [
  {
   "cell_type": "code",
   "execution_count": 46,
   "id": "entire-corps",
   "metadata": {},
   "outputs": [],
   "source": [
    "from anndata import read_h5ad\n",
    "import pandas as pd\n",
    "import numpy as np\n",
    "from scipy.stats import entropy\n",
    "\n",
    "import altair as alt\n",
    "from altair_saver import save as alt_save\n",
    "\n",
    "alt.data_transformers.disable_max_rows();\n",
    "\n",
    "import matplotlib.pyplot as plt\n",
    "import seaborn as sns"
   ]
  },
  {
   "cell_type": "code",
   "execution_count": 4,
   "id": "needed-technique",
   "metadata": {},
   "outputs": [],
   "source": [
    "interactions_df = pd.read_csv(snakemake.input['interactions'], sep='\\t')\n",
    "interactions_df.head()"
   ]
  },
  {
   "cell_type": "code",
   "execution_count": 5,
   "id": "beautiful-family",
   "metadata": {},
   "outputs": [],
   "source": [
    "# a_and_b: partner A is expressed in human cell line, partner B is expressed in tabula muris\n",
    "# b_and_a: partner A is expressed in tabula muris, partner B is expressed in human cell line"
   ]
  },
  {
   "cell_type": "code",
   "execution_count": 7,
   "id": "violent-governor",
   "metadata": {},
   "outputs": [],
   "source": [
    "def make_interaction_name(a_genes, b_genes):\n",
    "    return \";\".join([ a_gene for a_gene in a_genes if pd.notna(a_gene) ]) + \"__\" + \";\".join([ b_gene for b_gene in b_genes if pd.notna(b_gene) ])"
   ]
  },
  {
   "cell_type": "code",
   "execution_count": 8,
   "id": "plastic-lawsuit",
   "metadata": {},
   "outputs": [],
   "source": [
    "interaction_name_df = pd.DataFrame(columns=['interaction_id', 'interaction_name', 'case'])\n",
    "interaction_name_map = {}\n",
    "\n",
    "for interaction_id, interaction_df in interactions_df.groupby(by=['interaction_id']):\n",
    "    a_interaction_df = interaction_df.loc[interaction_df['a_or_b'] == 'a']\n",
    "    b_interaction_df = interaction_df.loc[interaction_df['a_or_b'] == 'b']\n",
    "    \n",
    "    a_human_genes = a_interaction_df['human_gene'].values.tolist()\n",
    "    a_mouse_genes = a_interaction_df['mouse_gene'].values.tolist()\n",
    "    b_human_genes = b_interaction_df['human_gene'].values.tolist()\n",
    "    b_mouse_genes = b_interaction_df['mouse_gene'].values.tolist()\n",
    "    \n",
    "    a_and_b_name = make_interaction_name(a_human_genes, b_mouse_genes)\n",
    "    b_and_a_name = make_interaction_name(b_human_genes, a_mouse_genes)\n",
    "    \n",
    "    interaction_name_df = interaction_name_df.append({\n",
    "        'interaction_id': interaction_id,\n",
    "        'interaction_name': a_and_b_name,\n",
    "        'case': \"a_and_b\"\n",
    "    }, ignore_index=True)\n",
    "    interaction_name_map[(\"a_and_b\", interaction_id)] = a_and_b_name\n",
    "    interaction_name_df = interaction_name_df.append({\n",
    "        'interaction_id': interaction_id,\n",
    "        'interaction_name': b_and_a_name,\n",
    "        'case': \"b_and_a\"\n",
    "    }, ignore_index=True)\n",
    "    interaction_name_map[(\"b_and_a\", interaction_id)] = b_and_a_name"
   ]
  },
  {
   "cell_type": "code",
   "execution_count": 9,
   "id": "funny-startup",
   "metadata": {},
   "outputs": [],
   "source": [
    "tissue_adata = read_h5ad(snakemake.input['coexpression'])"
   ]
  },
  {
   "cell_type": "code",
   "execution_count": 10,
   "id": "overhead-falls",
   "metadata": {},
   "outputs": [],
   "source": [
    "tissue_adata.var['interaction_name'] = tissue_adata.var.apply(lambda row: interaction_name_map[(row['case'], row['interaction_id'])], axis='columns')"
   ]
  },
  {
   "cell_type": "code",
   "execution_count": 19,
   "id": "offshore-condition",
   "metadata": {},
   "outputs": [],
   "source": [
    "# Rows: cell types and cell lines\n",
    "# Cols: interactions\n",
    "tissue_adata.var.head()"
   ]
  },
  {
   "cell_type": "code",
   "execution_count": 25,
   "id": "coated-matthew",
   "metadata": {},
   "outputs": [],
   "source": [
    "def gini(arr):\n",
    "    # Reference: https://github.com/oliviaguest/gini/blob/master/gini.py\n",
    "    if np.amin(arr) < 0:\n",
    "        # Values cannot be negative:\n",
    "        arr -= np.amin(arr)\n",
    "    # Values cannot be 0:\n",
    "    arr += 0.0000001\n",
    "    # Values must be sorted:\n",
    "    arr = np.sort(arr)\n",
    "    # Index per array element:\n",
    "    index = np.arange(1, arr.shape[0] + 1)\n",
    "    # Number of array elements:\n",
    "    n = arr.shape[0]\n",
    "    # Gini coefficient:\n",
    "    return ((np.sum((2 * index - n  - 1) * arr)) / (n * np.sum(arr)))"
   ]
  },
  {
   "cell_type": "code",
   "execution_count": 76,
   "id": "desirable-renewal",
   "metadata": {},
   "outputs": [],
   "source": [
    "df = pd.DataFrame(columns=[\"cell_ontology_id\", \"interaction_name\", \"variable\", \"value\"])\n",
    "\n",
    "for cell_ontology_id, cell_type_df in tissue_adata.obs.groupby(by=\"cell_ontology_id\"):\n",
    "    cell_type_adata = tissue_adata[tissue_adata.obs[\"cell_ontology_id\"] == cell_ontology_id]\n",
    "    for interaction_i in range(cell_type_adata.X.shape[1]):\n",
    "        arr = cell_type_adata.X[:,interaction_i]\n",
    "        interaction_name = cell_type_adata.var.at[str(interaction_i), \"interaction_name\"]\n",
    "        \n",
    "        gini_value = gini(arr)\n",
    "        entropy_value = entropy(arr)\n",
    "        variance_value = np.var(arr)\n",
    "        \n",
    "        df = df.append({\n",
    "            \"cell_ontology_id\": cell_ontology_id,\n",
    "            \"interaction_name\": interaction_name,\n",
    "            \"variable\": \"gini\",\n",
    "            \"value\": gini_value\n",
    "        }, ignore_index=True)\n",
    "        df = df.append({\n",
    "            \"cell_ontology_id\": cell_ontology_id,\n",
    "            \"interaction_name\": interaction_name,\n",
    "            \"variable\": \"entropy\",\n",
    "            \"value\": entropy_value\n",
    "        }, ignore_index=True)\n",
    "        df = df.append({\n",
    "            \"cell_ontology_id\": cell_ontology_id,\n",
    "            \"interaction_name\": interaction_name,\n",
    "            \"variable\": \"variance\",\n",
    "            \"value\": variance_value\n",
    "        }, ignore_index=True)\n",
    "    \n",
    "    print(cell_ontology_id)"
   ]
  },
  {
   "cell_type": "code",
   "execution_count": 139,
   "id": "continent-sender",
   "metadata": {},
   "outputs": [],
   "source": [
    "def make_plot(df, variable):\n",
    "    filtered_df = df.loc[df[\"variable\"] == variable]\n",
    "    filtered_df[\"value\"] = filtered_df[\"value\"].clip(upper=100000.0)\n",
    "    plot = alt.Chart(filtered_df).mark_bar().encode(\n",
    "        alt.X(\"value:Q\", bin=alt.Bin(maxbins=30), axis=alt.Axis(title=variable)),\n",
    "        y=alt.Y('count()', axis=alt.Axis(title=\"Count of interactions\")),\n",
    "    ).properties(title=f\"Distribution of interaction coexpression variation ({variable})\")\n",
    "    \n",
    "    alt_save(plot, snakemake.output[variable])\n",
    "    \n",
    "    return plot"
   ]
  },
  {
   "cell_type": "code",
   "execution_count": 140,
   "id": "later-trunk",
   "metadata": {},
   "outputs": [],
   "source": [
    "make_plot(df, \"gini\")"
   ]
  },
  {
   "cell_type": "code",
   "execution_count": 141,
   "id": "closed-breakdown",
   "metadata": {},
   "outputs": [],
   "source": [
    "make_plot(df, \"entropy\")"
   ]
  },
  {
   "cell_type": "code",
   "execution_count": 142,
   "id": "still-dover",
   "metadata": {},
   "outputs": [],
   "source": [
    "make_plot(df, \"variance\")"
   ]
  },
  {
   "cell_type": "code",
   "execution_count": null,
   "id": "decent-diagram",
   "metadata": {},
   "outputs": [],
   "source": []
  },
  {
   "cell_type": "code",
   "execution_count": null,
   "id": "boolean-three",
   "metadata": {},
   "outputs": [],
   "source": []
  }
 ],
 "metadata": {
  "kernelspec": {
   "display_name": "Python 3",
   "language": "python",
   "name": "python3"
  },
  "language_info": {
   "codemirror_mode": {
    "name": "ipython",
    "version": 3
   },
   "file_extension": ".py",
   "mimetype": "text/x-python",
   "name": "python",
   "nbconvert_exporter": "python",
   "pygments_lexer": "ipython3",
   "version": "3.8.8"
  }
 },
 "nbformat": 4,
 "nbformat_minor": 5
}
