{
 "cells": [
  {
   "cell_type": "code",
   "execution_count": 38,
   "id": "experimental-religious",
   "metadata": {},
   "outputs": [],
   "source": [
    "import pandas as pd\n",
    "import numpy as np\n",
    "from anndata import read_h5ad, AnnData\n",
    "import scanpy as sc"
   ]
  },
  {
   "cell_type": "code",
   "execution_count": 39,
   "id": "sorted-county",
   "metadata": {},
   "outputs": [],
   "source": [
    "metmap_tissue = snakemake.params['metmap_tissue']\n",
    "curr_fold = int(snakemake.wildcards[\"fold\"])"
   ]
  },
  {
   "cell_type": "markdown",
   "id": "incorrect-premiere",
   "metadata": {},
   "outputs": [],
   "source": [
    "This notebook is similar to `nonmetastatic_deseq_preparation.py.ipynb` except now we need to restrict the differential expression data to training data for the current fold. "
   ]
  },
  {
   "cell_type": "code",
   "execution_count": 40,
   "id": "bacterial-granny",
   "metadata": {},
   "outputs": [],
   "source": [
    "kfold_df = pd.read_csv(snakemake.input['kfold_indices'])\n",
    "kfold_df = kfold_df.loc[(kfold_df[\"fold\"] == curr_fold) & (kfold_df[\"set\"] == \"train\")]\n",
    "kfold_df.head()"
   ]
  },
  {
   "cell_type": "code",
   "execution_count": 41,
   "id": "detected-respect",
   "metadata": {},
   "outputs": [],
   "source": [
    "ccle_adata = read_h5ad(snakemake.input['ccle_exp'])"
   ]
  },
  {
   "cell_type": "code",
   "execution_count": 42,
   "id": "little-montgomery",
   "metadata": {},
   "outputs": [],
   "source": [
    "mm_all_df = pd.read_excel(snakemake.input['mm_potential'], sheet_name=f\"metp500.all5\", index_col=0)\n",
    "mm_tissue_df = pd.read_excel(snakemake.input['mm_potential'], sheet_name=f\"metp500.{metmap_tissue}\", index_col=0)"
   ]
  },
  {
   "cell_type": "code",
   "execution_count": 43,
   "id": "discrete-soccer",
   "metadata": {},
   "outputs": [],
   "source": [
    "fold_celllines = kfold_df[\"cellline\"].values.tolist()"
   ]
  },
  {
   "cell_type": "markdown",
   "id": "raising-parallel",
   "metadata": {},
   "outputs": [],
   "source": [
    "Keep only the data for those cell lines in the training set for the current fold."
   ]
  },
  {
   "cell_type": "code",
   "execution_count": 44,
   "id": "designing-shadow",
   "metadata": {},
   "outputs": [],
   "source": [
    "mm_rows = ccle_adata.obs.index.to_series().apply(lambda cid: cid in fold_celllines)\n",
    "ccle_adata = ccle_adata[mm_rows, :]"
   ]
  },
  {
   "cell_type": "code",
   "execution_count": 45,
   "id": "animated-wiring",
   "metadata": {},
   "outputs": [],
   "source": [
    "ccle_adata.obs = ccle_adata.obs.merge(mm_tissue_df, how=\"left\", left_index=True, right_index=True)"
   ]
  },
  {
   "cell_type": "code",
   "execution_count": 46,
   "id": "brilliant-treasury",
   "metadata": {},
   "outputs": [],
   "source": [
    "ccle_adata.obs[\"metastatic\"] = ccle_adata.obs[\"penetrance\"].apply(lambda p: p > 0.0)"
   ]
  },
  {
   "cell_type": "code",
   "execution_count": 47,
   "id": "judicial-conservative",
   "metadata": {},
   "outputs": [],
   "source": [
    "ccle_adata.obs"
   ]
  },
  {
   "cell_type": "code",
   "execution_count": 48,
   "id": "legendary-awareness",
   "metadata": {},
   "outputs": [],
   "source": [
    "counts_df = pd.DataFrame(data=ccle_adata.X, columns=ccle_adata.var.index.values.tolist(), index=ccle_adata.obs.index.values.tolist())"
   ]
  },
  {
   "cell_type": "code",
   "execution_count": 49,
   "id": "settled-accounting",
   "metadata": {},
   "outputs": [],
   "source": [
    "conditions_df = ccle_adata.obs[[\"mean\", \"penetrance\", \"metastatic\"]]"
   ]
  },
  {
   "cell_type": "code",
   "execution_count": 50,
   "id": "representative-saskatchewan",
   "metadata": {},
   "outputs": [],
   "source": [
    "counts_df.to_csv(snakemake.output[\"counts\"])\n",
    "conditions_df.to_csv(snakemake.output[\"conditions\"])"
   ]
  },
  {
   "cell_type": "code",
   "execution_count": null,
   "id": "protecting-arrangement",
   "metadata": {},
   "outputs": [],
   "source": []
  }
 ],
 "metadata": {
  "kernelspec": {
   "display_name": "Python 3",
   "language": "python",
   "name": "python3"
  },
  "language_info": {
   "codemirror_mode": {
    "name": "ipython",
    "version": 3
   },
   "file_extension": ".py",
   "mimetype": "text/x-python",
   "name": "python",
   "nbconvert_exporter": "python",
   "pygments_lexer": "ipython3",
   "version": "3.8.8"
  }
 },
 "nbformat": 4,
 "nbformat_minor": 5
}
