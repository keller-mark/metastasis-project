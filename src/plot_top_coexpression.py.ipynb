{
 "cells": [
  {
   "cell_type": "code",
   "execution_count": 2,
   "id": "subject-maker",
   "metadata": {},
   "outputs": [],
   "source": [
    "from anndata import read_h5ad\n",
    "import pandas as pd\n",
    "import numpy as np\n",
    "\n",
    "import altair as alt\n",
    "from altair_saver import save as alt_save\n",
    "\n",
    "alt.data_transformers.disable_max_rows();\n",
    "\n",
    "import matplotlib.pyplot as plt\n",
    "import seaborn as sns"
   ]
  },
  {
   "cell_type": "code",
   "execution_count": 3,
   "id": "latter-grade",
   "metadata": {},
   "outputs": [],
   "source": [
    "interactions_df = pd.read_csv(snakemake.input['interactions'], sep='\\t')\n",
    "interactions_df.head()"
   ]
  },
  {
   "cell_type": "code",
   "execution_count": 4,
   "id": "eleven-juvenile",
   "metadata": {},
   "outputs": [],
   "source": [
    "# a_and_b: partner A is expressed in human cell line, partner B is expressed in tabula muris\n",
    "# b_and_a: partner A is expressed in tabula muris, partner B is expressed in human cell line"
   ]
  },
  {
   "cell_type": "code",
   "execution_count": 5,
   "id": "innovative-election",
   "metadata": {},
   "outputs": [],
   "source": [
    "def make_interaction_name(a_genes, b_genes):\n",
    "    return \";\".join([ a_gene for a_gene in a_genes if pd.notna(a_gene) ]) + \"__\" + \";\".join([ b_gene for b_gene in b_genes if pd.notna(b_gene) ])"
   ]
  },
  {
   "cell_type": "code",
   "execution_count": 6,
   "id": "simplified-mailman",
   "metadata": {},
   "outputs": [],
   "source": [
    "interaction_name_df = pd.DataFrame(columns=['interaction_id', 'interaction_name', 'case'])\n",
    "interaction_name_map = {}\n",
    "\n",
    "for interaction_id, interaction_df in interactions_df.groupby(by=['interaction_id']):\n",
    "    a_interaction_df = interaction_df.loc[interaction_df['a_or_b'] == 'a']\n",
    "    b_interaction_df = interaction_df.loc[interaction_df['a_or_b'] == 'b']\n",
    "    \n",
    "    a_human_genes = a_interaction_df['human_gene'].values.tolist()\n",
    "    a_mouse_genes = a_interaction_df['mouse_gene'].values.tolist()\n",
    "    b_human_genes = b_interaction_df['human_gene'].values.tolist()\n",
    "    b_mouse_genes = b_interaction_df['mouse_gene'].values.tolist()\n",
    "    \n",
    "    a_and_b_name = make_interaction_name(a_human_genes, b_mouse_genes)\n",
    "    b_and_a_name = make_interaction_name(b_human_genes, a_mouse_genes)\n",
    "    \n",
    "    interaction_name_df = interaction_name_df.append({\n",
    "        'interaction_id': interaction_id,\n",
    "        'interaction_name': a_and_b_name,\n",
    "        'case': \"a_and_b\"\n",
    "    }, ignore_index=True)\n",
    "    interaction_name_map[(\"a_and_b\", interaction_id)] = a_and_b_name\n",
    "    interaction_name_df = interaction_name_df.append({\n",
    "        'interaction_id': interaction_id,\n",
    "        'interaction_name': b_and_a_name,\n",
    "        'case': \"b_and_a\"\n",
    "    }, ignore_index=True)\n",
    "    interaction_name_map[(\"b_and_a\", interaction_id)] = b_and_a_name"
   ]
  },
  {
   "cell_type": "code",
   "execution_count": 7,
   "id": "attached-investing",
   "metadata": {},
   "outputs": [],
   "source": [
    "tissue_adata = read_h5ad(snakemake.input['coexpression'])"
   ]
  },
  {
   "cell_type": "code",
   "execution_count": 8,
   "id": "statutory-count",
   "metadata": {},
   "outputs": [],
   "source": [
    "tissue_adata = tissue_adata[tissue_adata.obs['met_penetrance'] != 0, :].copy()"
   ]
  },
  {
   "cell_type": "code",
   "execution_count": 9,
   "id": "thick-surgery",
   "metadata": {},
   "outputs": [],
   "source": [
    "tissue_adata.obs"
   ]
  },
  {
   "cell_type": "code",
   "execution_count": 10,
   "id": "ready-drove",
   "metadata": {},
   "outputs": [],
   "source": [
    "tissue_adata.var['interaction_name'] = tissue_adata.var.apply(lambda row: interaction_name_map[(row['case'], row['interaction_id'])], axis='columns')"
   ]
  },
  {
   "cell_type": "code",
   "execution_count": 11,
   "id": "buried-august",
   "metadata": {},
   "outputs": [],
   "source": [
    "tissue_adata.var"
   ]
  },
  {
   "cell_type": "code",
   "execution_count": null,
   "id": "relative-furniture",
   "metadata": {},
   "outputs": [],
   "source": []
  },
  {
   "cell_type": "code",
   "execution_count": 12,
   "id": "automatic-source",
   "metadata": {},
   "outputs": [],
   "source": [
    "# Columns are interactions, rows are (cancer cell line, human cell type) pairs\n",
    "tissue_adata.X.shape"
   ]
  },
  {
   "cell_type": "code",
   "execution_count": 13,
   "id": "vertical-narrow",
   "metadata": {},
   "outputs": [],
   "source": [
    "# For every row (cell line, cell type), get the column indices for the top 5 interactions\n",
    "top_indices = np.argsort(tissue_adata.X, axis=1)[:,-5:]\n",
    "top_indices.shape"
   ]
  },
  {
   "cell_type": "code",
   "execution_count": 14,
   "id": "fifty-experience",
   "metadata": {},
   "outputs": [],
   "source": [
    "top_indices[0,:].shape"
   ]
  },
  {
   "cell_type": "code",
   "execution_count": 15,
   "id": "spiritual-series",
   "metadata": {},
   "outputs": [],
   "source": [
    "tissue_adata.var.iloc[top_indices[0,:]]"
   ]
  },
  {
   "cell_type": "code",
   "execution_count": 18,
   "id": "incorrect-tribune",
   "metadata": {},
   "outputs": [],
   "source": [
    "all_top_interaction_df = pd.DataFrame()"
   ]
  },
  {
   "cell_type": "code",
   "execution_count": 19,
   "id": "monthly-vietnam",
   "metadata": {},
   "outputs": [],
   "source": [
    "for pair_i in range(tissue_adata.X.shape[0]):\n",
    "    top_values = tissue_adata.X[pair_i,top_indices[pair_i,:]]\n",
    "    pair_row = tissue_adata.obs.iloc[pair_i]\n",
    "    top_interaction_df = tissue_adata.var.iloc[top_indices[pair_i,:]].copy()\n",
    "    top_interaction_df['value'] = top_values\n",
    "    top_interaction_df['cell_line'] = pair_row['cell_line']\n",
    "    top_interaction_df['cell_ontology_id'] = pair_row['cell_ontology_id']\n",
    "    top_interaction_df['cell_ontology_name'] = pair_row['cell_ontology_name']\n",
    "    top_interaction_df['met_potential_mean'] = pair_row['met_potential_mean']\n",
    "    top_interaction_df['met_penetrance'] = pair_row['met_penetrance']\n",
    "    top_interaction_df['metmap_tissue'] = pair_row['metmap_tissue']\n",
    "    \n",
    "    all_top_interaction_df = all_top_interaction_df.append(top_interaction_df, ignore_index=True)"
   ]
  },
  {
   "cell_type": "code",
   "execution_count": 20,
   "id": "indirect-scottish",
   "metadata": {},
   "outputs": [],
   "source": [
    "all_top_interaction_df.head()"
   ]
  },
  {
   "cell_type": "code",
   "execution_count": 21,
   "id": "assigned-boundary",
   "metadata": {},
   "outputs": [],
   "source": [
    "len(all_top_interaction_df['cell_line'].unique().tolist())"
   ]
  },
  {
   "cell_type": "code",
   "execution_count": 22,
   "id": "unlikely-headline",
   "metadata": {},
   "outputs": [],
   "source": [
    "ALL_CELLTYPES = all_top_interaction_df['cell_ontology_name'].unique().tolist()\n",
    "\n",
    "celltype_dropdown = alt.binding_select(options=ALL_CELLTYPES)\n",
    "celltype_selection = alt.selection_single(fields=['cell_ontology_name'], bind=celltype_dropdown, name=\"Cell Type\", init={'cell_ontology_name': ALL_CELLTYPES[0]})\n",
    "\n",
    "plot = alt.Chart(all_top_interaction_df).transform_filter(\n",
    "    celltype_selection\n",
    ").mark_bar().encode(\n",
    "    x=alt.X(\"value:Q\"),\n",
    "    y=alt.Y(\"interaction_name:N\", axis=alt.Axis(title=\"Interaction\")),\n",
    "    color=alt.Color(\"interaction_name:N\", legend=alt.Legend(title=\"Interaction\", symbolLimit=100)),\n",
    "    size=alt.Size(\"met_potential_mean:Q\", legend=alt.Legend(title=\"Metastasis Potential\"))\n",
    ").properties(\n",
    "    width=100,\n",
    "    height=100\n",
    ").facet(\n",
    "    facet=alt.Facet('cell_line:N', header=alt.Header(title=\"Cell Line\")),\n",
    "    columns=5\n",
    ").resolve_scale(y='independent', x='independent').add_selection(\n",
    "    celltype_selection\n",
    ")"
   ]
  },
  {
   "cell_type": "code",
   "execution_count": 23,
   "id": "naval-riverside",
   "metadata": {},
   "outputs": [],
   "source": [
    "plot.save(snakemake.output[0], embed_options={'renderer':'svg'})"
   ]
  },
  {
   "cell_type": "code",
   "execution_count": null,
   "id": "corporate-certification",
   "metadata": {},
   "outputs": [],
   "source": []
  }
 ],
 "metadata": {
  "kernelspec": {
   "display_name": "Python 3",
   "language": "python",
   "name": "python3"
  },
  "language_info": {
   "codemirror_mode": {
    "name": "ipython",
    "version": 3
   },
   "file_extension": ".py",
   "mimetype": "text/x-python",
   "name": "python",
   "nbconvert_exporter": "python",
   "pygments_lexer": "ipython3",
   "version": "3.8.8"
  }
 },
 "nbformat": 4,
 "nbformat_minor": 5
}
