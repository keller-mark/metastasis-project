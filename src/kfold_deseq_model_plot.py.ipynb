{
 "cells": [
  {
   "cell_type": "code",
   "execution_count": 4,
   "id": "blank-incident",
   "metadata": {},
   "outputs": [],
   "source": [
    "import json\n",
    "import pandas as pd\n",
    "import numpy as np\n",
    "import altair as alt\n",
    "from altair_saver import save as alt_save"
   ]
  },
  {
   "cell_type": "code",
   "execution_count": 15,
   "id": "rotary-dialogue",
   "metadata": {},
   "outputs": [],
   "source": [
    "metmap_tissues = snakemake.params[\"metmap_tissues\"]\n",
    "tm_to_metmap = snakemake.params[\"tm_to_metmap\"]"
   ]
  },
  {
   "cell_type": "code",
   "execution_count": 16,
   "id": "recorded-black",
   "metadata": {},
   "outputs": [],
   "source": [
    "df = pd.DataFrame(columns=[\"tissue\", \"fold\", \"metric\", \"value\"])\n",
    "\n",
    "for fold_i, fold_input in enumerate(snakemake.input):\n",
    "    with open(fold_input) as f:\n",
    "        fold_results = json.load(f)\n",
    "    for tissue in metmap_tissues:\n",
    "        fold_tissue_results = fold_results[tissue]\n",
    "        for metric, value in fold_tissue_results.items():\n",
    "            df = df.append({\n",
    "                \"tissue\": tm_to_metmap[tissue],\n",
    "                \"fold\": fold_i,\n",
    "                \"metric\": metric,\n",
    "                \"value\": value\n",
    "            }, ignore_index=True)"
   ]
  },
  {
   "cell_type": "code",
   "execution_count": 18,
   "id": "living-routine",
   "metadata": {},
   "outputs": [],
   "source": [
    "plot = alt.Chart(df).mark_boxplot().encode(\n",
    "    x=alt.X(\"tissue:N\"),\n",
    "    y=alt.Y(\"value:Q\"),\n",
    "    column=alt.Column(\"metric:N\")\n",
    ").resolve_scale(y='independent')\n",
    "\n",
    "plot"
   ]
  },
  {
   "cell_type": "code",
   "execution_count": 19,
   "id": "interesting-heading",
   "metadata": {},
   "outputs": [],
   "source": [
    "alt_save(plot, snakemake.output[\"plot\"])"
   ]
  }
 ],
 "metadata": {
  "kernelspec": {
   "display_name": "Python 3",
   "language": "python",
   "name": "python3"
  },
  "language_info": {
   "codemirror_mode": {
    "name": "ipython",
    "version": 3
   },
   "file_extension": ".py",
   "mimetype": "text/x-python",
   "name": "python",
   "nbconvert_exporter": "python",
   "pygments_lexer": "ipython3",
   "version": "3.8.8"
  }
 },
 "nbformat": 4,
 "nbformat_minor": 5
}
