{
 "cells": [
  {
   "cell_type": "code",
   "execution_count": 37,
   "id": "significant-truth",
   "metadata": {},
   "outputs": [],
   "source": [
    "# start coding here\n",
    "import pandas as pd\n",
    "import numpy as np\n",
    "\n",
    "import altair as alt\n",
    "from altair_saver import save as alt_save"
   ]
  },
  {
   "cell_type": "code",
   "execution_count": 38,
   "id": "naked-contrary",
   "metadata": {},
   "outputs": [],
   "source": [
    "o_df = pd.read_csv(snakemake.input['orthologs'], sep='\\t', skiprows=1)\n",
    "gi_df = pd.read_csv(snakemake.input['cpdb_gene_input'])\n",
    "pi_df = pd.read_csv(snakemake.input['cpdb_protein_input'])\n",
    "ci_df = pd.read_csv(snakemake.input['cpdb_complex_input'])\n",
    "ii_df = pd.read_csv(snakemake.input['cpdb_interaction_input'])\n",
    "\n",
    "o_df = o_df.drop(columns=[\n",
    "  \"Gene stable ID version\",\n",
    "  \"Transcript stable ID version\",\n",
    "  \"Mouse protein or transcript stable ID\"\n",
    "])\n",
    "o_df = o_df.rename(columns={\n",
    "  \"Gene stable ID\": \"human_gene_ensembl\",\n",
    "  \"Transcript stable ID\": \"human_transcript_ensembl\",\n",
    "  \"Mouse gene stable ID\": \"mouse_gene_ensembl\",\n",
    "  \"Mouse gene name\": \"mouse_gene\",\n",
    "  \"Mouse orthology confidence [0 low, 1 high]\": \"mouse_orthology_confidence\"\n",
    "})\n",
    "\n",
    "ii_df = ii_df.rename(columns={\n",
    "    \"id_cp_interaction\": \"interaction_id\"\n",
    "})\n",
    "\n",
    "gi_df = gi_df.rename(columns={\n",
    "    \"gene_name\": \"human_gene\",\n",
    "    \"hgnc_symbol\": \"human_gene_hgnc\",\n",
    "    \"ensembl\": \"human_gene_ensembl\"\n",
    "})\n",
    "\n",
    "o_df = o_df.drop(columns=[\"human_transcript_ensembl\"])\n",
    "o_df = o_df.drop_duplicates()"
   ]
  },
  {
   "cell_type": "code",
   "execution_count": 39,
   "id": "unique-inventory",
   "metadata": {},
   "outputs": [],
   "source": [
    "gi_df.head()"
   ]
  },
  {
   "cell_type": "code",
   "execution_count": 40,
   "id": "indoor-feeling",
   "metadata": {},
   "outputs": [],
   "source": [
    "def col_append(df, s):\n",
    "    return df.rename(columns=dict(zip(df.columns.values.tolist(), [f\"{col}{s}\" for col in df.columns.values.tolist()])))"
   ]
  },
  {
   "cell_type": "code",
   "execution_count": 41,
   "id": "special-paraguay",
   "metadata": {},
   "outputs": [],
   "source": [
    "# Keep track of the number of genes for each possible filtering step\n",
    "counts = {\n",
    "    \"orthologs\": {},\n",
    "    \"interactions\": {},\n",
    "    \"proteins\": {},\n",
    "    \"complexes\": {},\n",
    "}"
   ]
  },
  {
   "cell_type": "code",
   "execution_count": 42,
   "id": "french-glance",
   "metadata": {},
   "outputs": [],
   "source": [
    "counts[\"orthologs\"][\"Number of human-mouse orthologs (all genes)\"] = o_df.shape[0]\n",
    "counts[\"orthologs\"][\"Number of human-mouse orthologs (all genes, high confidence orthologs)\"] = o_df.loc[o_df[\"mouse_orthology_confidence\"] == 1].shape[0]\n",
    "counts"
   ]
  },
  {
   "cell_type": "code",
   "execution_count": 43,
   "id": "military-gospel",
   "metadata": {},
   "outputs": [],
   "source": [
    "# Interaction dataframe\n",
    "ii_df.head()"
   ]
  },
  {
   "cell_type": "code",
   "execution_count": 44,
   "id": "floppy-robertson",
   "metadata": {},
   "outputs": [],
   "source": [
    "counts[\"interactions\"][\"Number of interactions\"] = ii_df.shape[0]\n",
    "counts[\"interactions\"][\"Number of binary interactions\"] = ii_df.loc[pd.notna(ii_df['protein_name_a']) & pd.notna(ii_df['protein_name_b'])].shape[0]\n",
    "counts[\"interactions\"][\"Number of complex interactions\"] = ii_df.loc[~pd.notna(ii_df['protein_name_a']) | ~pd.notna(ii_df['protein_name_b'])].shape[0]\n",
    "counts"
   ]
  },
  {
   "cell_type": "markdown",
   "id": "mature-british",
   "metadata": {},
   "outputs": [],
   "source": [
    "# COP: complex or protein"
   ]
  },
  {
   "cell_type": "code",
   "execution_count": 45,
   "id": "tired-palmer",
   "metadata": {},
   "outputs": [],
   "source": [
    "molten_ii_df = ii_df.drop(columns=[\"protein_name_a\", \"protein_name_b\"]).rename(columns={\"partner_a\": \"a\", \"partner_b\": \"b\"}).melt(id_vars=[\"interaction_id\", \"annotation_strategy\", \"source\"], value_name=\"cop_name\", var_name=\"a_or_b\")\n",
    "molten_ii_df.head()"
   ]
  },
  {
   "cell_type": "code",
   "execution_count": 46,
   "id": "satisfactory-activity",
   "metadata": {},
   "outputs": [],
   "source": [
    "# Ultimately, we want to join the gene IDs to the interaction dataframe.\n",
    "# Need to first join with the complex_input, then the gene_input, then the orthologous mouse genes.\n",
    "# Before joining with the gene_input, will need to melt the complex_input rows so that each uniprot ID has its own row."
   ]
  },
  {
   "cell_type": "code",
   "execution_count": 47,
   "id": "adjustable-roman",
   "metadata": {},
   "outputs": [],
   "source": [
    "ci_id_vars = list(set(ci_df.columns.values.tolist()).difference({'uniprot_1', 'uniprot_2', 'uniprot_3', 'uniprot_4'}))\n",
    "molten_ci_df = ci_df.melt(id_vars=ci_id_vars, value_name=\"uniprot\").drop(columns=[\"variable\"]).dropna(subset=[\"uniprot\"])"
   ]
  },
  {
   "cell_type": "code",
   "execution_count": 48,
   "id": "fourth-chemical",
   "metadata": {},
   "outputs": [],
   "source": [
    "counts[\"complexes\"][\"Number of unique protein complexes\"] = ci_df.shape[0]\n",
    "counts[\"proteins\"][\"Number of unique proteins involved in complex interactions\"] = len(molten_ci_df['uniprot'].unique().tolist())\n",
    "counts"
   ]
  },
  {
   "cell_type": "code",
   "execution_count": 49,
   "id": "natural-patio",
   "metadata": {},
   "outputs": [],
   "source": [
    "molten_ci_df.loc[molten_ci_df[\"complex_name\"] == \"IL12\"]"
   ]
  },
  {
   "cell_type": "code",
   "execution_count": 50,
   "id": "temporal-family",
   "metadata": {},
   "outputs": [],
   "source": [
    "molten_ci_df.loc[molten_ci_df[\"complex_name\"] == \"IL12 receptor\"]"
   ]
  },
  {
   "cell_type": "code",
   "execution_count": 51,
   "id": "listed-increase",
   "metadata": {},
   "outputs": [],
   "source": [
    "molten_ci_df.head()"
   ]
  },
  {
   "cell_type": "code",
   "execution_count": 52,
   "id": "novel-publicity",
   "metadata": {},
   "outputs": [],
   "source": [
    "pi_df.head()"
   ]
  },
  {
   "cell_type": "code",
   "execution_count": 53,
   "id": "musical-slave",
   "metadata": {},
   "outputs": [],
   "source": [
    "ii_ci_df = molten_ii_df.merge(molten_ci_df, how=\"left\", left_on=\"cop_name\", right_on=\"complex_name\")\n",
    "ii_ci_df.head()"
   ]
  },
  {
   "cell_type": "code",
   "execution_count": 54,
   "id": "broken-document",
   "metadata": {},
   "outputs": [],
   "source": [
    "ii_ci_df.loc[ii_ci_df[\"interaction_id\"] == \"CPI-CC0041E1D30\"]"
   ]
  },
  {
   "cell_type": "code",
   "execution_count": 55,
   "id": "beautiful-garbage",
   "metadata": {},
   "outputs": [],
   "source": [
    "gi_df.head()"
   ]
  },
  {
   "cell_type": "code",
   "execution_count": 56,
   "id": "empty-swimming",
   "metadata": {},
   "outputs": [],
   "source": [
    "def col_xy(df, col):\n",
    "    x_col = f\"{col}_x\"\n",
    "    y_col = f\"{col}_y\"\n",
    "    df[col] = df.apply(lambda row: row[x_col] if pd.notna(row[x_col]) else row[y_col], axis='columns')\n",
    "    return df.drop(columns=[x_col, y_col])"
   ]
  },
  {
   "cell_type": "code",
   "execution_count": 57,
   "id": "former-restaurant",
   "metadata": {},
   "outputs": [],
   "source": [
    "ii_ci_df[\"is_complex\"] = ii_ci_df.apply(lambda row: pd.notna(row[\"uniprot\"]), axis='columns')\n",
    "ii_ci_df[\"uniprot\"] = ii_ci_df.apply(lambda row: row[\"uniprot\"] if pd.notna(row[\"uniprot\"]) else row[\"cop_name\"], axis='columns')\n",
    "ii_pi_df = ii_ci_df.merge(pi_df, how=\"left\", on=\"uniprot\")\n",
    "\n",
    "ii_pi_df = col_xy(ii_pi_df, \"secreted_highlight\")\n",
    "ii_pi_df = col_xy(ii_pi_df, \"other_desc\")\n",
    "ii_pi_df = col_xy(ii_pi_df, \"integrin\")\n",
    "ii_pi_df = col_xy(ii_pi_df, \"secreted_desc\")\n",
    "ii_pi_df = col_xy(ii_pi_df, \"receptor_desc\")\n",
    "ii_pi_df = col_xy(ii_pi_df, \"receptor\")\n",
    "ii_pi_df = col_xy(ii_pi_df, \"other\")\n",
    "ii_pi_df = col_xy(ii_pi_df, \"transmembrane\")\n",
    "ii_pi_df = col_xy(ii_pi_df, \"secreted\")\n",
    "ii_pi_df = col_xy(ii_pi_df, \"peripheral\")\n",
    "\n",
    "ii_gi_df = ii_pi_df.merge(gi_df, how=\"left\", on=\"uniprot\")\n",
    "ii_gi_df.tail()"
   ]
  },
  {
   "cell_type": "code",
   "execution_count": 58,
   "id": "living-cleaner",
   "metadata": {},
   "outputs": [],
   "source": [
    "ii_gi_df.loc[ii_gi_df[\"interaction_id\"] == \"CPI-SS0FF49C823\", [\"integrin\", \"secreted_highlight\"]]"
   ]
  },
  {
   "cell_type": "code",
   "execution_count": 59,
   "id": "waiting-seventh",
   "metadata": {},
   "outputs": [],
   "source": [
    "# Check that all genes in the interaction dataframe have an associated ensembl human gene ID\n",
    "ii_gi_df.loc[ii_gi_df[\"human_gene_ensembl\"] == np.nan].shape[0]"
   ]
  },
  {
   "cell_type": "code",
   "execution_count": 60,
   "id": "fresh-wealth",
   "metadata": {},
   "outputs": [],
   "source": [
    "ii_o_df = ii_gi_df.merge(o_df, how=\"left\", on=\"human_gene_ensembl\")\n",
    "ii_o_df.head()"
   ]
  },
  {
   "cell_type": "code",
   "execution_count": 61,
   "id": "legendary-africa",
   "metadata": {},
   "outputs": [],
   "source": [
    "num_1_any = 0\n",
    "num_all_any = 0\n",
    "num_1_high = 0\n",
    "num_all_high = 0\n",
    "\n",
    "num_with_transmembrane = 0\n",
    "num_with_peripheral = 0\n",
    "num_with_secreted = 0\n",
    "num_with_secreted_highlight = 0\n",
    "num_with_receptor = 0\n",
    "num_with_integrin = 0\n",
    "\n",
    "for interaction_id, complex_df in ii_o_df.groupby(by=\"interaction_id\"):\n",
    "    if complex_df.loc[complex_df[\"transmembrane\"] == True].shape[0] >= 1:\n",
    "        num_with_transmembrane += 1\n",
    "    if complex_df.loc[complex_df[\"peripheral\"] == True].shape[0] >= 1:\n",
    "        num_with_peripheral += 1\n",
    "    if complex_df.loc[complex_df[\"secreted\"] == True].shape[0] >= 1:\n",
    "        num_with_secreted += 1\n",
    "    if complex_df.loc[complex_df[\"secreted_highlight\"] == True].shape[0] >= 1:\n",
    "        num_with_secreted_highlight += 1\n",
    "    if complex_df.loc[complex_df[\"receptor\"] == True].shape[0] >= 1:\n",
    "        num_with_receptor += 1\n",
    "    if complex_df.loc[complex_df[\"integrin\"] == True].shape[0] >= 1:\n",
    "        num_with_integrin += 1\n",
    "        \n",
    "    \n",
    "    a_df = dict(list(complex_df.groupby(by=\"a_or_b\")))['a']\n",
    "    b_df = dict(list(complex_df.groupby(by=\"a_or_b\")))['b']\n",
    "    \n",
    "    if a_df.loc[pd.notna(a_df[\"mouse_gene_ensembl\"])].shape[0] >= 1 and b_df.loc[pd.notna(b_df[\"mouse_gene_ensembl\"])].shape[0] >= 1:\n",
    "        num_1_any += 1\n",
    "    if a_df.loc[pd.notna(a_df[\"mouse_gene_ensembl\"])].shape[0] == a_df.shape[0] and b_df.loc[pd.notna(b_df[\"mouse_gene_ensembl\"])].shape[0] == b_df.shape[0]:\n",
    "        num_all_any += 1\n",
    "    if a_df.loc[a_df[\"mouse_orthology_confidence\"] == 1.0].shape[0] >= 1 and b_df.loc[b_df[\"mouse_orthology_confidence\"] == 1.0].shape[0] >= 1:\n",
    "        num_1_high += 1\n",
    "    if a_df.loc[a_df[\"mouse_orthology_confidence\"] == 1.0].shape[0] == a_df.shape[0] and b_df.loc[b_df[\"mouse_orthology_confidence\"] == 1.0].shape[0] == b_df.shape[0]:\n",
    "        num_all_high += 1\n",
    "\n",
    "\n",
    "counts[\"interactions\"][\"Number of interactions with at least one protein annotated as transmembrane\"] = num_with_transmembrane\n",
    "counts[\"interactions\"][\"Number of interactions with at least one protein annotated as peripheral\"] = num_with_peripheral\n",
    "counts[\"interactions\"][\"Number of interactions with at least one protein annotated as secreted\"] = num_with_secreted\n",
    "counts[\"interactions\"][\"Number of interactions with at least one protein annotated as secreted_highlight\"] = num_with_secreted_highlight\n",
    "counts[\"interactions\"][\"Number of interactions with at least one protein annotated as receptor\"] = num_with_receptor\n",
    "counts[\"interactions\"][\"Number of interactions with at least one protein annotated as integrin\"] = num_with_integrin\n",
    "\n",
    "counts[\"interactions\"][\"Number of interactions with at least one mouse ortholog for a and b\"] = num_1_any\n",
    "counts[\"interactions\"][\"Number of interactions with all mouse orthologs for a and b\"] = num_all_any\n",
    "counts[\"interactions\"][\"Number of interactions with at least one high confidence mouse ortholog for a and b\"] = num_1_high\n",
    "counts[\"interactions\"][\"Number of interactions with all high confidence mouse orthologs both a and b\"] = num_all_high\n",
    "\n",
    "counts"
   ]
  },
  {
   "cell_type": "code",
   "execution_count": 62,
   "id": "soviet-memorabilia",
   "metadata": {},
   "outputs": [],
   "source": [
    "pd.DataFrame(data=list(counts[\"orthologs\"].items()), columns=[\"key\", \"value\"])"
   ]
  },
  {
   "cell_type": "markdown",
   "id": "stainless-democracy",
   "metadata": {},
   "outputs": [],
   "source": [
    "## Make plots"
   ]
  },
  {
   "cell_type": "code",
   "execution_count": 63,
   "id": "coupled-translation",
   "metadata": {},
   "outputs": [],
   "source": [
    "# Make plot\n",
    "o_plot_df = pd.DataFrame(data=list(counts[\"orthologs\"].items()), columns=[\"key\", \"value\"])\n",
    "\n",
    "o_plot = alt.Chart(o_plot_df).mark_bar().encode(\n",
    "  y=alt.Y(\"key:N\", axis=alt.Axis(labelLimit=1000, title=None)),\n",
    "  x=alt.X(\"value:Q\", axis=alt.Axis(title=\"Count\")),\n",
    ").properties(title=\"Orthologs from Ensembl\")\n",
    "\n",
    "o_plot"
   ]
  },
  {
   "cell_type": "code",
   "execution_count": 64,
   "id": "athletic-stockholm",
   "metadata": {},
   "outputs": [],
   "source": [
    "# Make plot\n",
    "i_plot_df = pd.DataFrame(data=list(counts[\"interactions\"].items()), columns=[\"key\", \"value\"])\n",
    "i_plot_df[\"ortholog\"] = i_plot_df[\"key\"].apply(lambda x: \"mouse ortholog\" in x)\n",
    "\n",
    "i_plot = alt.Chart(i_plot_df).mark_bar().encode(\n",
    "  y=alt.Y(\"key:N\", axis=alt.Axis(labelLimit=1000, title=None), sort=list(counts[\"interactions\"].keys())),\n",
    "  x=alt.X(\"value:Q\", axis=alt.Axis(title=\"Count\")),\n",
    "  color=alt.Color(\"ortholog:N\", legend=None, sort=[True, False])\n",
    ").properties(title=\"Interactions from CellPhoneDB\")\n",
    "\n",
    "i_plot"
   ]
  },
  {
   "cell_type": "code",
   "execution_count": 65,
   "id": "forward-victorian",
   "metadata": {},
   "outputs": [],
   "source": [
    "ii_o_df.to_csv(snakemake.output['table'], sep='\\t', index=False)\n",
    "alt_save(o_plot, snakemake.output['ortholog_plot'])\n",
    "alt_save(i_plot, snakemake.output['interaction_plot'])"
   ]
  },
  {
   "cell_type": "code",
   "execution_count": null,
   "id": "happy-repository",
   "metadata": {},
   "outputs": [],
   "source": []
  },
  {
   "cell_type": "code",
   "execution_count": null,
   "id": "failing-delhi",
   "metadata": {},
   "outputs": [],
   "source": []
  },
  {
   "cell_type": "code",
   "execution_count": null,
   "id": "variable-antigua",
   "metadata": {},
   "outputs": [],
   "source": []
  },
  {
   "cell_type": "code",
   "execution_count": null,
   "id": "fifteen-triumph",
   "metadata": {},
   "outputs": [],
   "source": []
  }
 ],
 "metadata": {
  "kernelspec": {
   "display_name": "Python 3",
   "language": "python",
   "name": "python3"
  },
  "language_info": {
   "codemirror_mode": {
    "name": "ipython",
    "version": 3
   },
   "file_extension": ".py",
   "mimetype": "text/x-python",
   "name": "python",
   "nbconvert_exporter": "python",
   "pygments_lexer": "ipython3",
   "version": "3.8.8"
  }
 },
 "nbformat": 4,
 "nbformat_minor": 5
}
