{
 "cells": [
  {
   "cell_type": "code",
   "execution_count": 151,
   "id": "boring-platform",
   "metadata": {},
   "outputs": [],
   "source": [
    "# start coding here\n",
    "import pandas as pd\n",
    "import numpy as np"
   ]
  },
  {
   "cell_type": "code",
   "execution_count": 179,
   "id": "neither-resolution",
   "metadata": {},
   "outputs": [],
   "source": [
    "o_df = pd.read_csv(snakemake.input['orthologs'], sep='\\t', skiprows=1)\n",
    "gi_df = pd.read_csv(snakemake.input['cpdb_gene_input'])\n",
    "pi_df = pd.read_csv(snakemake.input['cpdb_protein_input'])\n",
    "pc_df = pd.read_csv(snakemake.input['cpdb_protein_curated'])\n",
    "ic_df = pd.read_csv(snakemake.input['cpdb_interaction_curated'])"
   ]
  },
  {
   "cell_type": "code",
   "execution_count": 180,
   "id": "welcome-marsh",
   "metadata": {
    "scrolled": true
   },
   "outputs": [],
   "source": [
    "o_df = o_df.drop(columns=[\n",
    "    \"Gene stable ID version\",\n",
    "    \"Transcript stable ID version\",\n",
    "    \"Mouse protein or transcript stable ID\"\n",
    "])\n",
    "o_df = o_df.rename(columns={\n",
    "    \"Gene stable ID\": \"ensembl\",\n",
    "    \"Transcript stable ID\": \"ensembl_transcript\",\n",
    "    \"Mouse gene stable ID\": \"ensembl_gene_mouse\",\n",
    "    \"Mouse gene name\": \"gene_mouse\",\n",
    "    \"Mouse orthology confidence [0 low, 1 high]\": \"mouse_orthology_confidence\"\n",
    "})\n",
    "#o_df = o_df.loc[o_df[\"mouse_orthology_confidence\"] == 1]\n",
    "o_df = o_df.drop(columns=[\"ensembl_transcript\"])\n",
    "o_df = o_df.drop_duplicates()\n",
    "o_df.head()"
   ]
  },
  {
   "cell_type": "code",
   "execution_count": 181,
   "id": "neutral-trunk",
   "metadata": {},
   "outputs": [],
   "source": [
    "gi_df.head()"
   ]
  },
  {
   "cell_type": "code",
   "execution_count": 182,
   "id": "collected-identifier",
   "metadata": {},
   "outputs": [],
   "source": [
    "pc_df.head()"
   ]
  },
  {
   "cell_type": "code",
   "execution_count": 183,
   "id": "center-legislation",
   "metadata": {},
   "outputs": [],
   "source": [
    "ic_df.head()"
   ]
  },
  {
   "cell_type": "code",
   "execution_count": 184,
   "id": "falling-milan",
   "metadata": {},
   "outputs": [],
   "source": [
    "def col_append(df, s):\n",
    "    return df.rename(columns=dict(zip(df.columns.values.tolist(), [f\"{col}{s}\" for col in df.columns.values.tolist()])))"
   ]
  },
  {
   "cell_type": "code",
   "execution_count": 185,
   "id": "proper-december",
   "metadata": {},
   "outputs": [],
   "source": [
    "gi_a_df = col_append(gi_df, \"_a\")\n",
    "gi_b_df = col_append(gi_df, \"_b\")"
   ]
  },
  {
   "cell_type": "code",
   "execution_count": 186,
   "id": "wireless-passenger",
   "metadata": {},
   "outputs": [],
   "source": [
    "gi_b_df.head()"
   ]
  },
  {
   "cell_type": "code",
   "execution_count": 187,
   "id": "complete-trading",
   "metadata": {},
   "outputs": [],
   "source": [
    "o_a_df = col_append(o_df, \"_a\")\n",
    "o_b_df = col_append(o_df, \"_b\")"
   ]
  },
  {
   "cell_type": "code",
   "execution_count": 188,
   "id": "enclosed-advertising",
   "metadata": {},
   "outputs": [],
   "source": [
    "o_a_df.head()"
   ]
  },
  {
   "cell_type": "code",
   "execution_count": 189,
   "id": "intimate-auckland",
   "metadata": {},
   "outputs": [],
   "source": [
    "ic_gi_df = ic_df.merge(gi_a_df, how=\"inner\", left_on=\"partner_a\", right_on=\"uniprot_a\")\n",
    "ic_gi_df = ic_gi_df.merge(gi_b_df, how=\"inner\", left_on=\"partner_b\", right_on=\"uniprot_b\")\n",
    "ic_gi_df = ic_gi_df.drop(columns=[\"uniprot_a\", \"uniprot_b\"])\n",
    "ic_gi_df.head()"
   ]
  },
  {
   "cell_type": "code",
   "execution_count": 190,
   "id": "dutch-avatar",
   "metadata": {},
   "outputs": [],
   "source": [
    "ic_gi_o_df = ic_gi_df.merge(o_a_df, how=\"inner\", left_on=\"ensembl_a\", right_on=\"ensembl_a\")\n",
    "ic_gi_o_df = ic_gi_o_df.merge(o_b_df, how=\"inner\", left_on=\"ensembl_b\", right_on=\"ensembl_b\")\n",
    "ic_gi_o_df.head()"
   ]
  },
  {
   "cell_type": "code",
   "execution_count": 191,
   "id": "fallen-decision",
   "metadata": {},
   "outputs": [],
   "source": [
    "ic_gi_o_df.shape"
   ]
  },
  {
   "cell_type": "code",
   "execution_count": 192,
   "id": "frank-laser",
   "metadata": {},
   "outputs": [],
   "source": [
    "ic_df.shape"
   ]
  },
  {
   "cell_type": "code",
   "execution_count": null,
   "id": "innocent-cisco",
   "metadata": {},
   "outputs": [],
   "source": []
  }
 ],
 "metadata": {
  "kernelspec": {
   "display_name": "Python 3",
   "language": "python",
   "name": "python3"
  },
  "language_info": {
   "codemirror_mode": {
    "name": "ipython",
    "version": 3
   },
   "file_extension": ".py",
   "mimetype": "text/x-python",
   "name": "python",
   "nbconvert_exporter": "python",
   "pygments_lexer": "ipython3",
   "version": "3.8.8"
  }
 },
 "nbformat": 4,
 "nbformat_minor": 5
}
