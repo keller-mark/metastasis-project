{
 "cells": [
  {
   "cell_type": "code",
   "execution_count": 24,
   "id": "boring-platform",
   "metadata": {},
   "outputs": [],
   "source": [
    "# start coding here\n",
    "import pandas as pd\n",
    "import numpy as np\n",
    "\n",
    "import altair as alt\n",
    "from altair_saver import save"
   ]
  },
  {
   "cell_type": "code",
   "execution_count": 25,
   "id": "neither-resolution",
   "metadata": {},
   "outputs": [],
   "source": [
    "o_df = pd.read_csv(snakemake.input['orthologs'], sep='\\t', skiprows=1)\n",
    "gi_df = pd.read_csv(snakemake.input['cpdb_gene_input'])\n",
    "pi_df = pd.read_csv(snakemake.input['cpdb_protein_input'])\n",
    "pc_df = pd.read_csv(snakemake.input['cpdb_protein_curated'])\n",
    "ic_df = pd.read_csv(snakemake.input['cpdb_interaction_curated'])"
   ]
  },
  {
   "cell_type": "code",
   "execution_count": 26,
   "id": "welcome-marsh",
   "metadata": {
    "scrolled": true
   },
   "outputs": [],
   "source": [
    "o_df = o_df.drop(columns=[\n",
    "  \"Gene stable ID version\",\n",
    "  \"Transcript stable ID version\",\n",
    "  \"Mouse protein or transcript stable ID\"\n",
    "])\n",
    "o_df = o_df.rename(columns={\n",
    "  \"Gene stable ID\": \"ensembl\",\n",
    "  \"Transcript stable ID\": \"ensembl_transcript\",\n",
    "  \"Mouse gene stable ID\": \"ensembl_gene_mouse\",\n",
    "  \"Mouse gene name\": \"gene_mouse\",\n",
    "  \"Mouse orthology confidence [0 low, 1 high]\": \"mouse_orthology_confidence\"\n",
    "})\n",
    "#o_df = o_df.loc[o_df[\"mouse_orthology_confidence\"] == 1]\n",
    "o_df = o_df.drop(columns=[\"ensembl_transcript\"])\n",
    "o_df = o_df.drop_duplicates()"
   ]
  },
  {
   "cell_type": "code",
   "execution_count": 27,
   "id": "falling-milan",
   "metadata": {},
   "outputs": [],
   "source": [
    "def col_append(df, s):\n",
    "    return df.rename(columns=dict(zip(df.columns.values.tolist(), [f\"{col}{s}\" for col in df.columns.values.tolist()])))"
   ]
  },
  {
   "cell_type": "code",
   "execution_count": 28,
   "id": "proper-december",
   "metadata": {},
   "outputs": [],
   "source": [
    "gi_a_df = col_append(gi_df, \"_a\")\n",
    "gi_b_df = col_append(gi_df, \"_b\")"
   ]
  },
  {
   "cell_type": "code",
   "execution_count": 29,
   "id": "complete-trading",
   "metadata": {},
   "outputs": [],
   "source": [
    "o_a_df = col_append(o_df, \"_a\")\n",
    "o_b_df = col_append(o_df, \"_b\")"
   ]
  },
  {
   "cell_type": "code",
   "execution_count": 30,
   "id": "intimate-auckland",
   "metadata": {},
   "outputs": [],
   "source": [
    "print(ic_df.loc[ic_df.duplicated(subset=['partner_a', 'partner_b'], keep=False)])\n",
    "  \n",
    "# TODO: find ortholog for partner_a ONLY\n",
    "# TODO: duplicate all interactions and find orthologs for partner_a (aka partner_b from first half) ONLY\n",
    "\n",
    "ic_gi_df = ic_df.merge(gi_a_df, how=\"inner\", left_on=\"partner_a\", right_on=\"uniprot_a\")\n",
    "ic_gi_df = ic_gi_df.merge(gi_b_df, how=\"inner\", left_on=\"partner_b\", right_on=\"uniprot_b\")\n",
    "ic_gi_df = ic_gi_df.drop(columns=[\"uniprot_a\", \"uniprot_b\"])"
   ]
  },
  {
   "cell_type": "code",
   "execution_count": 31,
   "id": "dutch-avatar",
   "metadata": {},
   "outputs": [],
   "source": [
    "ic_gi_o_df = ic_gi_df.merge(o_a_df, how=\"inner\", left_on=\"ensembl_a\", right_on=\"ensembl_a\")\n",
    "ic_gi_o_df = ic_gi_o_df.merge(o_b_df, how=\"inner\", left_on=\"ensembl_b\", right_on=\"ensembl_b\")"
   ]
  },
  {
   "cell_type": "code",
   "execution_count": 35,
   "id": "fallen-decision",
   "metadata": {},
   "outputs": [],
   "source": [
    "# Make plot\n",
    "\n",
    "counts = [\n",
    "  {\n",
    "    \"name\": \"Human-human interactions\",\n",
    "    \"count\": ic_df.shape[0]\n",
    "  },\n",
    "  {\n",
    "    \"name\": \"Human-human interactions with unique mouse-mouse orthologs\",\n",
    "    \"count\": ic_gi_o_df.shape[0]\n",
    "  },\n",
    "  {\n",
    "    \"name\": \"Unique human-human interactions with mouse-mouse orthologs\",\n",
    "    \"count\": ic_gi_o_df.drop_duplicates(subset=['partner_a', 'partner_b']).shape[0]\n",
    "  }\n",
    "]\n",
    "\n",
    "plot = alt.Chart(pd.DataFrame(data=counts)).mark_bar().encode(\n",
    "  y=alt.Y(\"name:N\", axis=alt.Axis(labelLimit=1000, title=None)),\n",
    "  x=alt.X(\"count:Q\"),\n",
    ").properties(title=\"Number of CellPhoneDB interactions\")\n",
    "\n",
    "plot"
   ]
  },
  {
   "cell_type": "code",
   "execution_count": 33,
   "id": "innocent-cisco",
   "metadata": {},
   "outputs": [],
   "source": [
    "ic_gi_o_df.to_csv(snakemake.output['table'], sep='\\t', index=False)\n",
    "plot.save(snakemake.output['plot'], scale_factor=2.0)"
   ]
  },
  {
   "cell_type": "code",
   "execution_count": null,
   "id": "passive-metabolism",
   "metadata": {},
   "outputs": [],
   "source": []
  }
 ],
 "metadata": {
  "kernelspec": {
   "display_name": "Python 3",
   "language": "python",
   "name": "python3"
  },
  "language_info": {
   "codemirror_mode": {
    "name": "ipython",
    "version": 3
   },
   "file_extension": ".py",
   "mimetype": "text/x-python",
   "name": "python",
   "nbconvert_exporter": "python",
   "pygments_lexer": "ipython3",
   "version": "3.8.8"
  }
 },
 "nbformat": 4,
 "nbformat_minor": 5
}
