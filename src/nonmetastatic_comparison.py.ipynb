{
 "cells": [
  {
   "cell_type": "code",
   "execution_count": 53,
   "id": "hydraulic-director",
   "metadata": {},
   "outputs": [],
   "source": [
    "import pandas as pd\n",
    "import numpy as np\n",
    "\n",
    "import altair as alt\n",
    "from altair_saver import save as alt_save\n",
    "\n",
    "import seaborn as sns\n",
    "from matplotlib import pyplot as plt\n",
    "from adjustText import adjust_text\n",
    "from pyensembl import EnsemblRelease, find_species_by_name, genome_for_reference_name\n",
    "\n",
    "import json\n",
    "import requests"
   ]
  },
  {
   "cell_type": "code",
   "execution_count": 54,
   "id": "thermal-franchise",
   "metadata": {},
   "outputs": [],
   "source": [
    "metmap_tissue = snakemake.params['metmap_tissue']"
   ]
  },
  {
   "cell_type": "code",
   "execution_count": 55,
   "id": "operational-sequence",
   "metadata": {},
   "outputs": [],
   "source": [
    "df = pd.read_csv(snakemake.input['deseq'], index_col=0)"
   ]
  },
  {
   "cell_type": "code",
   "execution_count": 56,
   "id": "exceptional-hypothetical",
   "metadata": {},
   "outputs": [],
   "source": [
    "df.head()"
   ]
  },
  {
   "cell_type": "code",
   "execution_count": 57,
   "id": "defensive-dietary",
   "metadata": {},
   "outputs": [],
   "source": [
    "df[\"minuslog10p\"] = df[\"padj\"].apply(lambda p: -np.log10(p))\n",
    "df[\"significant\"] = df.apply(lambda row: row[\"padj\"] < 0.05 and abs(row[\"log2FoldChange\"]) > 2, axis='columns')"
   ]
  },
  {
   "cell_type": "code",
   "execution_count": 58,
   "id": "exact-mechanism",
   "metadata": {},
   "outputs": [],
   "source": [
    "df[\"should_label\"] = df.apply(lambda row: row[\"minuslog10p\"] > -np.log10(0.00000005) and abs(row[\"log2FoldChange\"]) > 3.5, axis='columns')"
   ]
  },
  {
   "cell_type": "code",
   "execution_count": 59,
   "id": "verified-tenant",
   "metadata": {},
   "outputs": [],
   "source": [
    "er = EnsemblRelease(100, species=find_species_by_name(\"homo_sapiens\"))\n",
    "\n",
    "def get_gene_name(ens_vid):\n",
    "    try:\n",
    "        ens_id = ens_vid.split(\".\")[0]\n",
    "        return er.gene_name_of_gene_id(ens_id)\n",
    "    except ValueError:\n",
    "        return ens_vid\n",
    "df[\"gene_name\"] = df.index.to_series().apply(get_gene_name)"
   ]
  },
  {
   "cell_type": "code",
   "execution_count": 66,
   "id": "continuous-reynolds",
   "metadata": {},
   "outputs": [],
   "source": [
    "df.loc[df[\"gene_name\"].isin([\"MLANA\", \"SLC45A2\", \"DCT\", \"TYR\", \"TRPM1\", \"SLC24A5\"])].index.values.tolist()"
   ]
  },
  {
   "cell_type": "code",
   "execution_count": 19,
   "id": "compatible-assumption",
   "metadata": {},
   "outputs": [],
   "source": [
    "label_df = df.loc[df[\"should_label\"]]"
   ]
  },
  {
   "cell_type": "code",
   "execution_count": 9,
   "id": "mobile-affair",
   "metadata": {},
   "outputs": [],
   "source": [
    "plt.figure(figsize=(8,8))\n",
    "ax = sns.scatterplot(data=df, x=\"log2FoldChange\", y=\"minuslog10p\", hue=\"significant\")\n",
    "texts = [plt.text(label_df.iloc[i][\"log2FoldChange\"], label_df.iloc[i][\"minuslog10p\"], label_df.iloc[i][\"gene_name\"], ha='center', va='center') for i in range(label_df.shape[0])];\n",
    "adjust_text(texts)\n",
    "ax.hlines(y=-np.log10(0.05), xmin=-6, xmax=6, colors='black', linestyles='--', lw=2)\n",
    "plt.title(f\"Differentially expressed genes for {metmap_tissue} metastasis\")\n",
    "plt.xlabel(\"log_2(fold change)\")\n",
    "plt.ylabel(\"-log_10(p)\")\n",
    "plt.savefig(snakemake.output[\"deseq_plot\"]) "
   ]
  },
  {
   "cell_type": "markdown",
   "id": "standard-render",
   "metadata": {},
   "outputs": [],
   "source": [
    "## Use Enrichr to analyze the set of differentially expressed genes\n",
    "\n",
    "Reference: https://maayanlab.cloud/Enrichr/help#api"
   ]
  },
  {
   "cell_type": "code",
   "execution_count": 20,
   "id": "prostate-commodity",
   "metadata": {},
   "outputs": [],
   "source": [
    "df = df.set_index(\"gene_name\")"
   ]
  },
  {
   "cell_type": "code",
   "execution_count": 21,
   "id": "imperial-tuner",
   "metadata": {},
   "outputs": [],
   "source": [
    "met_gene_set = df.loc[df[\"significant\"]].index.values.tolist()\n",
    "nonmet_gene_set = df.loc[~df[\"significant\"]].index.values.tolist()"
   ]
  },
  {
   "cell_type": "code",
   "execution_count": 22,
   "id": "going-stomach",
   "metadata": {},
   "outputs": [],
   "source": [
    "def get_enrichr_df(gene_set, gene_set_desc):\n",
    "    ENRICHR_URL = 'http://maayanlab.cloud/Enrichr/addList'\n",
    "    genes_str = '\\n'.join(gene_set)\n",
    "    description = gene_set_desc\n",
    "    payload = {\n",
    "        'list': (None, genes_str),\n",
    "        'description': (None, description)\n",
    "    }\n",
    "\n",
    "    response = requests.post(ENRICHR_URL, files=payload)\n",
    "    if not response.ok:\n",
    "        raise Exception('Error analyzing gene list')\n",
    "\n",
    "    data = json.loads(response.text)\n",
    "    \n",
    "    ENRICHR_URL = 'http://maayanlab.cloud/Enrichr/enrich'\n",
    "    query_string = '?userListId=%s&backgroundType=%s'\n",
    "    user_list_id = data['userListId']\n",
    "    gene_set_library = 'KEGG_2019_Human'\n",
    "    response = requests.get(\n",
    "        ENRICHR_URL + query_string % (user_list_id, gene_set_library)\n",
    "     )\n",
    "    if not response.ok:\n",
    "        raise Exception('Error fetching enrichment results')\n",
    "\n",
    "    data = json.loads(response.text)\n",
    "    \n",
    "    enrichr_df = pd.DataFrame(data=data[gene_set_library], columns=[\"rank\", \"term_name\", \"pval\", \"zscore\", \"combined_score\", \"overlapping_genes\", \"padj\", \"pold\", \"poldadj\"])\n",
    "    return enrichr_df"
   ]
  },
  {
   "cell_type": "code",
   "execution_count": 23,
   "id": "otherwise-substitute",
   "metadata": {},
   "outputs": [],
   "source": [
    "len(met_gene_set)"
   ]
  },
  {
   "cell_type": "code",
   "execution_count": 24,
   "id": "exotic-glenn",
   "metadata": {},
   "outputs": [],
   "source": [
    "met_enrichr_df = get_enrichr_df(met_gene_set, 'Differentially significant genes')"
   ]
  },
  {
   "cell_type": "code",
   "execution_count": 25,
   "id": "senior-impact",
   "metadata": {},
   "outputs": [],
   "source": [
    "met_enrichr_df.head()"
   ]
  },
  {
   "cell_type": "code",
   "execution_count": 26,
   "id": "labeled-anaheim",
   "metadata": {},
   "outputs": [],
   "source": [
    "met_enrichr_df.to_csv(snakemake.output[\"enrichr\"], sep='\\t')"
   ]
  },
  {
   "cell_type": "code",
   "execution_count": 27,
   "id": "czech-architecture",
   "metadata": {},
   "outputs": [],
   "source": [
    "met_enrichr_df = met_enrichr_df.loc[met_enrichr_df[\"padj\"] < 0.999913]"
   ]
  },
  {
   "cell_type": "code",
   "execution_count": 28,
   "id": "offshore-teens",
   "metadata": {},
   "outputs": [],
   "source": [
    "met_enrichr_df[\"minuslog10p\"] = met_enrichr_df[\"padj\"].apply(lambda p: -np.log10(p))\n",
    "met_enrichr_df[\"significant\"] = met_enrichr_df[\"padj\"] < 0.05"
   ]
  },
  {
   "cell_type": "code",
   "execution_count": 29,
   "id": "domestic-analysis",
   "metadata": {},
   "outputs": [],
   "source": [
    "TERM_SORT = met_enrichr_df[\"term_name\"].values.tolist()\n",
    "\n",
    "plot = alt.Chart(met_enrichr_df).mark_bar().encode(\n",
    "    x=alt.X(\"minuslog10p:Q\", axis=alt.Axis(title=\"-log_10(p)\")),\n",
    "    y=alt.Y(\"term_name:N\", sort=TERM_SORT, axis=alt.Axis(title=\"KEGG 2019 term\")),\n",
    "    color=alt.Color(\"significant:N\", legend=alt.Legend(title=\"Significant at 0.05\"))\n",
    ").properties(\n",
    "    title=f\"Pathways enriched in differentially expressed gene set for {metmap_tissue} metastasis\"\n",
    ")\n",
    "\n",
    "plot"
   ]
  },
  {
   "cell_type": "code",
   "execution_count": 30,
   "id": "architectural-tourism",
   "metadata": {},
   "outputs": [],
   "source": [
    "alt_save(plot, snakemake.output[\"enrichr_plot\"])"
   ]
  },
  {
   "cell_type": "markdown",
   "id": "offensive-guitar",
   "metadata": {},
   "outputs": [],
   "source": [
    "## Use Enrichr on the positive and negative fold change sets separately"
   ]
  },
  {
   "cell_type": "code",
   "execution_count": 41,
   "id": "listed-lying",
   "metadata": {},
   "outputs": [],
   "source": [
    "NUM_TERMS = 30"
   ]
  },
  {
   "cell_type": "code",
   "execution_count": 42,
   "id": "destroyed-hamilton",
   "metadata": {},
   "outputs": [],
   "source": [
    "fc_pos_gene_set = df.loc[df[\"significant\"] & (df[\"log2FoldChange\"] > 0)].index.values.tolist()\n",
    "fc_neg_gene_set = df.loc[df[\"significant\"] & (df[\"log2FoldChange\"] < 0)].index.values.tolist()"
   ]
  },
  {
   "cell_type": "code",
   "execution_count": 43,
   "id": "subtle-burton",
   "metadata": {},
   "outputs": [],
   "source": [
    "len(fc_pos_gene_set)"
   ]
  },
  {
   "cell_type": "code",
   "execution_count": 44,
   "id": "effective-preserve",
   "metadata": {},
   "outputs": [],
   "source": [
    "len(fc_neg_gene_set)"
   ]
  },
  {
   "cell_type": "code",
   "execution_count": 45,
   "id": "variable-bahamas",
   "metadata": {},
   "outputs": [],
   "source": [
    "fc_pos_enrichr_df = get_enrichr_df(fc_pos_gene_set, 'Differentially significant genes, positive fold change')\n",
    "fc_neg_enrichr_df = get_enrichr_df(fc_neg_gene_set, 'Differentially significant genes, negative fold change')"
   ]
  },
  {
   "cell_type": "code",
   "execution_count": 46,
   "id": "fewer-stocks",
   "metadata": {},
   "outputs": [],
   "source": [
    "fc_pos_enrichr_df[\"minuslog10p\"] = fc_pos_enrichr_df[\"padj\"].apply(lambda p: -np.log10(p))\n",
    "fc_pos_enrichr_df[\"significant\"] = fc_pos_enrichr_df[\"padj\"] < 0.05"
   ]
  },
  {
   "cell_type": "code",
   "execution_count": 47,
   "id": "activated-freedom",
   "metadata": {},
   "outputs": [],
   "source": [
    "TERM_SORT = fc_pos_enrichr_df[\"term_name\"].values.tolist()\n",
    "\n",
    "plot = alt.Chart(fc_pos_enrichr_df.head(NUM_TERMS)).mark_bar().encode(\n",
    "    x=alt.X(\"minuslog10p:Q\", axis=alt.Axis(title=\"-log_10(p)\")),\n",
    "    y=alt.Y(\"term_name:N\", sort=TERM_SORT, axis=alt.Axis(title=\"KEGG 2019 term\")),\n",
    "    color=alt.Color(\"significant:N\", legend=alt.Legend(title=\"Significant at 0.05\"))\n",
    ").properties(\n",
    "    title=f\"Top {NUM_TERMS} pathways enriched in positive differentially expressed gene set for {metmap_tissue} metastasis\"\n",
    ")\n",
    "\n",
    "plot"
   ]
  },
  {
   "cell_type": "code",
   "execution_count": null,
   "id": "closing-hometown",
   "metadata": {},
   "outputs": [],
   "source": [
    "alt_save(plot, snakemake.output[\"enrichr_pos_plot\"])"
   ]
  },
  {
   "cell_type": "code",
   "execution_count": 48,
   "id": "dutch-hungary",
   "metadata": {},
   "outputs": [],
   "source": [
    "fc_neg_enrichr_df[\"minuslog10p\"] = fc_neg_enrichr_df[\"padj\"].apply(lambda p: -np.log10(p))\n",
    "fc_neg_enrichr_df[\"significant\"] = fc_neg_enrichr_df[\"padj\"] < 0.05"
   ]
  },
  {
   "cell_type": "code",
   "execution_count": 49,
   "id": "overhead-leeds",
   "metadata": {},
   "outputs": [],
   "source": [
    "TERM_SORT = fc_neg_enrichr_df[\"term_name\"].values.tolist()\n",
    "\n",
    "plot = alt.Chart(fc_neg_enrichr_df.head(NUM_TERMS)).mark_bar().encode(\n",
    "    x=alt.X(\"minuslog10p:Q\", axis=alt.Axis(title=\"-log_10(p)\")),\n",
    "    y=alt.Y(\"term_name:N\", sort=TERM_SORT, axis=alt.Axis(title=\"KEGG 2019 term\")),\n",
    "    color=alt.Color(\"significant:N\", legend=alt.Legend(title=\"Significant at 0.05\"))\n",
    ").properties(\n",
    "    title=f\"Top {NUM_TERMS} pathways enriched in negative differentially expressed gene set for {metmap_tissue} metastasis\"\n",
    ")\n",
    "\n",
    "plot"
   ]
  },
  {
   "cell_type": "code",
   "execution_count": null,
   "id": "measured-member",
   "metadata": {},
   "outputs": [],
   "source": [
    "alt_save(plot, snakemake.output[\"enrichr_neg_plot\"])"
   ]
  }
 ],
 "metadata": {
  "kernelspec": {
   "display_name": "Python 3",
   "language": "python",
   "name": "python3"
  },
  "language_info": {
   "codemirror_mode": {
    "name": "ipython",
    "version": 3
   },
   "file_extension": ".py",
   "mimetype": "text/x-python",
   "name": "python",
   "nbconvert_exporter": "python",
   "pygments_lexer": "ipython3",
   "version": "3.8.8"
  }
 },
 "nbformat": 4,
 "nbformat_minor": 5
}
