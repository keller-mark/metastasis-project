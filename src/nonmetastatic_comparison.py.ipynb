{
 "cells": [
  {
   "cell_type": "code",
   "execution_count": 91,
   "id": "determined-repository",
   "metadata": {},
   "outputs": [],
   "source": [
    "import pandas as pd\n",
    "import numpy as np\n",
    "\n",
    "import altair as alt\n",
    "from altair_saver import save as alt_save\n",
    "\n",
    "import seaborn as sns\n",
    "from matplotlib import pyplot as plt\n",
    "from adjustText import adjust_text\n",
    "from pyensembl import EnsemblRelease, find_species_by_name, genome_for_reference_name"
   ]
  },
  {
   "cell_type": "code",
   "execution_count": 7,
   "id": "valued-harvard",
   "metadata": {},
   "outputs": [],
   "source": [
    "df = pd.read_csv(snakemake.input['deseq'], index_col=0)"
   ]
  },
  {
   "cell_type": "code",
   "execution_count": 16,
   "id": "burning-notebook",
   "metadata": {},
   "outputs": [],
   "source": [
    "df[\"minuslog10p\"] = df[\"padj\"].apply(lambda p: -np.log10(p))\n",
    "df[\"significant\"] = df.apply(lambda row: row[\"padj\"] < 0.05 and abs(row[\"log2FoldChange\"]) > 2, axis='columns')"
   ]
  },
  {
   "cell_type": "code",
   "execution_count": 123,
   "id": "passing-slovenia",
   "metadata": {},
   "outputs": [],
   "source": [
    "df[\"should_label\"] = df.apply(lambda row: row[\"minuslog10p\"] > -np.log10(0.00000005) and abs(row[\"log2FoldChange\"]) > 3.5, axis='columns')"
   ]
  },
  {
   "cell_type": "code",
   "execution_count": 124,
   "id": "younger-nursing",
   "metadata": {},
   "outputs": [],
   "source": [
    "label_df = df.loc[df[\"should_label\"]]"
   ]
  },
  {
   "cell_type": "code",
   "execution_count": 125,
   "id": "focused-citation",
   "metadata": {},
   "outputs": [],
   "source": [
    "er = EnsemblRelease(100, species=find_species_by_name(\"homo_sapiens\"))\n",
    "\n",
    "def get_gene_name(ens_vid):\n",
    "    try:\n",
    "        ens_id = ens_vid.split(\".\")[0]\n",
    "        return er.gene_name_of_gene_id(ens_id)\n",
    "    except ValueError:\n",
    "        return ens_vid\n",
    "label_df[\"gene_name\"] = label_df.index.to_series().apply(get_gene_name)"
   ]
  },
  {
   "cell_type": "code",
   "execution_count": 126,
   "id": "voluntary-austin",
   "metadata": {},
   "outputs": [],
   "source": [
    "plt.figure(figsize=(8,8))\n",
    "ax = sns.scatterplot(data=df, x=\"log2FoldChange\", y=\"minuslog10p\", hue=\"significant\")\n",
    "texts = [plt.text(label_df.iloc[i][\"log2FoldChange\"], label_df.iloc[i][\"minuslog10p\"], label_df.iloc[i][\"gene_name\"], ha='center', va='center') for i in range(label_df.shape[0])];\n",
    "adjust_text(texts)\n",
    "ax.hlines(y=-np.log10(0.05), xmin=-6, xmax=6, colors='black', linestyles='--', lw=2)"
   ]
  },
  {
   "cell_type": "code",
   "execution_count": 127,
   "id": "facial-challenge",
   "metadata": {},
   "outputs": [],
   "source": [
    "plt.savefig(snakemake.output[\"plot\"]) "
   ]
  },
  {
   "cell_type": "code",
   "execution_count": null,
   "id": "modified-simple",
   "metadata": {},
   "outputs": [],
   "source": []
  }
 ],
 "metadata": {
  "kernelspec": {
   "display_name": "Python 3",
   "language": "python",
   "name": "python3"
  },
  "language_info": {
   "codemirror_mode": {
    "name": "ipython",
    "version": 3
   },
   "file_extension": ".py",
   "mimetype": "text/x-python",
   "name": "python",
   "nbconvert_exporter": "python",
   "pygments_lexer": "ipython3",
   "version": "3.8.8"
  }
 },
 "nbformat": 4,
 "nbformat_minor": 5
}
