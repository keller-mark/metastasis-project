{
 "cells": [
  {
   "cell_type": "code",
   "execution_count": 8,
   "id": "recorded-tracy",
   "metadata": {},
   "outputs": [],
   "source": [
    "import pandas as pd\n",
    "import numpy as np\n",
    "\n",
    "import altair as alt\n",
    "from altair_saver import save as alt_save\n",
    "\n",
    "import seaborn as sns\n",
    "from matplotlib import pyplot as plt\n",
    "from adjustText import adjust_text\n",
    "from pyensembl import EnsemblRelease, find_species_by_name, genome_for_reference_name\n",
    "\n",
    "import json\n",
    "import requests\n",
    "import gseapy"
   ]
  },
  {
   "cell_type": "code",
   "execution_count": 9,
   "id": "sized-czech",
   "metadata": {},
   "outputs": [],
   "source": [
    "metmap_tissue = snakemake.params['metmap_tissue']"
   ]
  },
  {
   "cell_type": "code",
   "execution_count": 10,
   "id": "renewable-imaging",
   "metadata": {},
   "outputs": [],
   "source": [
    "df = pd.read_csv(snakemake.input['deseq'], index_col=0)"
   ]
  },
  {
   "cell_type": "code",
   "execution_count": 11,
   "id": "pleasant-offering",
   "metadata": {},
   "outputs": [],
   "source": [
    "df.head()"
   ]
  },
  {
   "cell_type": "code",
   "execution_count": 12,
   "id": "authentic-dialogue",
   "metadata": {},
   "outputs": [],
   "source": [
    "df[\"minuslog10p\"] = df[\"padj\"].apply(lambda p: -np.log10(p))\n",
    "df[\"significant\"] = df.apply(lambda row: row[\"padj\"] < 0.05 and abs(row[\"log2FoldChange\"]) > 2, axis='columns')"
   ]
  },
  {
   "cell_type": "code",
   "execution_count": 13,
   "id": "fitting-complex",
   "metadata": {},
   "outputs": [],
   "source": [
    "df[\"should_label\"] = df.apply(lambda row: row[\"minuslog10p\"] > -np.log10(0.00000005) and abs(row[\"log2FoldChange\"]) > 3.5, axis='columns')"
   ]
  },
  {
   "cell_type": "code",
   "execution_count": 14,
   "id": "pressing-filing",
   "metadata": {},
   "outputs": [],
   "source": [
    "er = EnsemblRelease(100, species=find_species_by_name(\"homo_sapiens\"))\n",
    "\n",
    "def get_gene_name(ens_vid):\n",
    "    try:\n",
    "        ens_id = ens_vid.split(\".\")[0]\n",
    "        return er.gene_name_of_gene_id(ens_id)\n",
    "    except ValueError:\n",
    "        return ens_vid\n",
    "df[\"gene_name\"] = df.index.to_series().apply(get_gene_name)"
   ]
  },
  {
   "cell_type": "code",
   "execution_count": 15,
   "id": "vertical-karaoke",
   "metadata": {},
   "outputs": [],
   "source": [
    "df.loc[df[\"gene_name\"].isin([\"MLANA\", \"SLC45A2\", \"DCT\", \"TYR\", \"TRPM1\", \"SLC24A5\"])].index.values.tolist()"
   ]
  },
  {
   "cell_type": "code",
   "execution_count": 16,
   "id": "laughing-australian",
   "metadata": {},
   "outputs": [],
   "source": [
    "label_df = df.loc[df[\"should_label\"]]"
   ]
  },
  {
   "cell_type": "code",
   "execution_count": 17,
   "id": "documented-portable",
   "metadata": {},
   "outputs": [],
   "source": [
    "plt.figure(figsize=(8,8))\n",
    "ax = sns.scatterplot(data=df, x=\"log2FoldChange\", y=\"minuslog10p\", hue=\"significant\")\n",
    "texts = [plt.text(label_df.iloc[i][\"log2FoldChange\"], label_df.iloc[i][\"minuslog10p\"], label_df.iloc[i][\"gene_name\"], ha='center', va='center') for i in range(label_df.shape[0])];\n",
    "adjust_text(texts)\n",
    "ax.hlines(y=-np.log10(0.05), xmin=-6, xmax=6, colors='black', linestyles='--', lw=2)\n",
    "plt.title(f\"Differentially expressed genes for {metmap_tissue} metastasis\")\n",
    "plt.xlabel(\"log_2(fold change)\")\n",
    "plt.ylabel(\"-log_10(p)\")\n",
    "plt.savefig(snakemake.output[\"deseq_plot\"]) "
   ]
  },
  {
   "cell_type": "markdown",
   "id": "appointed-essence",
   "metadata": {},
   "outputs": [],
   "source": [
    "## Use Enrichr to analyze the set of differentially expressed genes\n",
    "\n",
    "Reference: https://maayanlab.cloud/Enrichr/help#api"
   ]
  },
  {
   "cell_type": "code",
   "execution_count": 18,
   "id": "known-nevada",
   "metadata": {},
   "outputs": [],
   "source": [
    "df = df.set_index(\"gene_name\")"
   ]
  },
  {
   "cell_type": "code",
   "execution_count": 19,
   "id": "tight-glasgow",
   "metadata": {},
   "outputs": [],
   "source": [
    "met_gene_set = df.loc[df[\"significant\"]].index.values.tolist()\n",
    "nonmet_gene_set = df.loc[~df[\"significant\"]].index.values.tolist()"
   ]
  },
  {
   "cell_type": "code",
   "execution_count": 20,
   "id": "offensive-christianity",
   "metadata": {},
   "outputs": [],
   "source": [
    "def get_enrichr_df(gene_set, gene_set_desc):\n",
    "    ENRICHR_URL = 'http://maayanlab.cloud/Enrichr/addList'\n",
    "    genes_str = '\\n'.join(gene_set)\n",
    "    description = gene_set_desc\n",
    "    payload = {\n",
    "        'list': (None, genes_str),\n",
    "        'description': (None, description)\n",
    "    }\n",
    "\n",
    "    response = requests.post(ENRICHR_URL, files=payload)\n",
    "    if not response.ok:\n",
    "        raise Exception('Error analyzing gene list')\n",
    "\n",
    "    data = json.loads(response.text)\n",
    "    \n",
    "    ENRICHR_URL = 'http://maayanlab.cloud/Enrichr/enrich'\n",
    "    query_string = '?userListId=%s&backgroundType=%s'\n",
    "    user_list_id = data['userListId']\n",
    "    gene_set_library = 'KEGG_2019_Human'\n",
    "    response = requests.get(\n",
    "        ENRICHR_URL + query_string % (user_list_id, gene_set_library)\n",
    "     )\n",
    "    if not response.ok:\n",
    "        raise Exception('Error fetching enrichment results')\n",
    "\n",
    "    data = json.loads(response.text)\n",
    "    \n",
    "    enrichr_df = pd.DataFrame(data=data[gene_set_library], columns=[\"rank\", \"term_name\", \"pval\", \"zscore\", \"combined_score\", \"overlapping_genes\", \"padj\", \"pold\", \"poldadj\"])\n",
    "    return enrichr_df"
   ]
  },
  {
   "cell_type": "code",
   "execution_count": 21,
   "id": "restricted-island",
   "metadata": {},
   "outputs": [],
   "source": [
    "len(met_gene_set)"
   ]
  },
  {
   "cell_type": "code",
   "execution_count": 22,
   "id": "elect-pattern",
   "metadata": {},
   "outputs": [],
   "source": [
    "met_enrichr_df = get_enrichr_df(met_gene_set, 'Differentially significant genes')"
   ]
  },
  {
   "cell_type": "code",
   "execution_count": 23,
   "id": "alien-absence",
   "metadata": {},
   "outputs": [],
   "source": [
    "met_enrichr_df.head()"
   ]
  },
  {
   "cell_type": "code",
   "execution_count": 24,
   "id": "sticky-dance",
   "metadata": {},
   "outputs": [],
   "source": [
    "met_enrichr_df.to_csv(snakemake.output[\"enrichr\"], sep='\\t')"
   ]
  },
  {
   "cell_type": "code",
   "execution_count": 25,
   "id": "million-privacy",
   "metadata": {},
   "outputs": [],
   "source": [
    "met_enrichr_df = met_enrichr_df.loc[met_enrichr_df[\"padj\"] < 0.999913]"
   ]
  },
  {
   "cell_type": "code",
   "execution_count": 26,
   "id": "computational-liechtenstein",
   "metadata": {},
   "outputs": [],
   "source": [
    "met_enrichr_df[\"minuslog10p\"] = met_enrichr_df[\"padj\"].apply(lambda p: -np.log10(p))\n",
    "met_enrichr_df[\"significant\"] = met_enrichr_df[\"padj\"] < 0.05"
   ]
  },
  {
   "cell_type": "code",
   "execution_count": 27,
   "id": "secret-comedy",
   "metadata": {},
   "outputs": [],
   "source": [
    "TERM_SORT = met_enrichr_df[\"term_name\"].values.tolist()\n",
    "\n",
    "plot = alt.Chart(met_enrichr_df).mark_bar().encode(\n",
    "    x=alt.X(\"minuslog10p:Q\", axis=alt.Axis(title=\"-log_10(p)\")),\n",
    "    y=alt.Y(\"term_name:N\", sort=TERM_SORT, axis=alt.Axis(title=\"KEGG 2019 term\")),\n",
    "    color=alt.Color(\"significant:N\", legend=alt.Legend(title=\"Significant at 0.05\"))\n",
    ").properties(\n",
    "    title=f\"Pathways enriched in differentially expressed gene set for {metmap_tissue} metastasis\"\n",
    ")\n",
    "\n",
    "plot"
   ]
  },
  {
   "cell_type": "code",
   "execution_count": 28,
   "id": "ideal-geography",
   "metadata": {},
   "outputs": [],
   "source": [
    "alt_save(plot, snakemake.output[\"enrichr_plot\"])"
   ]
  },
  {
   "cell_type": "markdown",
   "id": "bright-calcium",
   "metadata": {},
   "outputs": [],
   "source": [
    "## Use Enrichr on the positive and negative fold change sets separately"
   ]
  },
  {
   "cell_type": "code",
   "execution_count": 29,
   "id": "entertaining-stream",
   "metadata": {},
   "outputs": [],
   "source": [
    "NUM_TERMS = 30"
   ]
  },
  {
   "cell_type": "code",
   "execution_count": 30,
   "id": "abroad-money",
   "metadata": {},
   "outputs": [],
   "source": [
    "fc_pos_gene_set = df.loc[df[\"significant\"] & (df[\"log2FoldChange\"] > 0)].index.values.tolist()\n",
    "fc_neg_gene_set = df.loc[df[\"significant\"] & (df[\"log2FoldChange\"] < 0)].index.values.tolist()"
   ]
  },
  {
   "cell_type": "code",
   "execution_count": 31,
   "id": "committed-military",
   "metadata": {},
   "outputs": [],
   "source": [
    "len(fc_pos_gene_set)"
   ]
  },
  {
   "cell_type": "code",
   "execution_count": 32,
   "id": "obvious-intelligence",
   "metadata": {},
   "outputs": [],
   "source": [
    "len(fc_neg_gene_set)"
   ]
  },
  {
   "cell_type": "code",
   "execution_count": 33,
   "id": "studied-entrepreneur",
   "metadata": {},
   "outputs": [],
   "source": [
    "fc_pos_enrichr_df = get_enrichr_df(fc_pos_gene_set, 'Differentially significant genes, positive fold change')\n",
    "fc_neg_enrichr_df = get_enrichr_df(fc_neg_gene_set, 'Differentially significant genes, negative fold change')"
   ]
  },
  {
   "cell_type": "code",
   "execution_count": 34,
   "id": "aging-wellington",
   "metadata": {},
   "outputs": [],
   "source": [
    "fc_pos_enrichr_df[\"minuslog10p\"] = fc_pos_enrichr_df[\"padj\"].apply(lambda p: -np.log10(p))\n",
    "fc_pos_enrichr_df[\"significant\"] = fc_pos_enrichr_df[\"padj\"] < 0.05"
   ]
  },
  {
   "cell_type": "code",
   "execution_count": 160,
   "id": "composed-person",
   "metadata": {},
   "outputs": [],
   "source": [
    "TERM_SORT = fc_pos_enrichr_df[\"term_name\"].values.tolist()\n",
    "\n",
    "plot = alt.Chart(fc_pos_enrichr_df.head(NUM_TERMS)).mark_bar().encode(\n",
    "    x=alt.X(\"minuslog10p:Q\", axis=alt.Axis(title=\"-log_10(p)\")),\n",
    "    y=alt.Y(\"term_name:N\", sort=TERM_SORT, axis=alt.Axis(title=\"KEGG 2019 term\")),\n",
    "    color=alt.Color(\"significant:N\", legend=alt.Legend(title=\"Significant at 0.05\"))\n",
    ").properties(\n",
    "    title={\n",
    "        \"text\": f\"Top {NUM_TERMS} pathways enriched in positive differentially expressed gene set for {metmap_tissue} metastasis\",\n",
    "        \"subtitle\": \"Enrichr method\"\n",
    "    }\n",
    ")\n",
    "\n",
    "plot"
   ]
  },
  {
   "cell_type": "code",
   "execution_count": 161,
   "id": "potential-gasoline",
   "metadata": {},
   "outputs": [],
   "source": [
    "alt_save(plot, snakemake.output[\"enrichr_pos_plot\"])"
   ]
  },
  {
   "cell_type": "code",
   "execution_count": 162,
   "id": "nearby-collins",
   "metadata": {},
   "outputs": [],
   "source": [
    "fc_neg_enrichr_df[\"minuslog10p\"] = fc_neg_enrichr_df[\"padj\"].apply(lambda p: -np.log10(p))\n",
    "fc_neg_enrichr_df[\"significant\"] = fc_neg_enrichr_df[\"padj\"] < 0.05"
   ]
  },
  {
   "cell_type": "code",
   "execution_count": 163,
   "id": "dangerous-harbor",
   "metadata": {},
   "outputs": [],
   "source": [
    "TERM_SORT = fc_neg_enrichr_df[\"term_name\"].values.tolist()\n",
    "\n",
    "plot = alt.Chart(fc_neg_enrichr_df.head(NUM_TERMS)).mark_bar().encode(\n",
    "    x=alt.X(\"minuslog10p:Q\", axis=alt.Axis(title=\"-log_10(p)\")),\n",
    "    y=alt.Y(\"term_name:N\", sort=TERM_SORT, axis=alt.Axis(title=\"KEGG 2019 term\")),\n",
    "    color=alt.Color(\"significant:N\", legend=alt.Legend(title=\"Significant at 0.05\"))\n",
    ").properties(\n",
    "    title={\n",
    "        \"text\": f\"Top {NUM_TERMS} pathways enriched in negative differentially expressed gene set for {metmap_tissue} metastasis\",\n",
    "        \"subtitle\": \"Enrichr method\"\n",
    "    }\n",
    ")\n",
    "\n",
    "plot"
   ]
  },
  {
   "cell_type": "code",
   "execution_count": 164,
   "id": "acceptable-packaging",
   "metadata": {},
   "outputs": [],
   "source": [
    "alt_save(plot, snakemake.output[\"enrichr_neg_plot\"])"
   ]
  },
  {
   "cell_type": "markdown",
   "id": "deadly-pearl",
   "metadata": {},
   "outputs": [],
   "source": [
    "## Use GSEA prerank method for pathway enrichment computations"
   ]
  },
  {
   "cell_type": "code",
   "execution_count": 167,
   "id": "direct-bloom",
   "metadata": {},
   "outputs": [],
   "source": [
    "fc_pos_df = df.loc[(df[\"log2FoldChange\"] > 0) & (df[\"padj\"] <= 0.05)].sort_values(by=\"log2FoldChange\", ascending=False)\n",
    "fc_neg_df = df.loc[(df[\"log2FoldChange\"] < 0) & (df[\"padj\"] <= 0.05)].sort_values(by=\"log2FoldChange\", ascending=True)"
   ]
  },
  {
   "cell_type": "code",
   "execution_count": 168,
   "id": "ceramic-surrey",
   "metadata": {},
   "outputs": [],
   "source": [
    "# using GSEA prerank tool\n",
    "prerank_neg_df = gseapy.prerank(rnk=fc_neg_df[[\"log2FoldChange\"]], processes=4, gene_sets='KEGG_2019_Human', outdir='gsea', min_size=2, ascending=True, no_plot=True, permutation_num=1500, seed=2445).res2d\n",
    "prerank_pos_df = gseapy.prerank(rnk=fc_pos_df[[\"log2FoldChange\"]], processes=4, gene_sets='KEGG_2019_Human', outdir='gsea', min_size=2, ascending=True, no_plot=True, permutation_num=1500, seed=2445).res2d"
   ]
  },
  {
   "cell_type": "code",
   "execution_count": 169,
   "id": "three-basic",
   "metadata": {},
   "outputs": [],
   "source": [
    "prerank_pos_df = prerank_pos_df.loc[prerank_pos_df[\"fdr\"] < 0.5].reset_index().rename(columns={\"Term\": \"term_name\"}).sort_values(by=\"pval\")\n",
    "prerank_neg_df = prerank_neg_df.loc[prerank_neg_df[\"fdr\"] < 0.5].reset_index().rename(columns={\"Term\": \"term_name\"}).sort_values(by=\"pval\")"
   ]
  },
  {
   "cell_type": "code",
   "execution_count": 170,
   "id": "individual-acrobat",
   "metadata": {},
   "outputs": [],
   "source": [
    "prerank_neg_df.to_csv(snakemake.output[\"gsea_neg\"], sep=\"\\t\")\n",
    "prerank_pos_df.to_csv(snakemake.output[\"gsea_pos\"], sep=\"\\t\")"
   ]
  },
  {
   "cell_type": "code",
   "execution_count": 171,
   "id": "adjacent-newsletter",
   "metadata": {},
   "outputs": [],
   "source": [
    "prerank_neg_df[\"pval\"] = prerank_neg_df[\"pval\"].clip(lower=0.000001)\n",
    "prerank_pos_df[\"pval\"] = prerank_pos_df[\"pval\"].clip(lower=0.000001)"
   ]
  },
  {
   "cell_type": "code",
   "execution_count": 172,
   "id": "authentic-obligation",
   "metadata": {},
   "outputs": [],
   "source": [
    "prerank_neg_df[\"minuslog10p\"] = prerank_neg_df[\"pval\"].apply(lambda p: -np.log10(p))\n",
    "prerank_neg_df[\"significant\"] = prerank_neg_df[\"pval\"] < 0.05\n",
    "\n",
    "prerank_pos_df[\"minuslog10p\"] = prerank_pos_df[\"pval\"].apply(lambda p: -np.log10(p))\n",
    "prerank_pos_df[\"significant\"] = prerank_pos_df[\"pval\"] < 0.05"
   ]
  },
  {
   "cell_type": "code",
   "execution_count": 173,
   "id": "appointed-regular",
   "metadata": {},
   "outputs": [],
   "source": [
    "TERM_SORT = prerank_neg_df.index.values.tolist()\n",
    "\n",
    "plot = alt.Chart(prerank_neg_df.head(NUM_TERMS)).mark_bar().encode(\n",
    "    x=alt.X(\"minuslog10p:Q\", axis=alt.Axis(title=\"-log_10(p)\")),\n",
    "    y=alt.Y(\"term_name:N\", sort=TERM_SORT, axis=alt.Axis(title=\"KEGG 2019 term\")),\n",
    "    color=alt.Color(\"significant:N\", legend=alt.Legend(title=\"Significant at 0.05\"))\n",
    ").properties(\n",
    "    title={\n",
    "        \"text\": f\"Top {NUM_TERMS} pathways enriched in negative differentially expressed gene set for {metmap_tissue} metastasis\",\n",
    "        \"subtitle\": \"GSEA preranked method\"\n",
    "    }\n",
    ")\n",
    "\n",
    "plot"
   ]
  },
  {
   "cell_type": "code",
   "execution_count": 174,
   "id": "ready-buying",
   "metadata": {},
   "outputs": [],
   "source": [
    "alt_save(plot, snakemake.output[\"gsea_neg_plot\"])"
   ]
  },
  {
   "cell_type": "code",
   "execution_count": 175,
   "id": "expensive-biodiversity",
   "metadata": {},
   "outputs": [],
   "source": [
    "TERM_SORT = prerank_pos_df.index.values.tolist()\n",
    "\n",
    "plot = alt.Chart(prerank_pos_df.head(NUM_TERMS)).mark_bar().encode(\n",
    "    x=alt.X(\"minuslog10p:Q\", axis=alt.Axis(title=\"-log_10(p)\")),\n",
    "    y=alt.Y(\"term_name:N\", sort=TERM_SORT, axis=alt.Axis(title=\"KEGG 2019 term\")),\n",
    "    color=alt.Color(\"significant:N\", legend=alt.Legend(title=\"Significant at 0.05\"))\n",
    ").properties(\n",
    "    title={\n",
    "        \"text\": f\"Top {NUM_TERMS} pathways enriched in positive differentially expressed gene set for {metmap_tissue} metastasis\",\n",
    "        \"subtitle\": \"GSEA preranked method\"\n",
    "    }\n",
    ")\n",
    "\n",
    "plot"
   ]
  },
  {
   "cell_type": "code",
   "execution_count": 176,
   "id": "selected-situation",
   "metadata": {},
   "outputs": [],
   "source": [
    "alt_save(plot, snakemake.output[\"gsea_pos_plot\"])"
   ]
  },
  {
   "cell_type": "code",
   "execution_count": null,
   "id": "choice-summit",
   "metadata": {},
   "outputs": [],
   "source": []
  }
 ],
 "metadata": {
  "kernelspec": {
   "display_name": "Python 3",
   "language": "python",
   "name": "python3"
  },
  "language_info": {
   "codemirror_mode": {
    "name": "ipython",
    "version": 3
   },
   "file_extension": ".py",
   "mimetype": "text/x-python",
   "name": "python",
   "nbconvert_exporter": "python",
   "pygments_lexer": "ipython3",
   "version": "3.8.8"
  }
 },
 "nbformat": 4,
 "nbformat_minor": 5
}
