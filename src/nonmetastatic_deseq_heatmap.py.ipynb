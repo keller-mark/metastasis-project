{
 "cells": [
  {
   "cell_type": "code",
   "execution_count": 2,
   "id": "crucial-reproduction",
   "metadata": {},
   "outputs": [],
   "source": [
    "from utils import *\n",
    "import scanpy as sc\n",
    "import matplotlib.pyplot as plt\n",
    "from pyensembl import EnsemblRelease, find_species_by_name, genome_for_reference_name"
   ]
  },
  {
   "cell_type": "code",
   "execution_count": 3,
   "id": "conventional-capitol",
   "metadata": {},
   "outputs": [],
   "source": [
    "metmap_tissue = snakemake.wildcards[\"tissue\"]"
   ]
  },
  {
   "cell_type": "code",
   "execution_count": 4,
   "id": "violent-failure",
   "metadata": {},
   "outputs": [],
   "source": [
    "counts_df = pd.read_csv(snakemake.input[\"counts\"], index_col=0)\n",
    "conditions_df = pd.read_csv(snakemake.input[\"conditions\"], index_col=0)\n",
    "deseq_df = pd.read_csv(snakemake.input[\"deseq\"], index_col=0)"
   ]
  },
  {
   "cell_type": "code",
   "execution_count": 5,
   "id": "reverse-beast",
   "metadata": {},
   "outputs": [],
   "source": [
    "significant = (deseq_df[\"padj\"] <= 0.01) & (abs(deseq_df[\"log2FoldChange\"]) >= 3.0)"
   ]
  },
  {
   "cell_type": "code",
   "execution_count": 6,
   "id": "informational-nirvana",
   "metadata": {},
   "outputs": [],
   "source": [
    "counts_sig_df = counts_df.T.loc[significant].T\n",
    "deseq_sig_df = deseq_df.loc[significant]"
   ]
  },
  {
   "cell_type": "code",
   "execution_count": 7,
   "id": "generic-management",
   "metadata": {},
   "outputs": [],
   "source": [
    "conditions_df = conditions_df.sort_values(by=[\"metastatic\", \"mean\"])\n",
    "deseq_sig_df = deseq_sig_df.sort_values(by=\"log2FoldChange\")\n",
    "counts_sig_df = counts_sig_df.loc[conditions_df.index.values.tolist()][deseq_sig_df.index.values.tolist()]"
   ]
  },
  {
   "cell_type": "code",
   "execution_count": 10,
   "id": "regulated-crash",
   "metadata": {},
   "outputs": [],
   "source": [
    "# Convert ensembl gene IDs to gene names\n",
    "er = EnsemblRelease(100, species=find_species_by_name(\"homo_sapiens\"))\n",
    "\n",
    "def get_gene_name(ens_vid):\n",
    "    try:\n",
    "        ens_id = ens_vid.split(\".\")[0]\n",
    "        return er.gene_name_of_gene_id(ens_id)\n",
    "    except ValueError:\n",
    "        return ens_vid\n",
    "deseq_sig_df[\"gene_name\"] = deseq_sig_df.index.to_series().apply(get_gene_name)\n",
    "deseq_sig_df = deseq_sig_df.set_index(\"gene_name\")"
   ]
  },
  {
   "cell_type": "code",
   "execution_count": 11,
   "id": "fitting-italic",
   "metadata": {},
   "outputs": [],
   "source": [
    "adata = AnnData(X=counts_sig_df.values, var=deseq_sig_df, obs=conditions_df)"
   ]
  },
  {
   "cell_type": "code",
   "execution_count": 12,
   "id": "endless-conspiracy",
   "metadata": {},
   "outputs": [],
   "source": [
    "sc.pp.normalize_total(adata, target_sum=1e4)\n",
    "sc.pp.log1p(adata)\n",
    "sc.pp.scale(adata, max_value=3.5)"
   ]
  },
  {
   "cell_type": "code",
   "execution_count": 19,
   "id": "offshore-headline",
   "metadata": {},
   "outputs": [],
   "source": [
    "ax = sc.pl.heatmap(adata, var_names=adata.var_names, groupby=\"metastatic\", cmap='PRGn', num_categories=2, show=False, show_gene_labels=True)\n",
    "ax[\"heatmap_ax\"].set_title(f\"Expression of differentially expressed genes across cell lines, {metmap_tissue}\")\n",
    "ax[\"heatmap_ax\"].set_xlabel(\"Gene\")\n",
    "ax[\"groupby_ax\"].set_ylabel(\"Metastatic and Non-Metastatic Cell Lines\")\n",
    "plt.savefig(snakemake.output[\"heatmap_plot\"])"
   ]
  },
  {
   "cell_type": "code",
   "execution_count": null,
   "id": "oriented-allen",
   "metadata": {},
   "outputs": [],
   "source": []
  },
  {
   "cell_type": "code",
   "execution_count": null,
   "id": "ready-private",
   "metadata": {},
   "outputs": [],
   "source": []
  }
 ],
 "metadata": {
  "kernelspec": {
   "display_name": "Python 3",
   "language": "python",
   "name": "python3"
  },
  "language_info": {
   "codemirror_mode": {
    "name": "ipython",
    "version": 3
   },
   "file_extension": ".py",
   "mimetype": "text/x-python",
   "name": "python",
   "nbconvert_exporter": "python",
   "pygments_lexer": "ipython3",
   "version": "3.8.8"
  }
 },
 "nbformat": 4,
 "nbformat_minor": 5
}
