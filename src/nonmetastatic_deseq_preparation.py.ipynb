{
 "cells": [
  {
   "cell_type": "code",
   "execution_count": 2,
   "id": "intermediate-miniature",
   "metadata": {},
   "outputs": [],
   "source": [
    "import pandas as pd\n",
    "import numpy as np\n",
    "from anndata import read_h5ad, AnnData\n",
    "import scanpy as sc"
   ]
  },
  {
   "cell_type": "code",
   "execution_count": 3,
   "id": "entertaining-release",
   "metadata": {},
   "outputs": [],
   "source": [
    "metmap_tissue = snakemake.params['metmap_tissue']"
   ]
  },
  {
   "cell_type": "code",
   "execution_count": 4,
   "id": "boring-customs",
   "metadata": {},
   "outputs": [],
   "source": [
    "ccle_adata = read_h5ad(snakemake.input['ccle_exp'])"
   ]
  },
  {
   "cell_type": "code",
   "execution_count": 5,
   "id": "quiet-burke",
   "metadata": {},
   "outputs": [],
   "source": [
    "mm_all_df = pd.read_excel(snakemake.input['mm_potential'], sheet_name=f\"metp500.all5\", index_col=0)\n",
    "mm_tissue_df = pd.read_excel(snakemake.input['mm_potential'], sheet_name=f\"metp500.{metmap_tissue}\", index_col=0)"
   ]
  },
  {
   "cell_type": "code",
   "execution_count": 6,
   "id": "sharp-brush",
   "metadata": {},
   "outputs": [],
   "source": [
    "ccle_adata.obs"
   ]
  },
  {
   "cell_type": "code",
   "execution_count": 7,
   "id": "quantitative-hampton",
   "metadata": {},
   "outputs": [],
   "source": [
    "mm_tissue_df.head()"
   ]
  },
  {
   "cell_type": "code",
   "execution_count": 9,
   "id": "continued-attack",
   "metadata": {},
   "outputs": [],
   "source": [
    "mm_celllines = mm_tissue_df.index.values.tolist()\n",
    "cellline_intersect = set(ccle_adata.obs.index.values.tolist()).intersection(set(mm_celllines))\n",
    "len(cellline_intersect)"
   ]
  },
  {
   "cell_type": "code",
   "execution_count": 11,
   "id": "social-electric",
   "metadata": {},
   "outputs": [],
   "source": [
    "ccle_adata.obs = ccle_adata.obs.merge(mm_tissue_df, how=\"left\", left_index=True, right_index=True)"
   ]
  },
  {
   "cell_type": "code",
   "execution_count": 13,
   "id": "julian-earthquake",
   "metadata": {},
   "outputs": [],
   "source": [
    "mm_rows = ccle_adata.obs.index.to_series().apply(lambda cid: cid in cellline_intersect)\n",
    "ccle_adata = ccle_adata[mm_rows, :]"
   ]
  },
  {
   "cell_type": "code",
   "execution_count": 16,
   "id": "italic-junior",
   "metadata": {},
   "outputs": [],
   "source": [
    "ccle_adata.obs[\"metastatic\"] = ccle_adata.obs[\"penetrance\"].apply(lambda p: p > 0.0)"
   ]
  },
  {
   "cell_type": "code",
   "execution_count": 17,
   "id": "destroyed-harvard",
   "metadata": {},
   "outputs": [],
   "source": [
    "ccle_adata.obs"
   ]
  },
  {
   "cell_type": "code",
   "execution_count": 18,
   "id": "premium-journalist",
   "metadata": {},
   "outputs": [],
   "source": [
    "counts_df = pd.DataFrame(data=ccle_adata.X, columns=ccle_adata.var.index.values.tolist(), index=ccle_adata.obs.index.values.tolist())"
   ]
  },
  {
   "cell_type": "code",
   "execution_count": 20,
   "id": "certain-browser",
   "metadata": {},
   "outputs": [],
   "source": [
    "conditions_df = ccle_adata.obs[[\"mean\", \"penetrance\", \"metastatic\"]]"
   ]
  },
  {
   "cell_type": "code",
   "execution_count": 21,
   "id": "adapted-lottery",
   "metadata": {},
   "outputs": [],
   "source": [
    "counts_df.to_csv(snakemake.output[\"counts\"])\n",
    "conditions_df.to_csv(snakemake.output[\"conditions\"])"
   ]
  },
  {
   "cell_type": "code",
   "execution_count": null,
   "id": "fourth-melissa",
   "metadata": {},
   "outputs": [],
   "source": []
  }
 ],
 "metadata": {
  "kernelspec": {
   "display_name": "Python 3",
   "language": "python",
   "name": "python3"
  },
  "language_info": {
   "codemirror_mode": {
    "name": "ipython",
    "version": 3
   },
   "file_extension": ".py",
   "mimetype": "text/x-python",
   "name": "python",
   "nbconvert_exporter": "python",
   "pygments_lexer": "ipython3",
   "version": "3.8.8"
  }
 },
 "nbformat": 4,
 "nbformat_minor": 5
}
