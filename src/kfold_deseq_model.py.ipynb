{
 "cells": [
  {
   "cell_type": "code",
   "execution_count": 2,
   "id": "confident-registrar",
   "metadata": {},
   "outputs": [],
   "source": [
    "import pandas as pd\n",
    "import numpy as np\n",
    "from anndata import read_h5ad, AnnData\n",
    "import scanpy as sc\n",
    "import json\n",
    "\n",
    "from sklearn.metrics import mean_squared_error, r2_score\n",
    "from sklearn.cross_decomposition import PLSRegression\n",
    "\n",
    "import altair as alt\n",
    "from altair_saver import save as alt_save"
   ]
  },
  {
   "cell_type": "code",
   "execution_count": 3,
   "id": "saving-flood",
   "metadata": {},
   "outputs": [],
   "source": [
    "metmap_tissues = snakemake.params['metmap_tissues']\n",
    "tm_to_metmap = snakemake.params['tm_to_metmap']"
   ]
  },
  {
   "cell_type": "code",
   "execution_count": 4,
   "id": "renewable-semiconductor",
   "metadata": {
    "tags": []
   },
   "outputs": [],
   "source": [
    "curr_fold = int(snakemake.wildcards[\"fold\"])\n",
    "curr_fold"
   ]
  },
  {
   "cell_type": "code",
   "execution_count": 5,
   "id": "neither-driving",
   "metadata": {},
   "outputs": [],
   "source": [
    "kfold_df = pd.read_csv(snakemake.input['kfold_indices'])\n",
    "kfold_train_df = kfold_df.loc[(kfold_df[\"fold\"] == curr_fold) & (kfold_df[\"set\"] == \"train\")]\n",
    "kfold_test_df = kfold_df.loc[(kfold_df[\"fold\"] == curr_fold) & (kfold_df[\"set\"] == \"test\")]"
   ]
  },
  {
   "cell_type": "code",
   "execution_count": 6,
   "id": "alien-colors",
   "metadata": {},
   "outputs": [],
   "source": [
    "kfold_train_df.head()"
   ]
  },
  {
   "cell_type": "code",
   "execution_count": 7,
   "id": "particular-experiment",
   "metadata": {},
   "outputs": [],
   "source": [
    "ccle_adata = read_h5ad(snakemake.input['ccle_exp'])"
   ]
  },
  {
   "cell_type": "code",
   "execution_count": 8,
   "id": "headed-charter",
   "metadata": {},
   "outputs": [],
   "source": [
    "# Preprocess the gene expression data based on the current wildcards\n",
    "gexp_transform = snakemake.wildcards[\"gexp_transform\"]\n",
    "if gexp_transform == \"tpm\":\n",
    "    sc.pp.normalize_total(ccle_adata, target_sum=1e4)\n",
    "elif gexp_transform == \"log1p_tpm\":\n",
    "    sc.pp.normalize_total(ccle_adata, target_sum=1e4)\n",
    "    sc.pp.log1p(ccle_adata)\n",
    "elif gexp_transform == \"log1p_tpm_scale\":\n",
    "    sc.pp.normalize_total(ccle_adata, target_sum=1e4)\n",
    "    sc.pp.log1p(ccle_adata)\n",
    "    sc.pp.scale(ccle_adata, max_value=10)"
   ]
  },
  {
   "cell_type": "code",
   "execution_count": 9,
   "id": "innocent-metadata",
   "metadata": {},
   "outputs": [],
   "source": [
    "mm_all_df = pd.read_excel(snakemake.input['mm_potential'], sheet_name=f\"metp500.all5\", index_col=0)"
   ]
  },
  {
   "cell_type": "code",
   "execution_count": 10,
   "id": "accepted-florence",
   "metadata": {},
   "outputs": [],
   "source": [
    "train_celllines = kfold_train_df[\"cellline\"].values.tolist()\n",
    "test_celllines = kfold_test_df[\"cellline\"].values.tolist()"
   ]
  },
  {
   "cell_type": "code",
   "execution_count": 11,
   "id": "collect-costume",
   "metadata": {},
   "outputs": [],
   "source": [
    "# Need to take union of significantly differentially expressed genes in the training set.\n",
    "\n",
    "deseq_files = dict(zip(metmap_tissues, snakemake.input[:len(metmap_tissues)]))\n",
    "deseq_dfs = {}\n",
    "\n",
    "significance_level = 0.05\n",
    "fc_threshold = float(snakemake.wildcards[\"fc_threshold\"])\n",
    "\n",
    "deseq_significant_union = set()\n",
    "\n",
    "for tissue, deseq_file in deseq_files.items():\n",
    "    tissue_deseq_df = pd.read_csv(deseq_file, index_col=0)\n",
    "    tissue_deseq_df[\"significant\"] = tissue_deseq_df.apply(lambda row: row['padj'] <= significance_level and abs(row['log2FoldChange']) >= fc_threshold, axis='columns')\n",
    "    # Filter to keep only the significantly differentially expressed genes\n",
    "    tissue_deseq_df = tissue_deseq_df.loc[tissue_deseq_df[\"significant\"]]\n",
    "    \n",
    "    deseq_dfs[tissue] = tissue_deseq_df\n",
    "    \n",
    "    deseq_significant_union = deseq_significant_union.union(set(tissue_deseq_df.index.values.tolist()))\n",
    "\n",
    "deseq_signficant_genes = list(deseq_significant_union)\n",
    "len(deseq_signficant_genes)"
   ]
  },
  {
   "cell_type": "code",
   "execution_count": 12,
   "id": "running-voluntary",
   "metadata": {},
   "outputs": [],
   "source": [
    "tissue_train_test_X = {\n",
    "    \"train\": ccle_adata[train_celllines, deseq_signficant_genes].X,\n",
    "    \"test\": ccle_adata[test_celllines, deseq_signficant_genes].X,\n",
    "}"
   ]
  },
  {
   "cell_type": "code",
   "execution_count": 13,
   "id": "innovative-valuation",
   "metadata": {},
   "outputs": [],
   "source": [
    "# Make a dictionary mapping tissue type to training and testing metastatic potential values.\n",
    "# These will become the response variables for PLSRegression.\n",
    "# These should be ordered according to the ordering of cell lines in kfold_train_df and kfold_test_df\n",
    "\n",
    "train_y = []\n",
    "test_y = []\n",
    "for tissue in metmap_tissues:\n",
    "    mm_tissue = tm_to_metmap[tissue]\n",
    "    mm_tissue_df = pd.read_excel(snakemake.input['mm_potential'], sheet_name=f\"metp500.{mm_tissue}\", index_col=0)\n",
    "    \n",
    "    mm_tissue_train_df = mm_tissue_df.loc[train_celllines]\n",
    "    mm_tissue_test_df = mm_tissue_df.loc[test_celllines]\n",
    "    \n",
    "    train_y.append(mm_tissue_train_df[\"mean\"].values)\n",
    "    test_y.append(mm_tissue_test_df[\"mean\"].values)\n",
    "\n",
    "tissue_train_test_y = {\n",
    "    \"train\": np.stack(train_y, axis=-1),\n",
    "    \"test\": np.stack(test_y, axis=-1)\n",
    "}"
   ]
  },
  {
   "cell_type": "code",
   "execution_count": 14,
   "id": "median-witch",
   "metadata": {},
   "outputs": [],
   "source": [
    "n_components = int(snakemake.wildcards[\"num_pc\"])"
   ]
  },
  {
   "cell_type": "code",
   "execution_count": 15,
   "id": "automatic-identity",
   "metadata": {},
   "outputs": [],
   "source": [
    "X_train = tissue_train_test_X[\"train\"]\n",
    "Y_train = tissue_train_test_y[\"train\"]\n",
    "\n",
    "X_test = tissue_train_test_X[\"test\"]\n",
    "Y_test = tissue_train_test_y[\"test\"]\n",
    "\n",
    "pls2 = PLSRegression(n_components=n_components)\n",
    "pls2.fit(X_train, Y_train)\n",
    "\n",
    "# Predict on test (held out) data\n",
    "Y_pred = pls2.predict(X_test)"
   ]
  },
  {
   "cell_type": "code",
   "execution_count": 18,
   "id": "tropical-exclusion",
   "metadata": {},
   "outputs": [],
   "source": [
    "model_results = {}\n",
    "for tissue_i, tissue in enumerate(metmap_tissues):\n",
    "    Y_pred_tissue = Y_pred.T[tissue_i]\n",
    "    Y_test_tissue = Y_test.T[tissue_i]\n",
    "    model_results[tissue] = {\n",
    "        \"r2\": r2_score(Y_pred_tissue, Y_test_tissue),\n",
    "        \"mse\": mean_squared_error(Y_pred_tissue, Y_test_tissue)\n",
    "    }"
   ]
  },
  {
   "cell_type": "code",
   "execution_count": 19,
   "id": "alleged-tobago",
   "metadata": {},
   "outputs": [],
   "source": [
    "with open(snakemake.output[\"model_test_results\"], \"w\") as f:\n",
    "    json.dump(model_results, f)"
   ]
  },
  {
   "cell_type": "code",
   "execution_count": 20,
   "id": "ignored-wilderness",
   "metadata": {},
   "outputs": [],
   "source": [
    "# Predict on training data\n",
    "Y_train_pred = pls2.predict(X_train)"
   ]
  },
  {
   "cell_type": "code",
   "execution_count": 21,
   "id": "happy-watson",
   "metadata": {},
   "outputs": [],
   "source": [
    "model_train_results = {}\n",
    "for tissue_i, tissue in enumerate(metmap_tissues):\n",
    "    Y_pred_tissue = Y_train_pred.T[tissue_i]\n",
    "    Y_train_tissue = Y_train.T[tissue_i]\n",
    "    model_train_results[tissue] = {\n",
    "        \"r2\": r2_score(Y_pred_tissue, Y_train_tissue),\n",
    "        \"mse\": mean_squared_error(Y_pred_tissue, Y_train_tissue)\n",
    "    }"
   ]
  },
  {
   "cell_type": "code",
   "execution_count": 22,
   "id": "lucky-tanzania",
   "metadata": {},
   "outputs": [],
   "source": [
    "with open(snakemake.output[\"model_train_results\"], \"w\") as f:\n",
    "    json.dump(model_train_results, f)"
   ]
  },
  {
   "cell_type": "code",
   "execution_count": null,
   "id": "loved-estonia",
   "metadata": {},
   "outputs": [],
   "source": []
  }
 ],
 "metadata": {
  "kernelspec": {
   "display_name": "Python 3",
   "language": "python",
   "name": "python3"
  },
  "language_info": {
   "codemirror_mode": {
    "name": "ipython",
    "version": 3
   },
   "file_extension": ".py",
   "mimetype": "text/x-python",
   "name": "python",
   "nbconvert_exporter": "python",
   "pygments_lexer": "ipython3",
   "version": "3.8.8"
  }
 },
 "nbformat": 4,
 "nbformat_minor": 5
}
