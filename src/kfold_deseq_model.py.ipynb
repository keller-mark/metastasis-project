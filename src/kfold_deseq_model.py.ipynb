{
 "cells": [
  {
   "cell_type": "code",
   "execution_count": 2,
   "id": "reported-trance",
   "metadata": {},
   "outputs": [],
   "source": [
    "import pandas as pd\n",
    "import numpy as np\n",
    "from anndata import read_h5ad, AnnData\n",
    "import scanpy as sc\n",
    "import json\n",
    "\n",
    "from sklearn.metrics import mean_squared_error, r2_score\n",
    "from sklearn.cross_decomposition import PLSRegression\n",
    "\n",
    "import altair as alt\n",
    "from altair_saver import save as alt_save"
   ]
  },
  {
   "cell_type": "code",
   "execution_count": 3,
   "id": "manual-carolina",
   "metadata": {},
   "outputs": [],
   "source": [
    "metmap_tissues = snakemake.params['metmap_tissues']\n",
    "tm_to_metmap = snakemake.params['tm_to_metmap']"
   ]
  },
  {
   "cell_type": "code",
   "execution_count": 4,
   "id": "transparent-angle",
   "metadata": {
    "tags": []
   },
   "outputs": [],
   "source": [
    "curr_fold = int(snakemake.wildcards[\"fold\"])\n",
    "curr_fold"
   ]
  },
  {
   "cell_type": "code",
   "execution_count": 5,
   "id": "orange-weekend",
   "metadata": {},
   "outputs": [],
   "source": [
    "kfold_df = pd.read_csv(snakemake.input['kfold_indices'])\n",
    "kfold_train_df = kfold_df.loc[(kfold_df[\"fold\"] == curr_fold) & (kfold_df[\"set\"] == \"train\")]\n",
    "kfold_test_df = kfold_df.loc[(kfold_df[\"fold\"] == curr_fold) & (kfold_df[\"set\"] == \"test\")]"
   ]
  },
  {
   "cell_type": "code",
   "execution_count": 6,
   "id": "special-double",
   "metadata": {},
   "outputs": [],
   "source": [
    "kfold_train_df.head()"
   ]
  },
  {
   "cell_type": "code",
   "execution_count": 7,
   "id": "cooperative-environment",
   "metadata": {},
   "outputs": [],
   "source": [
    "ccle_adata = read_h5ad(snakemake.input['ccle_exp'])"
   ]
  },
  {
   "cell_type": "code",
   "execution_count": 8,
   "id": "respective-software",
   "metadata": {},
   "outputs": [],
   "source": [
    "# Preprocess the gene expression data based on the current wildcards\n",
    "gexp_transform = snakemake.wildcards[\"gexp_transform\"]\n",
    "if gexp_transform == \"tpm\":\n",
    "    sc.pp.normalize_total(ccle_adata, target_sum=1e4)\n",
    "elif gexp_transform == \"log1p_tpm\":\n",
    "    sc.pp.normalize_total(ccle_adata, target_sum=1e4)\n",
    "    sc.pp.log1p(ccle_adata)\n",
    "elif gexp_transform == \"log1p_tpm_scale\":\n",
    "    sc.pp.normalize_total(ccle_adata, target_sum=1e4)\n",
    "    sc.pp.log1p(ccle_adata)\n",
    "    sc.pp.scale(ccle_adata, max_value=10)"
   ]
  },
  {
   "cell_type": "code",
   "execution_count": 9,
   "id": "decent-credits",
   "metadata": {},
   "outputs": [],
   "source": [
    "mm_all_df = pd.read_excel(snakemake.input['mm_potential'], sheet_name=f\"metp500.all5\", index_col=0)"
   ]
  },
  {
   "cell_type": "code",
   "execution_count": 10,
   "id": "impossible-football",
   "metadata": {},
   "outputs": [],
   "source": [
    "train_celllines = kfold_train_df[\"cellline\"].values.tolist()\n",
    "test_celllines = kfold_test_df[\"cellline\"].values.tolist()"
   ]
  },
  {
   "cell_type": "code",
   "execution_count": 11,
   "id": "grateful-chosen",
   "metadata": {},
   "outputs": [],
   "source": [
    "# Need to take union of significantly differentially expressed genes in the training set.\n",
    "\n",
    "deseq_files = dict(zip(metmap_tissues, snakemake.input[:len(metmap_tissues)]))\n",
    "deseq_dfs = {}\n",
    "\n",
    "significance_level = 0.05\n",
    "fc_threshold = float(snakemake.wildcards[\"fc_threshold\"])\n",
    "\n",
    "deseq_significant_union = set()\n",
    "\n",
    "for tissue, deseq_file in deseq_files.items():\n",
    "    tissue_deseq_df = pd.read_csv(deseq_file, index_col=0)\n",
    "    tissue_deseq_df[\"significant\"] = tissue_deseq_df.apply(lambda row: row['padj'] <= significance_level and abs(row['log2FoldChange']) >= fc_threshold, axis='columns')\n",
    "    # Filter to keep only the significantly differentially expressed genes\n",
    "    tissue_deseq_df = tissue_deseq_df.loc[tissue_deseq_df[\"significant\"]]\n",
    "    \n",
    "    deseq_dfs[tissue] = tissue_deseq_df\n",
    "    \n",
    "    deseq_significant_union = deseq_significant_union.union(set(tissue_deseq_df.index.values.tolist()))\n",
    "\n",
    "deseq_signficant_genes = list(deseq_significant_union)\n",
    "len(deseq_signficant_genes)"
   ]
  },
  {
   "cell_type": "code",
   "execution_count": 12,
   "id": "dominican-combine",
   "metadata": {},
   "outputs": [],
   "source": [
    "tissue_train_test_X = {\n",
    "    \"train\": ccle_adata[train_celllines, deseq_signficant_genes].X,\n",
    "    \"test\": ccle_adata[test_celllines, deseq_signficant_genes].X,\n",
    "}"
   ]
  },
  {
   "cell_type": "markdown",
   "id": "interim-savings",
   "metadata": {},
   "outputs": [],
   "source": [
    "Metastatic potential: \"Data are presented on a log10 scale, range from -4 ~ 4.\"\n",
    "- <= -4: non-metastatic\n",
    "- -4~-2: (weakly) metastatic, but with low confidence\n",
    "- \\>= -2: metastatic, with higher confidence\n",
    "\n"
   ]
  },
  {
   "cell_type": "code",
   "execution_count": 25,
   "id": "secret-client",
   "metadata": {},
   "outputs": [],
   "source": [
    "def met_potential_encode(arr):\n",
    "    non_metastatic_mask = (arr <= -4)\n",
    "    weakly_metastatic_mask = (arr > -4) & (arr < -2)\n",
    "    metastatic_mask = (arr >= -2)\n",
    "    \n",
    "    arr[non_metastatic_mask] = 0\n",
    "    arr[weakly_metastatic_mask] = 1\n",
    "    arr[metastatic_mask] = 2\n",
    "    \n",
    "    return arr\n",
    "    return np.power(np.repeat(10, arr.shape[0]), arr)\n",
    "\n",
    "def met_potential_decode(arr):\n",
    "    return arr\n",
    "    return np.log10(np.clip(arr, a_min=0.000000001, a_max=None))"
   ]
  },
  {
   "cell_type": "code",
   "execution_count": 96,
   "id": "personalized-scheme",
   "metadata": {},
   "outputs": [],
   "source": [
    "# Make a dictionary mapping tissue type to training and testing metastatic potential values.\n",
    "# These will become the response variables for PLSRegression.\n",
    "# These should be ordered according to the ordering of cell lines in kfold_train_df and kfold_test_df\n",
    "\n",
    "train_y = []\n",
    "test_y = []\n",
    "for tissue in metmap_tissues:\n",
    "    mm_tissue = tm_to_metmap[tissue]\n",
    "    mm_tissue_df = pd.read_excel(snakemake.input['mm_potential'], sheet_name=f\"metp500.{mm_tissue}\", index_col=0)\n",
    "    \n",
    "    mm_tissue_train_df = mm_tissue_df.loc[train_celllines]\n",
    "    mm_tissue_test_df = mm_tissue_df.loc[test_celllines]\n",
    "    \n",
    "    train_y.append(met_potential_encode(mm_tissue_train_df[\"mean\"].values))\n",
    "    test_y.append(met_potential_encode(mm_tissue_test_df[\"mean\"].values))\n",
    "\n",
    "tissue_train_test_y = {\n",
    "    \"train\": np.stack(train_y, axis=-1),\n",
    "    \"test\": np.stack(test_y, axis=-1)\n",
    "}"
   ]
  },
  {
   "cell_type": "code",
   "execution_count": 97,
   "id": "documented-personal",
   "metadata": {},
   "outputs": [],
   "source": [
    "n_components = int(snakemake.wildcards[\"num_pc\"])"
   ]
  },
  {
   "cell_type": "markdown",
   "id": "1455157e-b956-406a-9ea0-030279171efb",
   "metadata": {},
   "outputs": [],
   "source": [
    "## PLSRegression"
   ]
  },
  {
   "cell_type": "code",
   "execution_count": 253,
   "id": "damaged-bracelet",
   "metadata": {},
   "outputs": [],
   "source": [
    "X_train = tissue_train_test_X[\"train\"]\n",
    "Y_train = tissue_train_test_y[\"train\"]\n",
    "\n",
    "X_test = tissue_train_test_X[\"test\"]\n",
    "Y_test = tissue_train_test_y[\"test\"]\n",
    "\n",
    "pls2 = PLSRegression(n_components=n_components)\n",
    "pls2.fit(X_train, Y_train)\n",
    "\n",
    "# Predict on test (held out) data\n",
    "Y_pred = pls2.predict(X_test)"
   ]
  },
  {
   "cell_type": "code",
   "execution_count": 254,
   "id": "mental-questionnaire",
   "metadata": {},
   "outputs": [],
   "source": [
    "model_results = {}\n",
    "for tissue_i, tissue in enumerate(metmap_tissues):\n",
    "    Y_pred_tissue = met_potential_decode(Y_pred.T[tissue_i])\n",
    "    Y_test_tissue = met_potential_decode(Y_test.T[tissue_i])\n",
    "    #print(Y_pred_tissue)\n",
    "    #print(Y_test_tissue)\n",
    "    model_results[tissue] = {\n",
    "        \"r2\": r2_score(Y_pred_tissue, Y_test_tissue),\n",
    "        \"mse\": mean_squared_error(Y_pred_tissue, Y_test_tissue)\n",
    "    }"
   ]
  },
  {
   "cell_type": "code",
   "execution_count": 255,
   "id": "instrumental-traveler",
   "metadata": {},
   "outputs": [],
   "source": [
    "model_results"
   ]
  },
  {
   "cell_type": "code",
   "execution_count": 256,
   "id": "narrow-copyright",
   "metadata": {},
   "outputs": [],
   "source": [
    "with open(snakemake.output[\"model_test_results\"], \"w\") as f:\n",
    "    json.dump(model_results, f)"
   ]
  },
  {
   "cell_type": "code",
   "execution_count": 257,
   "id": "oriental-antigua",
   "metadata": {},
   "outputs": [],
   "source": [
    "# Predict on training data\n",
    "Y_train_pred = pls2.predict(X_train)"
   ]
  },
  {
   "cell_type": "code",
   "execution_count": 258,
   "id": "insured-lloyd",
   "metadata": {},
   "outputs": [],
   "source": [
    "model_train_results = {}\n",
    "for tissue_i, tissue in enumerate(metmap_tissues):\n",
    "    Y_pred_tissue = met_potential_decode(Y_train_pred.T[tissue_i])\n",
    "    Y_train_tissue = met_potential_decode(Y_train.T[tissue_i])\n",
    "    model_train_results[tissue] = {\n",
    "        \"r2\": r2_score(Y_pred_tissue, Y_train_tissue),\n",
    "        \"mse\": mean_squared_error(Y_pred_tissue, Y_train_tissue)\n",
    "    }"
   ]
  },
  {
   "cell_type": "code",
   "execution_count": 259,
   "id": "crazy-board",
   "metadata": {},
   "outputs": [],
   "source": [
    "model_train_results"
   ]
  },
  {
   "cell_type": "code",
   "execution_count": 260,
   "id": "multiple-rapid",
   "metadata": {},
   "outputs": [],
   "source": [
    "with open(snakemake.output[\"model_train_results\"], \"w\") as f:\n",
    "    json.dump(model_train_results, f)"
   ]
  },
  {
   "cell_type": "markdown",
   "id": "e464e589-0fb6-4948-9cc1-432d29357a6b",
   "metadata": {},
   "outputs": [],
   "source": [
    "## Basic deep learning model"
   ]
  },
  {
   "cell_type": "code",
   "execution_count": 261,
   "id": "48f9ffe7-73a0-47da-bcd2-40a17c6f9e37",
   "metadata": {},
   "outputs": [],
   "source": [
    "import torch\n",
    "from torch import nn\n",
    "from torch.utils.data import DataLoader, Dataset, TensorDataset"
   ]
  },
  {
   "cell_type": "code",
   "execution_count": 262,
   "id": "c51d0973-a04f-41cf-a580-7c2bec6ce17c",
   "metadata": {},
   "outputs": [],
   "source": [
    "X_train = torch.tensor(X_train, dtype=torch.float32)\n",
    "Y_train = torch.tensor(Y_train).type(torch.LongTensor)\n",
    "\n",
    "X_test = torch.tensor(X_test, dtype=torch.float32)\n",
    "Y_test = torch.tensor(Y_test).type(torch.LongTensor)"
   ]
  },
  {
   "cell_type": "code",
   "execution_count": 263,
   "id": "5e6a90e2-4e3a-4243-bff8-db6a6990108c",
   "metadata": {},
   "outputs": [],
   "source": [
    "Y_train"
   ]
  },
  {
   "cell_type": "code",
   "execution_count": 264,
   "id": "b5e15cd1-c12d-40c8-9a12-e97d1f1f476a",
   "metadata": {},
   "outputs": [],
   "source": [
    "class GeneExpressionDataset(Dataset):\n",
    "    # https://pytorch.org/tutorials/beginner/basics/data_tutorial.html#creating-a-custom-dataset-for-your-files\n",
    "    def __init__(self, X, Y, tissue_i):\n",
    "        self.X = X\n",
    "        self.Y = Y\n",
    "        self.tissue_i = tissue_i\n",
    "    \n",
    "    def __len__(self):\n",
    "        return len(self.X)\n",
    "    \n",
    "    def __getitem__(self, i):\n",
    "        return (self.X[i], self.Y[i][self.tissue_i])\n",
    "    "
   ]
  },
  {
   "cell_type": "code",
   "execution_count": 265,
   "id": "b24dec70-adc8-4c5e-9b66-169bce1648f3",
   "metadata": {},
   "outputs": [],
   "source": [
    "num_features = X_train.shape[1]\n",
    "num_classes = 3"
   ]
  },
  {
   "cell_type": "code",
   "execution_count": 280,
   "id": "6d3862cf-9b18-4448-b8b7-2514ab73951a",
   "metadata": {},
   "outputs": [],
   "source": [
    "train_dataloader = DataLoader(GeneExpressionDataset(X_train, Y_train, 0), batch_size=16, shuffle=True)\n",
    "test_dataloader = DataLoader(GeneExpressionDataset(X_test, Y_test, 0), batch_size=16, shuffle=True)"
   ]
  },
  {
   "cell_type": "code",
   "execution_count": 281,
   "id": "8bb80767-2782-4dc0-bd4a-5bd5a166ff98",
   "metadata": {},
   "outputs": [],
   "source": [
    "device = 'cuda' if torch.cuda.is_available() else 'cpu'\n",
    "print('Using {} device'.format(device))"
   ]
  },
  {
   "cell_type": "code",
   "execution_count": 304,
   "id": "ec7d5d7f-192b-4113-a530-9a85a98f955b",
   "metadata": {},
   "outputs": [],
   "source": [
    "class NeuralNetwork(nn.Module):\n",
    "    def __init__(self):\n",
    "        super(NeuralNetwork, self).__init__()\n",
    "        self.linear_relu_stack = nn.Sequential(\n",
    "            nn.Linear(num_features, 512),\n",
    "            nn.ReLU(),\n",
    "            nn.Linear(512, 512),\n",
    "            nn.ReLU(),\n",
    "            nn.Linear(512, num_classes),\n",
    "            nn.ReLU()\n",
    "        )\n",
    "    \n",
    "    def forward(self, x):\n",
    "        logits = self.linear_relu_stack(x)\n",
    "        return logits"
   ]
  },
  {
   "cell_type": "code",
   "execution_count": 311,
   "id": "1d4e4853-99e1-4d2a-91fb-9eecade2559d",
   "metadata": {},
   "outputs": [],
   "source": [
    "model = NeuralNetwork().to(device)\n",
    "print(model)"
   ]
  },
  {
   "cell_type": "code",
   "execution_count": 312,
   "id": "6fe0c813-1f1d-4d8d-b39d-c3559c1e3674",
   "metadata": {},
   "outputs": [],
   "source": [
    "loss_fn = nn.CrossEntropyLoss()\n",
    "optimizer = torch.optim.SGD(model.parameters(), lr=1e-3)"
   ]
  },
  {
   "cell_type": "code",
   "execution_count": 313,
   "id": "informational-bachelor",
   "metadata": {},
   "outputs": [],
   "source": [
    "def train(dataloader, model, loss_fn, optimizer):\n",
    "    size = len(dataloader.dataset)\n",
    "    for batch, (X, y) in enumerate(dataloader):\n",
    "        X, y = X.to(device), y.to(device)\n",
    "        \n",
    "        # Compute prediction error\n",
    "        pred = model(X)\n",
    "        loss = loss_fn(pred, y)\n",
    "        \n",
    "        # Backpropagation\n",
    "        optimizer.zero_grad()\n",
    "        loss.backward()\n",
    "        optimizer.step()\n",
    "        \n",
    "        if batch % 8 == 0:\n",
    "            loss, current = loss.item(), batch * len(X)\n",
    "            print(f\"loss: {loss:>7f}  [{current:>5d}/{size:>5d}]\")"
   ]
  },
  {
   "cell_type": "code",
   "execution_count": 314,
   "id": "e7a09b52-b88e-4d10-8483-7fc6fb67b96d",
   "metadata": {},
   "outputs": [],
   "source": [
    "def test(dataloader, model):\n",
    "    size = len(dataloader.dataset)\n",
    "    model.eval()\n",
    "    test_loss, correct = 0, 0\n",
    "    with torch.no_grad():\n",
    "        for X, y in dataloader:\n",
    "            X, y = X.to(device), y.to(device)\n",
    "            pred = model(X)\n",
    "            test_loss += loss_fn(pred, y).item()\n",
    "            correct += (pred.argmax(1) == y).type(torch.float).sum().item()\n",
    "    test_loss /= size\n",
    "    correct /= size\n",
    "    print(f\"Test Error: \\n Accuracy: {(100*correct):>0.1f}%, Avg loss: {test_loss:>8f} \\n\")"
   ]
  },
  {
   "cell_type": "code",
   "execution_count": 315,
   "id": "6dcc8610-c3ae-4919-b1f1-b3533e4816c6",
   "metadata": {},
   "outputs": [],
   "source": [
    "epochs = 30\n",
    "for t in range(epochs):\n",
    "    print(f\"Epoch {t+1}\\n-------------\")\n",
    "    train(train_dataloader, model, loss_fn, optimizer)\n",
    "    test(test_dataloader, model)\n",
    "print(\"Done!\")"
   ]
  },
  {
   "cell_type": "code",
   "execution_count": 316,
   "id": "2c0495ff-b4e7-4831-86ef-f2f7e6574828",
   "metadata": {},
   "outputs": [],
   "source": [
    "# TODO:\n",
    "# train models for each organ individually\n",
    "# visualize the accuracy and loss over each epoch\n",
    "# train single model for all organs together, with 3*num_organs nodes in the output layer"
   ]
  },
  {
   "cell_type": "code",
   "execution_count": null,
   "id": "34672609-174f-48f5-91a7-45e3df68abf5",
   "metadata": {},
   "outputs": [],
   "source": []
  },
  {
   "cell_type": "code",
   "execution_count": null,
   "id": "6bee59ad-1c21-4beb-a254-8829608c8ecd",
   "metadata": {},
   "outputs": [],
   "source": []
  },
  {
   "cell_type": "code",
   "execution_count": null,
   "id": "3c0bc0a7-2be1-4ec9-a2ac-d7236b27dc08",
   "metadata": {},
   "outputs": [],
   "source": []
  }
 ],
 "metadata": {
  "kernelspec": {
   "display_name": "Python 3",
   "language": "python",
   "name": "python3"
  },
  "language_info": {
   "codemirror_mode": {
    "name": "ipython",
    "version": 3
   },
   "file_extension": ".py",
   "mimetype": "text/x-python",
   "name": "python",
   "nbconvert_exporter": "python",
   "pygments_lexer": "ipython3",
   "version": "3.8.8"
  }
 },
 "nbformat": 4,
 "nbformat_minor": 5
}
