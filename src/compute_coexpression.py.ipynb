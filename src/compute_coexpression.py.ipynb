{
 "cells": [
  {
   "cell_type": "code",
   "execution_count": 2,
   "id": "legal-joining",
   "metadata": {},
   "outputs": [],
   "source": [
    "# start coding here"
   ]
  },
  {
   "cell_type": "code",
   "execution_count": 3,
   "id": "owned-keeping",
   "metadata": {},
   "outputs": [],
   "source": [
    "import pandas as pd\n",
    "import numpy as np\n",
    "from anndata import read_h5ad, AnnData\n",
    "import scanpy as sc"
   ]
  },
  {
   "cell_type": "code",
   "execution_count": 4,
   "id": "valuable-fourth",
   "metadata": {},
   "outputs": [],
   "source": [
    "metmap_tissue = snakemake.params['metmap_tissue']\n",
    "expression_scale = snakemake.wildcards['expression_scale']"
   ]
  },
  {
   "cell_type": "code",
   "execution_count": 14,
   "id": "senior-retailer",
   "metadata": {},
   "outputs": [],
   "source": [
    "tm_adata = read_h5ad(snakemake.input['tm_pseudobulk'])\n",
    "ccle_adata = read_h5ad(snakemake.input['ccle_exp'])\n",
    "# Tissue-specific metastasis potential\n",
    "mm_potential_df = pd.read_excel(snakemake.input['mm_potential'], sheet_name=f\"metp500.{metmap_tissue}\", index_col=0)\n",
    "i_df = pd.read_csv(snakemake.input['interactions'], sep='\\t')"
   ]
  },
  {
   "cell_type": "code",
   "execution_count": 15,
   "id": "recorded-ideal",
   "metadata": {},
   "outputs": [],
   "source": [
    "mm_celllines = mm_potential_df.index.values.tolist()"
   ]
  },
  {
   "cell_type": "code",
   "execution_count": 16,
   "id": "bronze-defensive",
   "metadata": {},
   "outputs": [],
   "source": [
    "cellline_intersect = set(ccle_adata.obs.index.values.tolist()).intersection(set(mm_celllines))\n",
    "len(cellline_intersect)"
   ]
  },
  {
   "cell_type": "code",
   "execution_count": 22,
   "id": "artificial-custody",
   "metadata": {},
   "outputs": [],
   "source": [
    "ccle_adata.var['human_gene_ensembl'] = ccle_adata.var.index.to_series().apply(lambda gene_v: gene_v.split(\".\")[0])\n",
    "ccle_adata.var = ccle_adata.var.rename(columns={'Description': \"human_gene\"})\n",
    "ccle_adata.var.head()"
   ]
  },
  {
   "cell_type": "code",
   "execution_count": 28,
   "id": "israeli-speed",
   "metadata": {},
   "outputs": [],
   "source": [
    "ccle_genes = set(ccle_adata.var['human_gene_ensembl'].values.tolist())"
   ]
  },
  {
   "cell_type": "code",
   "execution_count": 29,
   "id": "bigger-flesh",
   "metadata": {},
   "outputs": [],
   "source": [
    "# Get the set of mouse genes present in the interaction table\n",
    "i_mouse_genes = set(i_df['mouse_gene'].unique().tolist())\n",
    "i_mouse_genes_ensembl = set(i_df['mouse_gene_ensembl'].unique().tolist())"
   ]
  },
  {
   "cell_type": "code",
   "execution_count": 30,
   "id": "cleared-norman",
   "metadata": {},
   "outputs": [],
   "source": [
    "# Get the set of human genes present in the interaction table\n",
    "i_human_genes = set(i_df['human_gene'].unique().tolist())\n",
    "i_human_genes_ensembl = set(i_df['human_gene_ensembl'].unique().tolist())"
   ]
  },
  {
   "cell_type": "code",
   "execution_count": 32,
   "id": "valued-chick",
   "metadata": {},
   "outputs": [],
   "source": [
    "tm_genes = set(tm_adata.var.index.values.tolist())"
   ]
  },
  {
   "cell_type": "code",
   "execution_count": 47,
   "id": "unexpected-candidate",
   "metadata": {},
   "outputs": [],
   "source": [
    "gene_mouse_to_human = dict(zip(i_df['mouse_gene'].values.tolist(), i_df['human_gene'].values.tolist()))\n",
    "gene_human_to_mouse = dict(zip(i_df['human_gene'].values.tolist(), i_df['mouse_gene'].values.tolist()))\n",
    "\n",
    "gene_human_to_human_ensembl = dict(zip(i_df['human_gene'].values.tolist(), i_df['human_gene_ensembl'].values.tolist()))\n",
    "gene_human_ensembl_to_human = dict(zip(i_df['human_gene_ensembl'].values.tolist(), i_df['human_gene'].values.tolist()))\n",
    "\n",
    "gene_mouse_to_mouse_ensembl = dict(zip(i_df['mouse_gene'].values.tolist(), i_df['mouse_gene_ensembl'].values.tolist()))\n",
    "gene_mouse_ensembl_to_mouse = dict(zip(i_df['mouse_gene_ensembl'].values.tolist(), i_df['mouse_gene'].values.tolist()))\n",
    "\n",
    "del gene_mouse_to_human[np.nan]\n",
    "del gene_mouse_to_mouse_ensembl[np.nan]\n",
    "del gene_mouse_ensembl_to_mouse[np.nan]"
   ]
  },
  {
   "cell_type": "code",
   "execution_count": 83,
   "id": "american-crown",
   "metadata": {},
   "outputs": [],
   "source": [
    "tm_adata.var['in_cpdb'] = tm_adata.var['name'].apply(lambda gene: gene in set(genes_in_tm_and_ccle_as_mouse))\n",
    "ccle_adata.var['in_cpdb'] = ccle_adata.var['ensembl'].apply(lambda gene: gene in set(genes_in_tm_and_ccle_as_human_ensembl))"
   ]
  },
  {
   "cell_type": "code",
   "execution_count": 84,
   "id": "vertical-farming",
   "metadata": {},
   "outputs": [],
   "source": [
    "tm_adata.var['in_cpdb'].sum()"
   ]
  },
  {
   "cell_type": "code",
   "execution_count": 85,
   "id": "abandoned-adams",
   "metadata": {},
   "outputs": [],
   "source": [
    "ccle_adata.var['in_cpdb'].sum()"
   ]
  },
  {
   "cell_type": "code",
   "execution_count": 86,
   "id": "unknown-burst",
   "metadata": {},
   "outputs": [],
   "source": [
    "tm_cpdb_adata = tm_adata[:, tm_adata.var['in_cpdb']]\n",
    "ccle_cpdb_adata = ccle_adata[:, ccle_adata.var['in_cpdb']]"
   ]
  },
  {
   "cell_type": "code",
   "execution_count": 87,
   "id": "seventh-investing",
   "metadata": {},
   "outputs": [],
   "source": [
    "ccle_cpdb_adata.var['name'] = ccle_cpdb_adata.var['ensembl'].apply(lambda ens: gene_human_ensembl_to_human[ens])"
   ]
  },
  {
   "cell_type": "code",
   "execution_count": 88,
   "id": "nuclear-breeding",
   "metadata": {},
   "outputs": [],
   "source": [
    "tm_cpdb_adata.var['ensembl'] = tm_cpdb_adata.var['name'].apply(lambda gene: gene_mouse_to_mouse_ensembl[gene])"
   ]
  },
  {
   "cell_type": "code",
   "execution_count": 89,
   "id": "tamil-austria",
   "metadata": {},
   "outputs": [],
   "source": [
    "sc.pl.highest_expr_genes(tm_cpdb_adata, n_top=20)"
   ]
  },
  {
   "cell_type": "markdown",
   "id": "frequent-destruction",
   "metadata": {},
   "outputs": [],
   "source": [
    "Preprocessing of expression data"
   ]
  },
  {
   "cell_type": "code",
   "execution_count": 90,
   "id": "attended-american",
   "metadata": {},
   "outputs": [],
   "source": [
    "sc.pl.highest_expr_genes(tm_cpdb_adata, n_top=20)"
   ]
  },
  {
   "cell_type": "code",
   "execution_count": 91,
   "id": "expanded-certificate",
   "metadata": {},
   "outputs": [],
   "source": [
    "sc.pp.normalize_total(tm_cpdb_adata, target_sum=1e4)\n",
    "sc.pp.normalize_total(ccle_cpdb_adata, target_sum=1e4)\n",
    "\n",
    "if expression_scale == \"log\":\n",
    "    sc.pp.log1p(tm_cpdb_adata)\n",
    "    sc.pp.log1p(ccle_cpdb_adata)\n",
    "elif expression_scale == \"binary\":\n",
    "    tm_cpdb_adata.X = (tm_cpdb_adata.X > 0)\n",
    "    ccle_cpdb_adata.X = (ccle_cpdb_adata.X > 0)"
   ]
  },
  {
   "cell_type": "code",
   "execution_count": 93,
   "id": "innocent-playlist",
   "metadata": {},
   "outputs": [],
   "source": [
    "tm_cpdb_adata.var"
   ]
  },
  {
   "cell_type": "code",
   "execution_count": 94,
   "id": "gross-floating",
   "metadata": {},
   "outputs": [],
   "source": [
    "ccle_cpdb_adata.var"
   ]
  },
  {
   "cell_type": "code",
   "execution_count": 95,
   "id": "vanilla-technical",
   "metadata": {},
   "outputs": [],
   "source": [
    "ccle_cpdb_X_df = pd.DataFrame(data=ccle_cpdb_adata.X.T, index=ccle_cpdb_adata.var['ensembl'].values.tolist(), columns=ccle_cpdb_adata.obs.index.values.tolist())\n",
    "tm_cpdb_X_df = pd.DataFrame(data=tm_cpdb_adata.X.T, index=tm_cpdb_adata.var['ensembl'].values.tolist(), columns=tm_cpdb_adata.obs.index.values.tolist())"
   ]
  },
  {
   "cell_type": "code",
   "execution_count": 96,
   "id": "taken-track",
   "metadata": {},
   "outputs": [],
   "source": [
    "ccle_cpdb_X_df.head()"
   ]
  },
  {
   "cell_type": "code",
   "execution_count": 97,
   "id": "floral-error",
   "metadata": {},
   "outputs": [],
   "source": [
    "tm_cpdb_X_df.head()"
   ]
  },
  {
   "cell_type": "code",
   "execution_count": 98,
   "id": "mounted-vancouver",
   "metadata": {},
   "outputs": [],
   "source": [
    "cpdb_human_a_df = o_in_tm_and_ccle_df[['ensembl_a']]\n",
    "cpdb_human_b_df = o_in_tm_and_ccle_df[['ensembl_b']]\n",
    "\n",
    "cpdb_mouse_a_df = o_in_tm_and_ccle_df[['ensembl_gene_mouse_a']]\n",
    "cpdb_mouse_b_df = o_in_tm_and_ccle_df[['ensembl_gene_mouse_b']]"
   ]
  },
  {
   "cell_type": "code",
   "execution_count": 99,
   "id": "earlier-lawsuit",
   "metadata": {},
   "outputs": [],
   "source": [
    "cpdb_human_a_df.head()"
   ]
  },
  {
   "cell_type": "code",
   "execution_count": 100,
   "id": "greenhouse-borough",
   "metadata": {},
   "outputs": [],
   "source": [
    "cpdb_human_a_df = cpdb_human_a_df.merge(ccle_cpdb_X_df, how='left', left_on=\"ensembl_a\", right_index=True)\n",
    "cpdb_human_b_df = cpdb_human_b_df.merge(ccle_cpdb_X_df, how='left', left_on=\"ensembl_b\", right_index=True)\n",
    "\n",
    "cpdb_mouse_a_df = cpdb_mouse_a_df.merge(tm_cpdb_X_df, how='left', left_on=\"ensembl_gene_mouse_a\", right_index=True)\n",
    "cpdb_mouse_b_df = cpdb_mouse_b_df.merge(tm_cpdb_X_df, how='left', left_on=\"ensembl_gene_mouse_b\", right_index=True)"
   ]
  },
  {
   "cell_type": "code",
   "execution_count": 101,
   "id": "close-bulgaria",
   "metadata": {},
   "outputs": [],
   "source": [
    "cpdb_mouse_b_df.head()"
   ]
  },
  {
   "cell_type": "code",
   "execution_count": 102,
   "id": "instructional-gilbert",
   "metadata": {},
   "outputs": [],
   "source": [
    "cell_ontology_ids = tm_cpdb_adata.obs.index.values.tolist()"
   ]
  },
  {
   "cell_type": "code",
   "execution_count": 103,
   "id": "breeding-melbourne",
   "metadata": {},
   "outputs": [],
   "source": [
    "coexp_obs_df = pd.DataFrame(columns=[\"cell_ontology_id\", \"cell_line\", \"human_a_mouse_b\"])\n",
    "coexp_arr = []"
   ]
  },
  {
   "cell_type": "code",
   "execution_count": 104,
   "id": "intelligent-coupon",
   "metadata": {},
   "outputs": [],
   "source": [
    "for cell_ontology_id in cell_ontology_ids:\n",
    "    for cell_line in cellline_intersect:\n",
    "        # Compute co-expression\n",
    "        human_exp = cpdb_human_a_df[cell_line].values\n",
    "        mouse_exp = cpdb_mouse_b_df[cell_ontology_id].values\n",
    "        exp_pairs = np.stack((human_exp, mouse_exp), axis=-1)\n",
    "        tm_ccle_coexp = np.amin(exp_pairs, axis=1)\n",
    "        coexp_arr.append(tm_ccle_coexp)\n",
    "        coexp_obs_df = coexp_obs_df.append({\n",
    "            \"cell_ontology_id\": cell_ontology_id,\n",
    "            \"cell_line\": cell_line,\n",
    "            \"human_a_mouse_b\": True,\n",
    "            \"metmap_tissue\": metmap_tissue,\n",
    "            \"met_potential_ci_05\": mm_potential_df.at[cell_line, 'CI.05'],\n",
    "            \"met_potential_ci_95\": mm_potential_df.at[cell_line, 'CI.95'],\n",
    "            \"met_potential_mean\": mm_potential_df.at[cell_line, 'mean'],\n",
    "            \"met_potential_penetrance\": mm_potential_df.at[cell_line, 'penetrance'],\n",
    "        }, ignore_index=True)"
   ]
  },
  {
   "cell_type": "code",
   "execution_count": 105,
   "id": "textile-optics",
   "metadata": {},
   "outputs": [],
   "source": [
    "coexp_X = np.stack(coexp_arr, axis=-1).T"
   ]
  },
  {
   "cell_type": "code",
   "execution_count": 106,
   "id": "successful-warren",
   "metadata": {},
   "outputs": [],
   "source": [
    "coexp_adata = AnnData(X=coexp_X, obs=coexp_obs_df, var=o_in_tm_and_ccle_df)"
   ]
  },
  {
   "cell_type": "code",
   "execution_count": 107,
   "id": "married-carter",
   "metadata": {},
   "outputs": [],
   "source": [
    "coexp_adata.write(snakemake.output[0])"
   ]
  },
  {
   "cell_type": "code",
   "execution_count": null,
   "id": "scenic-archive",
   "metadata": {},
   "outputs": [],
   "source": []
  },
  {
   "cell_type": "code",
   "execution_count": null,
   "id": "adopted-movie",
   "metadata": {},
   "outputs": [],
   "source": []
  }
 ],
 "metadata": {
  "kernelspec": {
   "display_name": "Python 3",
   "language": "python",
   "name": "python3"
  },
  "language_info": {
   "codemirror_mode": {
    "name": "ipython",
    "version": 3
   },
   "file_extension": ".py",
   "mimetype": "text/x-python",
   "name": "python",
   "nbconvert_exporter": "python",
   "pygments_lexer": "ipython3",
   "version": "3.8.8"
  }
 },
 "nbformat": 4,
 "nbformat_minor": 5
}
