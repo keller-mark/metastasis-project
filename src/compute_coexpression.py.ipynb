{
 "cells": [
  {
   "cell_type": "code",
   "execution_count": 2,
   "id": "presidential-municipality",
   "metadata": {},
   "outputs": [],
   "source": [
    "# start coding here"
   ]
  },
  {
   "cell_type": "code",
   "execution_count": 136,
   "id": "universal-catch",
   "metadata": {},
   "outputs": [],
   "source": [
    "import pandas as pd\n",
    "import numpy as np\n",
    "from anndata import read_h5ad, AnnData\n",
    "import scanpy as sc"
   ]
  },
  {
   "cell_type": "code",
   "execution_count": 137,
   "id": "stunning-exception",
   "metadata": {},
   "outputs": [],
   "source": [
    "metmap_tissue = snakemake.params['metmap_tissue']\n",
    "expression_scale = snakemake.wildcards['expression_scale']"
   ]
  },
  {
   "cell_type": "code",
   "execution_count": 138,
   "id": "removed-space",
   "metadata": {},
   "outputs": [],
   "source": [
    "tm_adata = read_h5ad(snakemake.input['tm_pseudobulk'])\n",
    "ccle_adata = read_h5ad(snakemake.input['ccle_exp'])\n",
    "# Tissue-specific metastasis potential\n",
    "mm_potential_df = pd.read_excel(snakemake.input['mm_potential'], sheet_name=f\"metp500.{metmap_tissue}\", index_col=0)\n",
    "i_df = pd.read_csv(snakemake.input['interactions'], sep='\\t')\n",
    "\n",
    "# Restrict to only those interactions for which there is at least one mouse ortholog for partner A or partner B\n",
    "i_df = i_df.loc[i_df[\"a_or_b_have_orthologs\"]]"
   ]
  },
  {
   "cell_type": "code",
   "execution_count": 139,
   "id": "fitting-labor",
   "metadata": {},
   "outputs": [],
   "source": [
    "mm_celllines = mm_potential_df.index.values.tolist()"
   ]
  },
  {
   "cell_type": "code",
   "execution_count": 140,
   "id": "healthy-tourist",
   "metadata": {},
   "outputs": [],
   "source": [
    "cellline_intersect = set(ccle_adata.obs.index.values.tolist()).intersection(set(mm_celllines))\n",
    "len(cellline_intersect)"
   ]
  },
  {
   "cell_type": "code",
   "execution_count": 141,
   "id": "meaningful-personal",
   "metadata": {},
   "outputs": [],
   "source": [
    "ccle_adata.var['human_gene_ensembl'] = ccle_adata.var.index.to_series().apply(lambda gene_v: gene_v.split(\".\")[0])\n",
    "ccle_adata.var = ccle_adata.var.rename(columns={'Description': \"human_gene\"})\n",
    "ccle_adata.var.head()"
   ]
  },
  {
   "cell_type": "code",
   "execution_count": 142,
   "id": "saved-flower",
   "metadata": {},
   "outputs": [],
   "source": [
    "tm_adata.var = tm_adata.var.rename(columns={'name': \"mouse_gene\"})"
   ]
  },
  {
   "cell_type": "code",
   "execution_count": 143,
   "id": "former-words",
   "metadata": {},
   "outputs": [],
   "source": [
    "ccle_genes = set(ccle_adata.var['human_gene_ensembl'].values.tolist())"
   ]
  },
  {
   "cell_type": "code",
   "execution_count": 144,
   "id": "static-lingerie",
   "metadata": {},
   "outputs": [],
   "source": [
    "# Get the set of mouse genes present in the interaction table\n",
    "i_mouse_genes = set(i_df.dropna(subset=['mouse_gene'])['mouse_gene'].unique().tolist())\n",
    "i_mouse_genes_ensembl = set(i_df.dropna(subset=['mouse_gene_ensembl'])['mouse_gene_ensembl'].unique().tolist())"
   ]
  },
  {
   "cell_type": "code",
   "execution_count": 145,
   "id": "freelance-wright",
   "metadata": {},
   "outputs": [],
   "source": [
    "# Get the set of human genes present in the interaction table\n",
    "i_human_genes = set(i_df.dropna(subset=['human_gene'])['human_gene'].unique().tolist())\n",
    "i_human_genes_ensembl = set(i_df.dropna(subset=['human_gene_ensembl'])['human_gene_ensembl'].unique().tolist())"
   ]
  },
  {
   "cell_type": "code",
   "execution_count": 146,
   "id": "unique-criminal",
   "metadata": {},
   "outputs": [],
   "source": [
    "tm_genes = set(tm_adata.var.index.values.tolist())"
   ]
  },
  {
   "cell_type": "code",
   "execution_count": 147,
   "id": "concerned-airfare",
   "metadata": {},
   "outputs": [],
   "source": [
    "i_mh_df = i_df.dropna(subset=[\"mouse_gene\", \"human_gene\"])\n",
    "gene_mouse_to_human = dict(zip(i_mh_df['mouse_gene'].values.tolist(), i_mh_df['human_gene'].values.tolist()))\n",
    "gene_human_to_mouse = dict(zip(i_mh_df['human_gene'].values.tolist(), i_mh_df['mouse_gene'].values.tolist()))\n",
    "\n",
    "i_mhe_df = i_df.dropna(subset=[\"mouse_gene_ensembl\", \"human_gene_ensembl\"])\n",
    "gene_mouse_ensembl_to_human_ensembl = dict(zip(i_mhe_df['mouse_gene_ensembl'].values.tolist(), i_mhe_df['human_gene_ensembl'].values.tolist()))\n",
    "gene_human_ensembl_to_mouse_ensembl = dict(zip(i_mhe_df['human_gene_ensembl'].values.tolist(), i_mhe_df['mouse_gene_ensembl'].values.tolist()))\n",
    "\n",
    "i_he_df = i_df.dropna(subset=[\"human_gene\", \"human_gene_ensembl\"])\n",
    "gene_human_to_human_ensembl = dict(zip(i_he_df['human_gene'].values.tolist(), i_he_df['human_gene_ensembl'].values.tolist()))\n",
    "gene_human_ensembl_to_human = dict(zip(i_he_df['human_gene_ensembl'].values.tolist(), i_he_df['human_gene'].values.tolist()))\n",
    "\n",
    "i_me_df = i_df.dropna(subset=[\"mouse_gene\", \"mouse_gene_ensembl\"])\n",
    "gene_mouse_to_mouse_ensembl = dict(zip(i_me_df['mouse_gene'].values.tolist(), i_me_df['mouse_gene_ensembl'].values.tolist()))\n",
    "gene_mouse_ensembl_to_mouse = dict(zip(i_me_df['mouse_gene_ensembl'].values.tolist(), i_me_df['mouse_gene'].values.tolist()))"
   ]
  },
  {
   "cell_type": "code",
   "execution_count": 148,
   "id": "russian-chest",
   "metadata": {},
   "outputs": [],
   "source": [
    "tm_adata.var['in_interaction'] = tm_adata.var['mouse_gene'].apply(lambda gene: gene in i_mouse_genes)\n",
    "ccle_adata.var['in_interaction'] = ccle_adata.var['human_gene_ensembl'].apply(lambda gene: gene in i_human_genes_ensembl)"
   ]
  },
  {
   "cell_type": "code",
   "execution_count": 149,
   "id": "current-geometry",
   "metadata": {},
   "outputs": [],
   "source": [
    "tm_adata.var['in_interaction'].sum()"
   ]
  },
  {
   "cell_type": "code",
   "execution_count": 150,
   "id": "logical-numbers",
   "metadata": {},
   "outputs": [],
   "source": [
    "ccle_adata.var['in_interaction'].sum()"
   ]
  },
  {
   "cell_type": "code",
   "execution_count": 151,
   "id": "least-waters",
   "metadata": {},
   "outputs": [],
   "source": [
    "tm_cpdb_adata = tm_adata[:, tm_adata.var['in_interaction']]\n",
    "ccle_cpdb_adata = ccle_adata[:, ccle_adata.var['in_interaction']]"
   ]
  },
  {
   "cell_type": "code",
   "execution_count": 152,
   "id": "forward-estimate",
   "metadata": {},
   "outputs": [],
   "source": [
    "ccle_cpdb_adata.var"
   ]
  },
  {
   "cell_type": "code",
   "execution_count": 162,
   "id": "innocent-integrity",
   "metadata": {},
   "outputs": [],
   "source": [
    "# Standardize the gene names and add ensembl gene names where they are missing.\n",
    "# Add orthologous gene names and ensembl gene names to each data frame."
   ]
  },
  {
   "cell_type": "code",
   "execution_count": 156,
   "id": "united-tomato",
   "metadata": {},
   "outputs": [],
   "source": [
    "ccle_cpdb_adata.var['human_gene'] = ccle_cpdb_adata.var['human_gene_ensembl'].apply(lambda ens: gene_human_ensembl_to_human[ens])\n",
    "\n",
    "def get_mouse_gene_ensembl_from_human_gene_ensembl(ens):\n",
    "    try:\n",
    "        return gene_human_ensembl_to_mouse_ensembl[ens]\n",
    "    except KeyError:\n",
    "        return np.nan\n",
    "ccle_cpdb_adata.var['mouse_gene_ensembl'] = ccle_cpdb_adata.var['human_gene_ensembl'].apply(get_mouse_gene_ensembl_from_human_gene_ensembl)\n",
    "\n",
    "def get_mouse_gene_from_mouse_gene_ensembl(ens):\n",
    "    try:\n",
    "        return gene_mouse_ensembl_to_mouse[ens]\n",
    "    except KeyError:\n",
    "        return np.nan\n",
    "ccle_cpdb_adata.var['mouse_gene'] = ccle_cpdb_adata.var['mouse_gene_ensembl'].apply(get_mouse_gene_from_mouse_gene_ensembl)"
   ]
  },
  {
   "cell_type": "code",
   "execution_count": 159,
   "id": "signal-trace",
   "metadata": {},
   "outputs": [],
   "source": [
    "tm_cpdb_adata.var['mouse_gene_ensembl'] = tm_cpdb_adata.var['mouse_gene'].apply(lambda gene: gene_mouse_to_mouse_ensembl[gene])\n",
    "\n",
    "def get_human_gene_ensembl_from_mouse_gene_ensembl(ens):\n",
    "    try:\n",
    "        return gene_mouse_ensembl_to_human_ensembl[ens]\n",
    "    except KeyError:\n",
    "        return np.nan\n",
    "tm_cpdb_adata.var['human_gene_ensembl'] = tm_cpdb_adata.var['mouse_gene_ensembl'].apply(get_human_gene_ensembl_from_mouse_gene_ensembl)\n",
    "\n",
    "def get_human_gene_from_human_gene_ensembl(ens):\n",
    "    try:\n",
    "        return gene_human_ensembl_to_human[ens]\n",
    "    except KeyError:\n",
    "        return np.nan\n",
    "tm_cpdb_adata.var['human_gene'] = tm_cpdb_adata.var['human_gene_ensembl'].apply(get_human_gene_from_human_gene_ensembl)"
   ]
  },
  {
   "cell_type": "code",
   "execution_count": 163,
   "id": "distinguished-sheep",
   "metadata": {},
   "outputs": [],
   "source": [
    "ccle_cpdb_adata.var.head()"
   ]
  },
  {
   "cell_type": "code",
   "execution_count": 164,
   "id": "rubber-marsh",
   "metadata": {},
   "outputs": [],
   "source": [
    "tm_cpdb_adata.var.head()"
   ]
  },
  {
   "cell_type": "code",
   "execution_count": 127,
   "id": "combined-change",
   "metadata": {},
   "outputs": [],
   "source": [
    "sc.pl.highest_expr_genes(ccle_cpdb_adata, n_top=20, gene_symbols=\"human_gene\")"
   ]
  },
  {
   "cell_type": "markdown",
   "id": "electoral-recommendation",
   "metadata": {},
   "outputs": [],
   "source": [
    "Preprocessing of expression data"
   ]
  },
  {
   "cell_type": "code",
   "execution_count": 128,
   "id": "better-secretariat",
   "metadata": {},
   "outputs": [],
   "source": [
    "sc.pl.highest_expr_genes(tm_cpdb_adata, n_top=20, gene_symbols=\"mouse_gene\")"
   ]
  },
  {
   "cell_type": "code",
   "execution_count": 129,
   "id": "resident-wisdom",
   "metadata": {},
   "outputs": [],
   "source": [
    "sc.pp.normalize_total(tm_cpdb_adata, target_sum=1e4)\n",
    "sc.pp.normalize_total(ccle_cpdb_adata, target_sum=1e4)\n",
    "\n",
    "if expression_scale == \"log\":\n",
    "    sc.pp.log1p(tm_cpdb_adata)\n",
    "    sc.pp.log1p(ccle_cpdb_adata)\n",
    "elif expression_scale == \"binary\":\n",
    "    tm_cpdb_adata.X = (tm_cpdb_adata.X > 0)\n",
    "    ccle_cpdb_adata.X = (ccle_cpdb_adata.X > 0)"
   ]
  },
  {
   "cell_type": "code",
   "execution_count": 130,
   "id": "boring-alberta",
   "metadata": {},
   "outputs": [],
   "source": [
    "sc.pl.highest_expr_genes(ccle_cpdb_adata, n_top=20, gene_symbols=\"human_gene\")"
   ]
  },
  {
   "cell_type": "code",
   "execution_count": 131,
   "id": "large-swift",
   "metadata": {},
   "outputs": [],
   "source": [
    "sc.pl.highest_expr_genes(tm_cpdb_adata, n_top=20, gene_symbols=\"mouse_gene\")"
   ]
  },
  {
   "cell_type": "code",
   "execution_count": 165,
   "id": "underlying-appreciation",
   "metadata": {},
   "outputs": [],
   "source": [
    "ccle_cpdb_X_df = pd.DataFrame(data=ccle_cpdb_adata.X.T, index=ccle_cpdb_adata.var['human_gene_ensembl'].values.tolist(), columns=ccle_cpdb_adata.obs.index.values.tolist())\n",
    "tm_cpdb_X_df = pd.DataFrame(data=tm_cpdb_adata.X.T, index=tm_cpdb_adata.var['mouse_gene_ensembl'].values.tolist(), columns=tm_cpdb_adata.obs.index.values.tolist())"
   ]
  },
  {
   "cell_type": "code",
   "execution_count": 166,
   "id": "frozen-warrior",
   "metadata": {},
   "outputs": [],
   "source": [
    "ccle_cpdb_X_df.head()"
   ]
  },
  {
   "cell_type": "code",
   "execution_count": 167,
   "id": "boxed-retreat",
   "metadata": {},
   "outputs": [],
   "source": [
    "tm_cpdb_X_df.head()"
   ]
  },
  {
   "cell_type": "markdown",
   "id": "joined-jersey",
   "metadata": {},
   "outputs": [],
   "source": [
    "## Compute co-expression\n",
    "\n",
    "Want to consider both cases:\n",
    "- `a_and_b`: partner A is expressed in human cell line, partner B is expressed in tabula muris\n",
    "- `b_and_a`: partner A is expressed in tabula muris, partner B is expressed in human cell line"
   ]
  },
  {
   "cell_type": "code",
   "execution_count": 98,
   "id": "enormous-taiwan",
   "metadata": {},
   "outputs": [],
   "source": [
    "cpdb_human_a_df = o_in_tm_and_ccle_df[['ensembl_a']]\n",
    "cpdb_human_b_df = o_in_tm_and_ccle_df[['ensembl_b']]\n",
    "\n",
    "cpdb_mouse_a_df = o_in_tm_and_ccle_df[['ensembl_gene_mouse_a']]\n",
    "cpdb_mouse_b_df = o_in_tm_and_ccle_df[['ensembl_gene_mouse_b']]"
   ]
  },
  {
   "cell_type": "code",
   "execution_count": 99,
   "id": "coordinate-assessment",
   "metadata": {},
   "outputs": [],
   "source": [
    "cpdb_human_a_df.head()"
   ]
  },
  {
   "cell_type": "code",
   "execution_count": 100,
   "id": "contrary-voltage",
   "metadata": {},
   "outputs": [],
   "source": [
    "cpdb_human_a_df = cpdb_human_a_df.merge(ccle_cpdb_X_df, how='left', left_on=\"ensembl_a\", right_index=True)\n",
    "cpdb_human_b_df = cpdb_human_b_df.merge(ccle_cpdb_X_df, how='left', left_on=\"ensembl_b\", right_index=True)\n",
    "\n",
    "cpdb_mouse_a_df = cpdb_mouse_a_df.merge(tm_cpdb_X_df, how='left', left_on=\"ensembl_gene_mouse_a\", right_index=True)\n",
    "cpdb_mouse_b_df = cpdb_mouse_b_df.merge(tm_cpdb_X_df, how='left', left_on=\"ensembl_gene_mouse_b\", right_index=True)"
   ]
  },
  {
   "cell_type": "code",
   "execution_count": 101,
   "id": "national-appendix",
   "metadata": {},
   "outputs": [],
   "source": [
    "cpdb_mouse_b_df.head()"
   ]
  },
  {
   "cell_type": "code",
   "execution_count": 102,
   "id": "choice-wiring",
   "metadata": {},
   "outputs": [],
   "source": [
    "cell_ontology_ids = tm_cpdb_adata.obs.index.values.tolist()"
   ]
  },
  {
   "cell_type": "code",
   "execution_count": 103,
   "id": "comic-heating",
   "metadata": {},
   "outputs": [],
   "source": [
    "coexp_obs_df = pd.DataFrame(columns=[\"cell_ontology_id\", \"cell_line\", \"human_a_mouse_b\"])\n",
    "coexp_arr = []"
   ]
  },
  {
   "cell_type": "code",
   "execution_count": 104,
   "id": "understood-drawing",
   "metadata": {},
   "outputs": [],
   "source": [
    "for cell_ontology_id in cell_ontology_ids:\n",
    "    for cell_line in cellline_intersect:\n",
    "        # Compute co-expression\n",
    "        human_exp = cpdb_human_a_df[cell_line].values\n",
    "        mouse_exp = cpdb_mouse_b_df[cell_ontology_id].values\n",
    "        exp_pairs = np.stack((human_exp, mouse_exp), axis=-1)\n",
    "        tm_ccle_coexp = np.amin(exp_pairs, axis=1)\n",
    "        coexp_arr.append(tm_ccle_coexp)\n",
    "        coexp_obs_df = coexp_obs_df.append({\n",
    "            \"cell_ontology_id\": cell_ontology_id,\n",
    "            \"cell_line\": cell_line,\n",
    "            \"human_a_mouse_b\": True,\n",
    "            \"metmap_tissue\": metmap_tissue,\n",
    "            \"met_potential_ci_05\": mm_potential_df.at[cell_line, 'CI.05'],\n",
    "            \"met_potential_ci_95\": mm_potential_df.at[cell_line, 'CI.95'],\n",
    "            \"met_potential_mean\": mm_potential_df.at[cell_line, 'mean'],\n",
    "            \"met_potential_penetrance\": mm_potential_df.at[cell_line, 'penetrance'],\n",
    "        }, ignore_index=True)"
   ]
  },
  {
   "cell_type": "code",
   "execution_count": 105,
   "id": "electronic-camel",
   "metadata": {},
   "outputs": [],
   "source": [
    "coexp_X = np.stack(coexp_arr, axis=-1).T"
   ]
  },
  {
   "cell_type": "code",
   "execution_count": 106,
   "id": "immediate-electricity",
   "metadata": {},
   "outputs": [],
   "source": [
    "coexp_adata = AnnData(X=coexp_X, obs=coexp_obs_df, var=o_in_tm_and_ccle_df)"
   ]
  },
  {
   "cell_type": "code",
   "execution_count": 107,
   "id": "challenging-discretion",
   "metadata": {},
   "outputs": [],
   "source": [
    "coexp_adata.write(snakemake.output[0])"
   ]
  },
  {
   "cell_type": "code",
   "execution_count": null,
   "id": "executive-gambling",
   "metadata": {},
   "outputs": [],
   "source": []
  },
  {
   "cell_type": "code",
   "execution_count": null,
   "id": "meaningful-transition",
   "metadata": {},
   "outputs": [],
   "source": []
  }
 ],
 "metadata": {
  "kernelspec": {
   "display_name": "Python 3",
   "language": "python",
   "name": "python3"
  },
  "language_info": {
   "codemirror_mode": {
    "name": "ipython",
    "version": 3
   },
   "file_extension": ".py",
   "mimetype": "text/x-python",
   "name": "python",
   "nbconvert_exporter": "python",
   "pygments_lexer": "ipython3",
   "version": "3.8.8"
  }
 },
 "nbformat": 4,
 "nbformat_minor": 5
}
