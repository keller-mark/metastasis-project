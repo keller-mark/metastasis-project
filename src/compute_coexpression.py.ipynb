{
 "cells": [
  {
   "cell_type": "code",
   "execution_count": 2,
   "id": "worst-tracker",
   "metadata": {},
   "outputs": [],
   "source": [
    "# start coding here"
   ]
  },
  {
   "cell_type": "code",
   "execution_count": 3,
   "id": "prescription-attitude",
   "metadata": {},
   "outputs": [],
   "source": [
    "import pandas as pd\n",
    "import numpy as np\n",
    "from anndata import read_h5ad, AnnData\n",
    "import scanpy as sc"
   ]
  },
  {
   "cell_type": "code",
   "execution_count": 4,
   "id": "massive-allen",
   "metadata": {},
   "outputs": [],
   "source": [
    "tm_adata = read_h5ad(snakemake.input['tm_pseudobulk'])\n",
    "ccle_adata = read_h5ad(snakemake.input['ccle_exp'])\n",
    "mm_potential_df = pd.read_excel(snakemake.input['mm_potential'], sheet_name=\"metp500.all5\", index_col=0)\n",
    "o_df = pd.read_csv(snakemake.input['cpdb_orthologs'], sep='\\t')"
   ]
  },
  {
   "cell_type": "code",
   "execution_count": 5,
   "id": "gorgeous-merchant",
   "metadata": {},
   "outputs": [],
   "source": [
    "mm_celllines = mm_potential_df.index.values.tolist()"
   ]
  },
  {
   "cell_type": "code",
   "execution_count": 6,
   "id": "modern-positive",
   "metadata": {},
   "outputs": [],
   "source": [
    "cellline_intersect = set(ccle_adata.obs.index.values.tolist()).intersection(set(mm_celllines))\n",
    "len(cellline_intersect)"
   ]
  },
  {
   "cell_type": "code",
   "execution_count": 7,
   "id": "assisted-panama",
   "metadata": {},
   "outputs": [],
   "source": [
    "ccle_adata.var['ensembl'] = ccle_adata.var.index.to_series().apply(lambda gene_v: gene_v.split(\".\")[0])"
   ]
  },
  {
   "cell_type": "code",
   "execution_count": 8,
   "id": "boring-sigma",
   "metadata": {},
   "outputs": [],
   "source": [
    "ccle_genes = set(ccle_adata.var['ensembl'].values.tolist())"
   ]
  },
  {
   "cell_type": "code",
   "execution_count": 9,
   "id": "lyric-legislation",
   "metadata": {},
   "outputs": [],
   "source": [
    "mouse_gene_a = set(o_df['gene_mouse_a'].unique().tolist())\n",
    "mouse_gene_b = set(o_df['gene_mouse_b'].unique().tolist())"
   ]
  },
  {
   "cell_type": "code",
   "execution_count": 10,
   "id": "pursuant-chassis",
   "metadata": {},
   "outputs": [],
   "source": [
    "human_gene_a = set(o_df['ensembl_a'].unique().tolist())\n",
    "human_gene_b = set(o_df['ensembl_b'].unique().tolist())"
   ]
  },
  {
   "cell_type": "code",
   "execution_count": 11,
   "id": "complimentary-mixture",
   "metadata": {},
   "outputs": [],
   "source": [
    "cpdb_mouse_genes = mouse_gene_a.union(mouse_gene_b)\n",
    "cpdb_human_genes = human_gene_a.union(human_gene_b)"
   ]
  },
  {
   "cell_type": "code",
   "execution_count": 12,
   "id": "correct-civilization",
   "metadata": {},
   "outputs": [],
   "source": [
    "tm_genes = set(tm_adata.var.index.values.tolist())"
   ]
  },
  {
   "cell_type": "code",
   "execution_count": 13,
   "id": "fuzzy-bunch",
   "metadata": {},
   "outputs": [],
   "source": [
    "o_df[\"a_in_tm\"] = o_df[\"gene_mouse_a\"].apply(lambda gene: gene in tm_genes)\n",
    "o_df[\"b_in_tm\"] = o_df[\"gene_mouse_b\"].apply(lambda gene: gene in tm_genes)\n",
    "o_df[\"both_in_tm\"] = (o_df[\"a_in_tm\"] & o_df[\"b_in_tm\"])"
   ]
  },
  {
   "cell_type": "code",
   "execution_count": 14,
   "id": "possible-salmon",
   "metadata": {},
   "outputs": [],
   "source": [
    "o_df[\"both_in_tm\"].sum() / o_df[\"both_in_tm\"].shape[0]"
   ]
  },
  {
   "cell_type": "code",
   "execution_count": 15,
   "id": "peaceful-revolution",
   "metadata": {},
   "outputs": [],
   "source": [
    "o_df[\"a_in_ccle\"] = o_df[\"ensembl_a\"].apply(lambda gene: gene in ccle_genes)\n",
    "o_df[\"b_in_ccle\"] = o_df[\"ensembl_b\"].apply(lambda gene: gene in ccle_genes)\n",
    "o_df[\"both_in_ccle\"] = (o_df[\"a_in_ccle\"] & o_df[\"b_in_ccle\"])"
   ]
  },
  {
   "cell_type": "code",
   "execution_count": 16,
   "id": "accessible-genre",
   "metadata": {},
   "outputs": [],
   "source": [
    "o_df[\"both_in_ccle\"].sum() / o_df[\"both_in_ccle\"].shape[0]"
   ]
  },
  {
   "cell_type": "code",
   "execution_count": 17,
   "id": "hispanic-emergency",
   "metadata": {},
   "outputs": [],
   "source": [
    "o_df[\"both_in_tm_and_ccle\"] = (o_df[\"both_in_tm\"] & o_df[\"both_in_ccle\"])\n",
    "o_df[\"both_in_tm_and_ccle\"].sum() / o_df[\"both_in_tm_and_ccle\"].shape[0]"
   ]
  },
  {
   "cell_type": "code",
   "execution_count": 18,
   "id": "beneficial-congress",
   "metadata": {},
   "outputs": [],
   "source": [
    "o_in_tm_and_ccle_df = o_df.loc[o_df[\"both_in_tm_and_ccle\"]]\n",
    "\n",
    "# CONTAINS DUPLICATES\n",
    "genes_in_tm_and_ccle_as_human = o_in_tm_and_ccle_df['gene_name_a'].values.tolist() + o_in_tm_and_ccle_df['gene_name_b'].values.tolist()\n",
    "genes_in_tm_and_ccle_as_human_ensembl = o_in_tm_and_ccle_df['ensembl_a'].values.tolist() + o_in_tm_and_ccle_df['ensembl_b'].values.tolist()\n",
    "\n",
    "genes_in_tm_and_ccle_as_mouse = o_in_tm_and_ccle_df['gene_mouse_a'].values.tolist() + o_in_tm_and_ccle_df['gene_mouse_b'].values.tolist()\n",
    "genes_in_tm_and_ccle_as_mouse_ensembl = o_in_tm_and_ccle_df['ensembl_gene_mouse_a'].values.tolist() + o_in_tm_and_ccle_df['ensembl_gene_mouse_b'].values.tolist()\n",
    "\n",
    "\n",
    "# DIFFERENT SIZES\n",
    "gene_mouse_to_human = dict(zip(genes_in_tm_and_ccle_as_mouse, genes_in_tm_and_ccle_as_human))\n",
    "gene_human_to_mouse = dict(zip(genes_in_tm_and_ccle_as_human, genes_in_tm_and_ccle_as_mouse))\n",
    "\n",
    "gene_human_to_human_ensembl = dict(zip(genes_in_tm_and_ccle_as_human, genes_in_tm_and_ccle_as_human_ensembl))\n",
    "gene_human_ensembl_to_human = dict(zip(genes_in_tm_and_ccle_as_human_ensembl, genes_in_tm_and_ccle_as_human))\n",
    "\n",
    "gene_mouse_to_mouse_ensembl = dict(zip(genes_in_tm_and_ccle_as_mouse, genes_in_tm_and_ccle_as_mouse_ensembl))\n",
    "gene_mouse_ensembl_to_mouse = dict(zip(genes_in_tm_and_ccle_as_mouse_ensembl, genes_in_tm_and_ccle_as_mouse))"
   ]
  },
  {
   "cell_type": "code",
   "execution_count": 19,
   "id": "radical-applicant",
   "metadata": {},
   "outputs": [],
   "source": [
    "o_in_tm_and_ccle_df.head()"
   ]
  },
  {
   "cell_type": "code",
   "execution_count": 20,
   "id": "burning-precipitation",
   "metadata": {},
   "outputs": [],
   "source": [
    "tm_adata.var['in_cpdb'] = tm_adata.var['name'].apply(lambda gene: gene in set(genes_in_tm_and_ccle_as_mouse))\n",
    "ccle_adata.var['in_cpdb'] = ccle_adata.var['ensembl'].apply(lambda gene: gene in set(genes_in_tm_and_ccle_as_human_ensembl))"
   ]
  },
  {
   "cell_type": "code",
   "execution_count": 21,
   "id": "invisible-israel",
   "metadata": {},
   "outputs": [],
   "source": [
    "tm_adata.var['in_cpdb'].sum()"
   ]
  },
  {
   "cell_type": "code",
   "execution_count": 22,
   "id": "furnished-emerald",
   "metadata": {},
   "outputs": [],
   "source": [
    "ccle_adata.var['in_cpdb'].sum()"
   ]
  },
  {
   "cell_type": "code",
   "execution_count": 23,
   "id": "impressed-quarter",
   "metadata": {},
   "outputs": [],
   "source": [
    "tm_cpdb_adata = tm_adata[:, tm_adata.var['in_cpdb']]\n",
    "ccle_cpdb_adata = ccle_adata[:, ccle_adata.var['in_cpdb']]"
   ]
  },
  {
   "cell_type": "code",
   "execution_count": 24,
   "id": "meaning-darwin",
   "metadata": {},
   "outputs": [],
   "source": [
    "ccle_cpdb_adata.var['name'] = ccle_cpdb_adata.var['ensembl'].apply(lambda ens: gene_human_ensembl_to_human[ens])"
   ]
  },
  {
   "cell_type": "code",
   "execution_count": 25,
   "id": "egyptian-review",
   "metadata": {},
   "outputs": [],
   "source": [
    "tm_cpdb_adata.var['ensembl'] = tm_cpdb_adata.var['name'].apply(lambda gene: gene_mouse_to_mouse_ensembl[gene])"
   ]
  },
  {
   "cell_type": "code",
   "execution_count": 27,
   "id": "flush-carpet",
   "metadata": {
    "scrolled": false
   },
   "outputs": [],
   "source": [
    "sc.pl.highest_expr_genes(tm_cpdb_adata, n_top=20)"
   ]
  },
  {
   "cell_type": "markdown",
   "id": "raised-thing",
   "metadata": {},
   "outputs": [],
   "source": [
    "Preprocessing of expression data"
   ]
  },
  {
   "cell_type": "code",
   "execution_count": 28,
   "id": "practical-award",
   "metadata": {},
   "outputs": [],
   "source": [
    "sc.pp.normalize_total(tm_cpdb_adata, target_sum=1e4)\n",
    "sc.pp.normalize_total(ccle_cpdb_adata, target_sum=1e4)\n",
    "\n",
    "sc.pp.log1p(tm_cpdb_adata)\n",
    "sc.pp.log1p(ccle_cpdb_adata)"
   ]
  },
  {
   "cell_type": "code",
   "execution_count": 29,
   "id": "adjacent-handling",
   "metadata": {},
   "outputs": [],
   "source": [
    "sc.pl.highest_expr_genes(tm_cpdb_adata, n_top=20)"
   ]
  },
  {
   "cell_type": "code",
   "execution_count": 30,
   "id": "rolled-disposition",
   "metadata": {},
   "outputs": [],
   "source": [
    "sc.pl.highest_expr_genes(ccle_cpdb_adata, n_top=20, gene_symbols='name')"
   ]
  },
  {
   "cell_type": "code",
   "execution_count": 31,
   "id": "placed-deadline",
   "metadata": {},
   "outputs": [],
   "source": [
    "tm_cpdb_adata.var"
   ]
  },
  {
   "cell_type": "code",
   "execution_count": 32,
   "id": "suitable-truck",
   "metadata": {},
   "outputs": [],
   "source": [
    "ccle_cpdb_adata.var"
   ]
  },
  {
   "cell_type": "code",
   "execution_count": 33,
   "id": "suburban-arabic",
   "metadata": {},
   "outputs": [],
   "source": [
    "ccle_cpdb_X_df = pd.DataFrame(data=ccle_cpdb_adata.X.T, index=ccle_cpdb_adata.var['ensembl'].values.tolist(), columns=ccle_cpdb_adata.obs.index.values.tolist())\n",
    "tm_cpdb_X_df = pd.DataFrame(data=tm_cpdb_adata.X.T, index=tm_cpdb_adata.var['ensembl'].values.tolist(), columns=tm_cpdb_adata.obs.index.values.tolist())"
   ]
  },
  {
   "cell_type": "code",
   "execution_count": 34,
   "id": "stainless-supplement",
   "metadata": {},
   "outputs": [],
   "source": [
    "ccle_cpdb_X_df.head()"
   ]
  },
  {
   "cell_type": "code",
   "execution_count": 35,
   "id": "distinct-baltimore",
   "metadata": {},
   "outputs": [],
   "source": [
    "tm_cpdb_X_df.head()"
   ]
  },
  {
   "cell_type": "code",
   "execution_count": 36,
   "id": "annual-hebrew",
   "metadata": {},
   "outputs": [],
   "source": [
    "cpdb_human_a_df = o_in_tm_and_ccle_df[['ensembl_a']]\n",
    "cpdb_human_b_df = o_in_tm_and_ccle_df[['ensembl_b']]\n",
    "\n",
    "cpdb_mouse_a_df = o_in_tm_and_ccle_df[['ensembl_gene_mouse_a']]\n",
    "cpdb_mouse_b_df = o_in_tm_and_ccle_df[['ensembl_gene_mouse_b']]"
   ]
  },
  {
   "cell_type": "code",
   "execution_count": 37,
   "id": "lined-chemistry",
   "metadata": {},
   "outputs": [],
   "source": [
    "cpdb_human_a_df.head()"
   ]
  },
  {
   "cell_type": "code",
   "execution_count": 38,
   "id": "dirty-implement",
   "metadata": {},
   "outputs": [],
   "source": [
    "cpdb_human_a_df = cpdb_human_a_df.merge(ccle_cpdb_X_df, how='left', left_on=\"ensembl_a\", right_index=True)\n",
    "cpdb_human_b_df = cpdb_human_b_df.merge(ccle_cpdb_X_df, how='left', left_on=\"ensembl_b\", right_index=True)\n",
    "\n",
    "cpdb_mouse_a_df = cpdb_mouse_a_df.merge(tm_cpdb_X_df, how='left', left_on=\"ensembl_gene_mouse_a\", right_index=True)\n",
    "cpdb_mouse_b_df = cpdb_mouse_b_df.merge(tm_cpdb_X_df, how='left', left_on=\"ensembl_gene_mouse_b\", right_index=True)"
   ]
  },
  {
   "cell_type": "code",
   "execution_count": 39,
   "id": "smooth-tutorial",
   "metadata": {},
   "outputs": [],
   "source": [
    "cpdb_mouse_b_df.head()"
   ]
  },
  {
   "cell_type": "code",
   "execution_count": 40,
   "id": "incomplete-reference",
   "metadata": {},
   "outputs": [],
   "source": [
    "cell_ontology_ids = tm_cpdb_adata.obs.index.values.tolist()"
   ]
  },
  {
   "cell_type": "code",
   "execution_count": 41,
   "id": "elementary-thumb",
   "metadata": {},
   "outputs": [],
   "source": [
    "coexp_obs_df = pd.DataFrame(columns=[\"cell_ontology_id\", \"cell_line\", \"human_a_mouse_b\"])\n",
    "coexp_arr = []"
   ]
  },
  {
   "cell_type": "code",
   "execution_count": 42,
   "id": "proper-table",
   "metadata": {},
   "outputs": [],
   "source": [
    "for cell_ontology_id in cell_ontology_ids:\n",
    "    for cell_line in cellline_intersect:\n",
    "        # Compute co-expression\n",
    "        human_exp = cpdb_human_a_df[cell_line].values\n",
    "        mouse_exp = cpdb_mouse_b_df[cell_ontology_id].values\n",
    "        exp_pairs = np.stack((human_exp, mouse_exp), axis=-1)\n",
    "        tm_ccle_coexp = np.amin(exp_pairs, axis=1)\n",
    "        coexp_arr.append(tm_ccle_coexp)\n",
    "        coexp_obs_df = coexp_obs_df.append({\n",
    "            \"cell_ontology_id\": cell_ontology_id,\n",
    "            \"cell_line\": cell_line,\n",
    "            \"human_a_mouse_b\": True,\n",
    "        }, ignore_index=True)"
   ]
  },
  {
   "cell_type": "code",
   "execution_count": 43,
   "id": "welsh-relative",
   "metadata": {},
   "outputs": [],
   "source": [
    "coexp_X = np.stack(coexp_arr, axis=-1).T"
   ]
  },
  {
   "cell_type": "code",
   "execution_count": 44,
   "id": "split-march",
   "metadata": {},
   "outputs": [],
   "source": [
    "coexp_adata = AnnData(X=coexp_X, obs=coexp_obs_df, var=o_in_tm_and_ccle_df)"
   ]
  },
  {
   "cell_type": "code",
   "execution_count": 45,
   "id": "tender-polish",
   "metadata": {},
   "outputs": [],
   "source": [
    "coexp_adata.write(snakemake.output[0])"
   ]
  },
  {
   "cell_type": "code",
   "execution_count": null,
   "id": "fantastic-visitor",
   "metadata": {},
   "outputs": [],
   "source": []
  }
 ],
 "metadata": {
  "kernelspec": {
   "display_name": "Python 3",
   "language": "python",
   "name": "python3"
  },
  "language_info": {
   "codemirror_mode": {
    "name": "ipython",
    "version": 3
   },
   "file_extension": ".py",
   "mimetype": "text/x-python",
   "name": "python",
   "nbconvert_exporter": "python",
   "pygments_lexer": "ipython3",
   "version": "3.8.8"
  }
 },
 "nbformat": 4,
 "nbformat_minor": 5
}
