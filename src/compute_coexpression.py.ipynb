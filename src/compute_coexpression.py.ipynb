{
 "cells": [
  {
   "cell_type": "code",
   "execution_count": 4,
   "id": "naughty-google",
   "metadata": {},
   "outputs": [],
   "source": [
    "# start coding here"
   ]
  },
  {
   "cell_type": "code",
   "execution_count": 5,
   "id": "collected-virus",
   "metadata": {},
   "outputs": [],
   "source": [
    "import pandas as pd\n",
    "import numpy as np\n",
    "from anndata import read_h5ad, AnnData\n",
    "import scanpy as sc\n",
    "\n",
    "import networkx\n",
    "import obonet"
   ]
  },
  {
   "cell_type": "code",
   "execution_count": 6,
   "id": "spectacular-biology",
   "metadata": {},
   "outputs": [],
   "source": [
    "metmap_tissue = snakemake.params['metmap_tissue']\n",
    "expression_scale = snakemake.wildcards['expression_scale']\n",
    "interaction_source = snakemake.wildcards['interaction_source']\n",
    "complex_expression_aggregation = snakemake.wildcards['cea']\n",
    "interaction_expression_aggregation = snakemake.wildcards['iea']"
   ]
  },
  {
   "cell_type": "code",
   "execution_count": 7,
   "id": "disabled-pathology",
   "metadata": {},
   "outputs": [],
   "source": [
    "tm_adata = read_h5ad(snakemake.input['tm_pseudobulk'])\n",
    "ccle_adata = read_h5ad(snakemake.input['ccle_exp'])\n",
    "\n",
    "# Cell ontology\n",
    "cl_graph = obonet.read_obo(snakemake.input['cl_obo'])\n",
    "\n",
    "# Tissue-specific metastasis potential\n",
    "mm_potential_df = pd.read_excel(snakemake.input['mm_potential'], sheet_name=f\"metp500.{metmap_tissue}\", index_col=0)\n",
    "i_df = pd.read_csv(snakemake.input['interactions'], sep='\\t')\n",
    "\n",
    "# Restrict to only those interactions for which there is at least one mouse ortholog for partner A or partner B\n",
    "i_df = i_df.loc[i_df[\"a_or_b_have_orthologs\"]]"
   ]
  },
  {
   "cell_type": "code",
   "execution_count": 9,
   "id": "harmful-butter",
   "metadata": {},
   "outputs": [],
   "source": [
    "cl_id_to_cl_name = {\n",
    "    id_: data.get('name')\n",
    "    for id_, data in cl_graph.nodes(data=True)\n",
    "}\n",
    "cl_name_to_cl_id = {\n",
    "    data['name']: id_\n",
    "    for id_, data in cl_graph.nodes(data=True) if 'name' in data\n",
    "}"
   ]
  },
  {
   "cell_type": "code",
   "execution_count": 11,
   "id": "progressive-peeing",
   "metadata": {},
   "outputs": [],
   "source": [
    "mm_celllines = mm_potential_df.index.values.tolist()"
   ]
  },
  {
   "cell_type": "code",
   "execution_count": 12,
   "id": "novel-philippines",
   "metadata": {},
   "outputs": [],
   "source": [
    "cellline_intersect = set(ccle_adata.obs.index.values.tolist()).intersection(set(mm_celllines))\n",
    "len(cellline_intersect)"
   ]
  },
  {
   "cell_type": "code",
   "execution_count": 13,
   "id": "devoted-purple",
   "metadata": {},
   "outputs": [],
   "source": [
    "ccle_adata.var['human_gene_ensembl'] = ccle_adata.var.index.to_series().apply(lambda gene_v: gene_v.split(\".\")[0])\n",
    "ccle_adata.var = ccle_adata.var.rename(columns={'Description': \"human_gene\"})\n",
    "ccle_adata.var.head()"
   ]
  },
  {
   "cell_type": "code",
   "execution_count": 16,
   "id": "thorough-engagement",
   "metadata": {},
   "outputs": [],
   "source": [
    "tm_adata.obs = tm_adata.obs.rename(columns={'name': 'cell_ontology_id'})\n",
    "tm_adata.obs['cell_ontology_name'] = tm_adata.obs['cell_ontology_id'].apply(lambda cl_id: cl_id_to_cl_name[cl_id])\n",
    "tm_adata.obs.head()"
   ]
  },
  {
   "cell_type": "code",
   "execution_count": 17,
   "id": "bearing-shareware",
   "metadata": {},
   "outputs": [],
   "source": [
    "tm_adata.var = tm_adata.var.rename(columns={'name': \"mouse_gene\"})"
   ]
  },
  {
   "cell_type": "code",
   "execution_count": 18,
   "id": "reported-skiing",
   "metadata": {},
   "outputs": [],
   "source": [
    "ccle_genes = set(ccle_adata.var['human_gene_ensembl'].values.tolist())"
   ]
  },
  {
   "cell_type": "code",
   "execution_count": 19,
   "id": "czech-product",
   "metadata": {},
   "outputs": [],
   "source": [
    "# Get the set of mouse genes present in the interaction table\n",
    "i_mouse_genes = set(i_df.dropna(subset=['mouse_gene'])['mouse_gene'].unique().tolist())\n",
    "i_mouse_genes_ensembl = set(i_df.dropna(subset=['mouse_gene_ensembl'])['mouse_gene_ensembl'].unique().tolist())"
   ]
  },
  {
   "cell_type": "code",
   "execution_count": 20,
   "id": "handled-evans",
   "metadata": {},
   "outputs": [],
   "source": [
    "# Get the set of human genes present in the interaction table\n",
    "i_human_genes = set(i_df.dropna(subset=['human_gene'])['human_gene'].unique().tolist())\n",
    "i_human_genes_ensembl = set(i_df.dropna(subset=['human_gene_ensembl'])['human_gene_ensembl'].unique().tolist())"
   ]
  },
  {
   "cell_type": "code",
   "execution_count": 21,
   "id": "rapid-jaguar",
   "metadata": {},
   "outputs": [],
   "source": [
    "tm_genes = set(tm_adata.var.index.values.tolist())"
   ]
  },
  {
   "cell_type": "code",
   "execution_count": 22,
   "id": "expressed-renewal",
   "metadata": {},
   "outputs": [],
   "source": [
    "i_mh_df = i_df.dropna(subset=[\"mouse_gene\", \"human_gene\"])\n",
    "gene_mouse_to_human = dict(zip(i_mh_df['mouse_gene'].values.tolist(), i_mh_df['human_gene'].values.tolist()))\n",
    "gene_human_to_mouse = dict(zip(i_mh_df['human_gene'].values.tolist(), i_mh_df['mouse_gene'].values.tolist()))\n",
    "\n",
    "i_mhe_df = i_df.dropna(subset=[\"mouse_gene_ensembl\", \"human_gene_ensembl\"])\n",
    "gene_mouse_ensembl_to_human_ensembl = dict(zip(i_mhe_df['mouse_gene_ensembl'].values.tolist(), i_mhe_df['human_gene_ensembl'].values.tolist()))\n",
    "gene_human_ensembl_to_mouse_ensembl = dict(zip(i_mhe_df['human_gene_ensembl'].values.tolist(), i_mhe_df['mouse_gene_ensembl'].values.tolist()))\n",
    "\n",
    "i_he_df = i_df.dropna(subset=[\"human_gene\", \"human_gene_ensembl\"])\n",
    "gene_human_to_human_ensembl = dict(zip(i_he_df['human_gene'].values.tolist(), i_he_df['human_gene_ensembl'].values.tolist()))\n",
    "gene_human_ensembl_to_human = dict(zip(i_he_df['human_gene_ensembl'].values.tolist(), i_he_df['human_gene'].values.tolist()))\n",
    "\n",
    "i_me_df = i_df.dropna(subset=[\"mouse_gene\", \"mouse_gene_ensembl\"])\n",
    "gene_mouse_to_mouse_ensembl = dict(zip(i_me_df['mouse_gene'].values.tolist(), i_me_df['mouse_gene_ensembl'].values.tolist()))\n",
    "gene_mouse_ensembl_to_mouse = dict(zip(i_me_df['mouse_gene_ensembl'].values.tolist(), i_me_df['mouse_gene'].values.tolist()))"
   ]
  },
  {
   "cell_type": "code",
   "execution_count": 23,
   "id": "broken-accreditation",
   "metadata": {},
   "outputs": [],
   "source": [
    "tm_adata.var['in_interaction'] = tm_adata.var['mouse_gene'].apply(lambda gene: gene in i_mouse_genes)\n",
    "ccle_adata.var['in_interaction'] = ccle_adata.var['human_gene_ensembl'].apply(lambda gene: gene in i_human_genes_ensembl)"
   ]
  },
  {
   "cell_type": "code",
   "execution_count": 24,
   "id": "according-validation",
   "metadata": {},
   "outputs": [],
   "source": [
    "tm_adata.var['in_interaction'].sum()"
   ]
  },
  {
   "cell_type": "code",
   "execution_count": 25,
   "id": "tested-savings",
   "metadata": {},
   "outputs": [],
   "source": [
    "ccle_adata.var['in_interaction'].sum()"
   ]
  },
  {
   "cell_type": "code",
   "execution_count": 26,
   "id": "oriental-company",
   "metadata": {},
   "outputs": [],
   "source": [
    "tm_cpdb_adata = tm_adata[:, tm_adata.var['in_interaction']]\n",
    "ccle_cpdb_adata = ccle_adata[:, ccle_adata.var['in_interaction']]"
   ]
  },
  {
   "cell_type": "code",
   "execution_count": 27,
   "id": "returning-electronics",
   "metadata": {},
   "outputs": [],
   "source": [
    "ccle_cpdb_adata.var"
   ]
  },
  {
   "cell_type": "code",
   "execution_count": 28,
   "id": "orange-converter",
   "metadata": {},
   "outputs": [],
   "source": [
    "# Standardize the gene names and add ensembl gene names where they are missing.\n",
    "# Add orthologous gene names and ensembl gene names to each data frame."
   ]
  },
  {
   "cell_type": "code",
   "execution_count": 29,
   "id": "bibliographic-target",
   "metadata": {},
   "outputs": [],
   "source": [
    "ccle_cpdb_adata.var['human_gene'] = ccle_cpdb_adata.var['human_gene_ensembl'].apply(lambda ens: gene_human_ensembl_to_human[ens])\n",
    "\n",
    "def get_mouse_gene_ensembl_from_human_gene_ensembl(ens):\n",
    "    try:\n",
    "        return gene_human_ensembl_to_mouse_ensembl[ens]\n",
    "    except KeyError:\n",
    "        return np.nan\n",
    "ccle_cpdb_adata.var['mouse_gene_ensembl'] = ccle_cpdb_adata.var['human_gene_ensembl'].apply(get_mouse_gene_ensembl_from_human_gene_ensembl)\n",
    "\n",
    "def get_mouse_gene_from_mouse_gene_ensembl(ens):\n",
    "    try:\n",
    "        return gene_mouse_ensembl_to_mouse[ens]\n",
    "    except KeyError:\n",
    "        return np.nan\n",
    "ccle_cpdb_adata.var['mouse_gene'] = ccle_cpdb_adata.var['mouse_gene_ensembl'].apply(get_mouse_gene_from_mouse_gene_ensembl)"
   ]
  },
  {
   "cell_type": "code",
   "execution_count": 30,
   "id": "governing-antenna",
   "metadata": {},
   "outputs": [],
   "source": [
    "tm_cpdb_adata.var['mouse_gene_ensembl'] = tm_cpdb_adata.var['mouse_gene'].apply(lambda gene: gene_mouse_to_mouse_ensembl[gene])\n",
    "\n",
    "def get_human_gene_ensembl_from_mouse_gene_ensembl(ens):\n",
    "    try:\n",
    "        return gene_mouse_ensembl_to_human_ensembl[ens]\n",
    "    except KeyError:\n",
    "        return np.nan\n",
    "tm_cpdb_adata.var['human_gene_ensembl'] = tm_cpdb_adata.var['mouse_gene_ensembl'].apply(get_human_gene_ensembl_from_mouse_gene_ensembl)\n",
    "\n",
    "def get_human_gene_from_human_gene_ensembl(ens):\n",
    "    try:\n",
    "        return gene_human_ensembl_to_human[ens]\n",
    "    except KeyError:\n",
    "        return np.nan\n",
    "tm_cpdb_adata.var['human_gene'] = tm_cpdb_adata.var['human_gene_ensembl'].apply(get_human_gene_from_human_gene_ensembl)"
   ]
  },
  {
   "cell_type": "code",
   "execution_count": 31,
   "id": "adjacent-netscape",
   "metadata": {},
   "outputs": [],
   "source": [
    "ccle_cpdb_adata.var.head()"
   ]
  },
  {
   "cell_type": "code",
   "execution_count": 32,
   "id": "reliable-billy",
   "metadata": {},
   "outputs": [],
   "source": [
    "tm_cpdb_adata.var.head()"
   ]
  },
  {
   "cell_type": "code",
   "execution_count": 33,
   "id": "mighty-superintendent",
   "metadata": {},
   "outputs": [],
   "source": [
    "#sc.pl.highest_expr_genes(ccle_cpdb_adata, n_top=20, gene_symbols=\"human_gene\")"
   ]
  },
  {
   "cell_type": "markdown",
   "id": "exceptional-enlargement",
   "metadata": {},
   "outputs": [],
   "source": [
    "Preprocessing of expression data"
   ]
  },
  {
   "cell_type": "code",
   "execution_count": 34,
   "id": "oriental-antique",
   "metadata": {},
   "outputs": [],
   "source": [
    "#sc.pl.highest_expr_genes(tm_cpdb_adata, n_top=20, gene_symbols=\"mouse_gene\")"
   ]
  },
  {
   "cell_type": "code",
   "execution_count": 35,
   "id": "unnecessary-encyclopedia",
   "metadata": {},
   "outputs": [],
   "source": [
    "sc.pp.normalize_total(tm_cpdb_adata, target_sum=1e4)\n",
    "sc.pp.normalize_total(ccle_cpdb_adata, target_sum=1e4)\n",
    "\n",
    "if expression_scale == \"log\":\n",
    "    sc.pp.log1p(tm_cpdb_adata)\n",
    "    sc.pp.log1p(ccle_cpdb_adata)\n",
    "elif expression_scale == \"binary\":\n",
    "    tm_cpdb_adata.X = (tm_cpdb_adata.X > 0)\n",
    "    ccle_cpdb_adata.X = (ccle_cpdb_adata.X > 0)"
   ]
  },
  {
   "cell_type": "code",
   "execution_count": 36,
   "id": "confused-executive",
   "metadata": {},
   "outputs": [],
   "source": [
    "#sc.pl.highest_expr_genes(ccle_cpdb_adata, n_top=20, gene_symbols=\"human_gene\")"
   ]
  },
  {
   "cell_type": "code",
   "execution_count": 37,
   "id": "developing-islam",
   "metadata": {},
   "outputs": [],
   "source": [
    "#sc.pl.highest_expr_genes(tm_cpdb_adata, n_top=20, gene_symbols=\"mouse_gene\")"
   ]
  },
  {
   "cell_type": "code",
   "execution_count": 38,
   "id": "split-dominant",
   "metadata": {},
   "outputs": [],
   "source": [
    "ccle_cpdb_X_df = pd.DataFrame(data=ccle_cpdb_adata.X.T, index=ccle_cpdb_adata.var['human_gene_ensembl'].values.tolist(), columns=ccle_cpdb_adata.obs.index.values.tolist())\n",
    "tm_cpdb_X_df = pd.DataFrame(data=tm_cpdb_adata.X.T, index=tm_cpdb_adata.var['mouse_gene_ensembl'].values.tolist(), columns=tm_cpdb_adata.obs.index.values.tolist())"
   ]
  },
  {
   "cell_type": "code",
   "execution_count": 39,
   "id": "mexican-title",
   "metadata": {},
   "outputs": [],
   "source": [
    "ccle_cpdb_X_df.head()"
   ]
  },
  {
   "cell_type": "code",
   "execution_count": 40,
   "id": "bulgarian-return",
   "metadata": {},
   "outputs": [],
   "source": [
    "tm_cpdb_X_df.head()"
   ]
  },
  {
   "cell_type": "markdown",
   "id": "technological-intensity",
   "metadata": {},
   "outputs": [],
   "source": [
    "## Compute co-expression\n",
    "\n",
    "Want to consider both cases:\n",
    "- `a_and_b`: partner A is expressed in human cell line, partner B is expressed in tabula muris (B must have at least one mouse ortholog)\n",
    "- `b_and_a`: partner A is expressed in tabula muris, partner B is expressed in human cell line (A must have at least one mouse ortholog)\n",
    "\n",
    "For each cell line and `a_and_b` interaction:\n",
    "- Compute the minimum expression of all partner A genes for each CCLE cell line\n",
    "\n",
    "For each cell line and `b_and_a` interaction:\n",
    "- Compute the minimum expression of all partner B genes for each CCLE cell line\n",
    "\n",
    "For each tabula muris cell type and `a_and_b` interaction:\n",
    "- Compute the minimum expression of all partner B gene mouse orthologs for each tabula muris cell type\n",
    "\n",
    "For each tabula muris cell type and `b_and_a` interaction:\n",
    "- Compute the minimum expression of all partner A gene mouse orthologs for each tabula muris cell type"
   ]
  },
  {
   "cell_type": "code",
   "execution_count": 41,
   "id": "necessary-guatemala",
   "metadata": {},
   "outputs": [],
   "source": [
    "cell_ontology_ids = tm_cpdb_adata.obs.index.values.tolist()"
   ]
  },
  {
   "cell_type": "code",
   "execution_count": 42,
   "id": "frank-brass",
   "metadata": {},
   "outputs": [],
   "source": [
    "min_expression = {\n",
    "    \"ccle\": {\n",
    "        \"a_and_b\": {},\n",
    "        \"b_and_a\": {}\n",
    "    },\n",
    "    \"tm\": {\n",
    "        \"a_and_b\": {},\n",
    "        \"b_and_a\": {}\n",
    "    }\n",
    "}"
   ]
  },
  {
   "cell_type": "code",
   "execution_count": 43,
   "id": "valuable-recipient",
   "metadata": {},
   "outputs": [],
   "source": [
    "i_df.head()"
   ]
  },
  {
   "cell_type": "code",
   "execution_count": 63,
   "id": "industrial-emperor",
   "metadata": {},
   "outputs": [],
   "source": [
    "# Always do a left join onto the interaction alignment dataframe so that the expression dataframes can be aligned correctly.\n",
    "i_align_df = pd.DataFrame(index=list(i_df[\"interaction_id\"].unique().tolist()))"
   ]
  },
  {
   "cell_type": "code",
   "execution_count": 64,
   "id": "greater-reconstruction",
   "metadata": {},
   "outputs": [],
   "source": [
    "def aggregate_complex_expression_df(df):\n",
    "    if complex_expression_aggregation == \"min\":\n",
    "        return df.min(axis=1, skipna=True).values\n",
    "    elif complex_expression_aggregation == \"mean\":\n",
    "        return df.mean(axis=1, skipna=True).values\n",
    "    elif complex_expression_aggregation == \"sum\":\n",
    "        return df.sum(axis=1, skipna=True).values\n",
    "    elif complex_expression_aggregation == \"product\":\n",
    "        return df.product(axis=1, skipna=True).values"
   ]
  },
  {
   "cell_type": "code",
   "execution_count": 65,
   "id": "minor-warren",
   "metadata": {},
   "outputs": [],
   "source": [
    "for cell_line in cellline_intersect:\n",
    "    # Since can drop the mouse genes in this case, since dealing with human cell lines\n",
    "    # a_and_b\n",
    "    i_a_df = i_df.loc[i_df[\"a_or_b\"] == \"a\"].drop_duplicates(subset=[\"interaction_id\", \"human_gene_ensembl\"])\n",
    "    i_a_df = i_a_df[[\"interaction_id\", \"human_gene_ensembl\"]]\n",
    "    i_a_df = i_a_df.merge(ccle_cpdb_X_df[[cell_line]], left_on=\"human_gene_ensembl\", right_index=True).rename(columns={cell_line: \"gene_expression\"})\n",
    "    i_a_df[\"partner_i\"] = i_a_df.groupby(by=\"interaction_id\").cumcount()\n",
    "    i_a_exp_df = i_a_df[[\"interaction_id\", \"partner_i\", \"gene_expression\"]].pivot(index='interaction_id', columns='partner_i', values=\"gene_expression\")\n",
    "    i_a_exp_df = i_align_df.merge(i_a_exp_df, how=\"left\", left_index=True, right_index=True)\n",
    "    i_a_min_arr = aggregate_complex_expression_df(i_a_exp_df)\n",
    "        \n",
    "    i_a_min_arr = np.nan_to_num(i_a_min_arr, nan=0.0)\n",
    "    min_expression[\"ccle\"][\"a_and_b\"][cell_line] = i_a_min_arr\n",
    "    \n",
    "    # b_and_a\n",
    "    i_b_df = i_df.loc[i_df[\"a_or_b\"] == \"b\"].drop_duplicates(subset=[\"interaction_id\", \"human_gene_ensembl\"])\n",
    "    i_b_df = i_b_df[[\"interaction_id\", \"human_gene_ensembl\"]]\n",
    "    i_b_df = i_b_df.merge(ccle_cpdb_X_df[[cell_line]], left_on=\"human_gene_ensembl\", right_index=True).rename(columns={cell_line: \"gene_expression\"})\n",
    "    i_b_df[\"partner_i\"] = i_b_df.groupby(by=\"interaction_id\").cumcount()\n",
    "    i_b_exp_df = i_b_df[[\"interaction_id\", \"partner_i\", \"gene_expression\"]].pivot(index='interaction_id', columns='partner_i', values=\"gene_expression\")\n",
    "    i_b_exp_df = i_align_df.merge(i_b_exp_df, how=\"left\", left_index=True, right_index=True)\n",
    "    \n",
    "    i_b_min_arr = aggregate_complex_expression_df(i_b_exp_df)\n",
    "    i_b_min_arr = np.nan_to_num(i_b_min_arr, nan=0.0)\n",
    "    min_expression[\"ccle\"][\"b_and_a\"][cell_line] = i_b_min_arr"
   ]
  },
  {
   "cell_type": "code",
   "execution_count": 66,
   "id": "wireless-information",
   "metadata": {},
   "outputs": [],
   "source": [
    "for cell_type in cell_ontology_ids:\n",
    "    # a_and_b\n",
    "    i_b_df = i_df[i_df[\"a_or_b\"] == \"b\"]\n",
    "    i_b_df = i_b_df[[\"interaction_id\", \"mouse_gene_ensembl\"]]\n",
    "    i_b_df = i_b_df.merge(tm_cpdb_X_df[[cell_type]], left_on=\"mouse_gene_ensembl\", right_index=True).rename(columns={cell_type: \"gene_expression\"})\n",
    "    i_b_df[\"partner_i\"] = i_b_df.groupby(by=\"interaction_id\").cumcount()\n",
    "    i_b_exp_df = i_b_df[[\"interaction_id\", \"partner_i\", \"gene_expression\"]].pivot(index='interaction_id', columns='partner_i', values=\"gene_expression\")\n",
    "    i_b_exp_df = i_align_df.merge(i_b_exp_df, how=\"left\", left_index=True, right_index=True)\n",
    "    \n",
    "    i_b_min_arr = aggregate_complex_expression_df(i_b_exp_df)\n",
    "    i_b_min_arr = np.nan_to_num(i_b_min_arr, nan=0.0)\n",
    "    min_expression[\"tm\"][\"a_and_b\"][cell_type] = i_b_min_arr\n",
    "    \n",
    "    # b_and_a\n",
    "    i_a_df = i_df[i_df[\"a_or_b\"] == \"a\"]\n",
    "    i_a_df = i_a_df[[\"interaction_id\", \"mouse_gene_ensembl\"]]\n",
    "    i_a_df = i_a_df.merge(tm_cpdb_X_df[[cell_type]], left_on=\"mouse_gene_ensembl\", right_index=True).rename(columns={cell_type: \"gene_expression\"})\n",
    "    i_a_df[\"partner_i\"] = i_a_df.groupby(by=\"interaction_id\").cumcount()\n",
    "    i_a_exp_df = i_a_df[[\"interaction_id\", \"partner_i\", \"gene_expression\"]].pivot(index='interaction_id', columns='partner_i', values=\"gene_expression\")\n",
    "    i_a_exp_df = i_align_df.merge(i_a_exp_df, how=\"left\", left_index=True, right_index=True)\n",
    "    \n",
    "    i_a_min_arr = aggregate_complex_expression_df(i_a_exp_df)\n",
    "    i_a_min_arr = np.nan_to_num(i_a_min_arr, nan=0.0)\n",
    "    min_expression[\"tm\"][\"b_and_a\"][cell_type] = i_a_min_arr"
   ]
  },
  {
   "cell_type": "code",
   "execution_count": null,
   "id": "severe-dakota",
   "metadata": {},
   "outputs": [],
   "source": []
  },
  {
   "cell_type": "code",
   "execution_count": null,
   "id": "authorized-hunter",
   "metadata": {},
   "outputs": [],
   "source": []
  },
  {
   "cell_type": "code",
   "execution_count": 67,
   "id": "buried-brazilian",
   "metadata": {},
   "outputs": [],
   "source": [
    "i_align_df.reset_index()"
   ]
  },
  {
   "cell_type": "code",
   "execution_count": 68,
   "id": "returning-spanking",
   "metadata": {},
   "outputs": [],
   "source": [
    "case_df = pd.DataFrame(data=[{\"case\": \"a_and_b\"}, {\"case\": \"b_and_a\"}])\n",
    "i_align_dup_df = case_df.join(i_align_df.reset_index().rename(columns={\"index\": \"interaction_id\"}), how=\"cross\")\n",
    "i_align_dup_df"
   ]
  },
  {
   "cell_type": "code",
   "execution_count": 75,
   "id": "severe-gender",
   "metadata": {},
   "outputs": [],
   "source": [
    "coexp_obs_df = pd.DataFrame(columns=[\"cell_ontology_id\", \"cell_line\"])\n",
    "coexp_arr = []"
   ]
  },
  {
   "cell_type": "code",
   "execution_count": 76,
   "id": "invisible-librarian",
   "metadata": {},
   "outputs": [],
   "source": [
    "def get_coexpression(exp_pairs_arr):\n",
    "    if interaction_expression_aggregation == \"min\":\n",
    "        return np.amin(exp_pairs_arr, axis=1)\n",
    "    elif interaction_expression_aggregation == \"product\":\n",
    "        return np.prod(exp_pairs_arr, axis=1)"
   ]
  },
  {
   "cell_type": "code",
   "execution_count": 77,
   "id": "arbitrary-object",
   "metadata": {},
   "outputs": [],
   "source": [
    "for cell_ontology_id in cell_ontology_ids:\n",
    "    for cell_line in cellline_intersect:\n",
    "        # Compute co-expression\n",
    "        a_and_b___a = min_expression[\"ccle\"][\"a_and_b\"][cell_line]\n",
    "        a_and_b___b = min_expression[\"tm\"][\"a_and_b\"][cell_ontology_id]\n",
    "        \n",
    "        b_and_a___b = min_expression[\"ccle\"][\"b_and_a\"][cell_line]\n",
    "        b_and_a___a = min_expression[\"tm\"][\"b_and_a\"][cell_ontology_id]\n",
    "        \n",
    "        human_exp = np.concatenate((a_and_b___a, b_and_a___b))\n",
    "        mouse_exp = np.concatenate((a_and_b___b, b_and_a___a))\n",
    "        \n",
    "        exp_pairs_arr = np.stack((human_exp, mouse_exp), axis=-1)\n",
    "        tm_ccle_coexp = get_coexpression(exp_pairs_arr)\n",
    "        coexp_arr.append(tm_ccle_coexp)\n",
    "        coexp_obs_df = coexp_obs_df.append({\n",
    "            \"cell_ontology_id\": cell_ontology_id,\n",
    "            \"cell_ontology_name\": cl_id_to_cl_name[cell_ontology_id],\n",
    "            \"cell_line\": cell_line,\n",
    "            \"metmap_tissue\": metmap_tissue,\n",
    "            \"met_potential_ci_05\": mm_potential_df.at[cell_line, 'CI.05'],\n",
    "            \"met_potential_ci_95\": mm_potential_df.at[cell_line, 'CI.95'],\n",
    "            \"met_potential_mean\": mm_potential_df.at[cell_line, 'mean'],\n",
    "            \"met_potential_penetrance\": mm_potential_df.at[cell_line, 'penetrance'],\n",
    "        }, ignore_index=True)"
   ]
  },
  {
   "cell_type": "code",
   "execution_count": 78,
   "id": "western-commitment",
   "metadata": {},
   "outputs": [],
   "source": [
    "coexp_X = np.stack(coexp_arr, axis=-1).T"
   ]
  },
  {
   "cell_type": "code",
   "execution_count": 79,
   "id": "light-alignment",
   "metadata": {},
   "outputs": [],
   "source": [
    "coexp_adata = AnnData(X=coexp_X, obs=coexp_obs_df, var=i_align_dup_df)"
   ]
  },
  {
   "cell_type": "code",
   "execution_count": 80,
   "id": "sharp-manitoba",
   "metadata": {},
   "outputs": [],
   "source": [
    "coexp_adata.obs"
   ]
  },
  {
   "cell_type": "code",
   "execution_count": 81,
   "id": "competent-simpson",
   "metadata": {},
   "outputs": [],
   "source": [
    "coexp_adata.write(snakemake.output[0])"
   ]
  },
  {
   "cell_type": "code",
   "execution_count": null,
   "id": "ignored-resource",
   "metadata": {},
   "outputs": [],
   "source": []
  },
  {
   "cell_type": "code",
   "execution_count": null,
   "id": "alive-discipline",
   "metadata": {},
   "outputs": [],
   "source": []
  }
 ],
 "metadata": {
  "kernelspec": {
   "display_name": "Python 3",
   "language": "python",
   "name": "python3"
  },
  "language_info": {
   "codemirror_mode": {
    "name": "ipython",
    "version": 3
   },
   "file_extension": ".py",
   "mimetype": "text/x-python",
   "name": "python",
   "nbconvert_exporter": "python",
   "pygments_lexer": "ipython3",
   "version": "3.8.8"
  }
 },
 "nbformat": 4,
 "nbformat_minor": 5
}
