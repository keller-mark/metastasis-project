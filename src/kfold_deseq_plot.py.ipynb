{
 "cells": [
  {
   "cell_type": "code",
   "execution_count": 2,
   "id": "separated-spring",
   "metadata": {},
   "outputs": [],
   "source": [
    "import pandas as pd\n",
    "import numpy as np\n",
    "\n",
    "import altair as alt\n",
    "from altair_saver import save as alt_save\n",
    "\n",
    "import seaborn as sns\n",
    "from matplotlib import pyplot as plt\n",
    "from adjustText import adjust_text\n",
    "from pyensembl import EnsemblRelease, find_species_by_name, genome_for_reference_name\n",
    "\n",
    "import json\n",
    "import requests"
   ]
  },
  {
   "cell_type": "code",
   "execution_count": 3,
   "id": "loved-fairy",
   "metadata": {},
   "outputs": [],
   "source": [
    "metmap_tissue = snakemake.params['metmap_tissue']\n",
    "fold = snakemake.wildcards[\"fold\"]"
   ]
  },
  {
   "cell_type": "code",
   "execution_count": 4,
   "id": "ordinary-playlist",
   "metadata": {},
   "outputs": [],
   "source": [
    "df = pd.read_csv(snakemake.input['deseq'], index_col=0)"
   ]
  },
  {
   "cell_type": "code",
   "execution_count": 5,
   "id": "sweet-sound",
   "metadata": {},
   "outputs": [],
   "source": [
    "df[\"minuslog10p\"] = df[\"padj\"].apply(lambda p: -np.log10(p))\n",
    "df[\"significant\"] = df.apply(lambda row: row[\"padj\"] < 0.05 and abs(row[\"log2FoldChange\"]) > 2, axis='columns')"
   ]
  },
  {
   "cell_type": "code",
   "execution_count": 6,
   "id": "organized-solomon",
   "metadata": {},
   "outputs": [],
   "source": [
    "df[\"should_label\"] = df.apply(lambda row: row[\"minuslog10p\"] > -np.log10(0.00000005) and abs(row[\"log2FoldChange\"]) > 3.5, axis='columns')"
   ]
  },
  {
   "cell_type": "code",
   "execution_count": 7,
   "id": "offshore-doubt",
   "metadata": {},
   "outputs": [],
   "source": [
    "er = EnsemblRelease(100, species=find_species_by_name(\"homo_sapiens\"))\n",
    "\n",
    "def get_gene_name(ens_vid):\n",
    "    try:\n",
    "        ens_id = ens_vid.split(\".\")[0]\n",
    "        return er.gene_name_of_gene_id(ens_id)\n",
    "    except ValueError:\n",
    "        return ens_vid\n",
    "df[\"gene_name\"] = df.index.to_series().apply(get_gene_name)"
   ]
  },
  {
   "cell_type": "code",
   "execution_count": 8,
   "id": "burning-captain",
   "metadata": {},
   "outputs": [],
   "source": [
    "label_df = df.loc[df[\"should_label\"]]"
   ]
  },
  {
   "cell_type": "code",
   "execution_count": 9,
   "id": "caring-texas",
   "metadata": {},
   "outputs": [],
   "source": [
    "plt.figure(figsize=(8,8))\n",
    "ax = sns.scatterplot(data=df, x=\"log2FoldChange\", y=\"minuslog10p\", hue=\"significant\")\n",
    "texts = [plt.text(label_df.iloc[i][\"log2FoldChange\"], label_df.iloc[i][\"minuslog10p\"], label_df.iloc[i][\"gene_name\"], ha='center', va='center') for i in range(label_df.shape[0])];\n",
    "adjust_text(texts)\n",
    "ax.hlines(y=-np.log10(0.05), xmin=-6, xmax=6, colors='black', linestyles='--', lw=2)\n",
    "plt.title(f\"Differentially expressed genes for {metmap_tissue} metastasis, fold {fold}\")\n",
    "plt.xlabel(\"log_2(fold change)\")\n",
    "plt.ylabel(\"-log_10(p)\")\n",
    "plt.savefig(snakemake.output[\"deseq_plot\"]) "
   ]
  },
  {
   "cell_type": "markdown",
   "id": "homeless-number",
   "metadata": {},
   "outputs": [],
   "source": [
    "## Use Enrichr to analyze the set of differentially expressed genes\n",
    "\n",
    "Reference: https://maayanlab.cloud/Enrichr/help#api"
   ]
  },
  {
   "cell_type": "code",
   "execution_count": 10,
   "id": "comparable-scheduling",
   "metadata": {},
   "outputs": [],
   "source": [
    "df = df.set_index(\"gene_name\")"
   ]
  },
  {
   "cell_type": "code",
   "execution_count": 11,
   "id": "driving-chicken",
   "metadata": {},
   "outputs": [],
   "source": [
    "met_gene_set = df.loc[df[\"significant\"]].index.values.tolist()\n",
    "nonmet_gene_set = df.loc[~df[\"significant\"]].index.values.tolist()"
   ]
  },
  {
   "cell_type": "code",
   "execution_count": 12,
   "id": "nervous-combine",
   "metadata": {},
   "outputs": [],
   "source": [
    "def get_enrichr_df(gene_set, gene_set_desc):\n",
    "    ENRICHR_URL = 'http://maayanlab.cloud/Enrichr/addList'\n",
    "    genes_str = '\\n'.join(gene_set)\n",
    "    description = gene_set_desc\n",
    "    payload = {\n",
    "        'list': (None, genes_str),\n",
    "        'description': (None, description)\n",
    "    }\n",
    "\n",
    "    response = requests.post(ENRICHR_URL, files=payload)\n",
    "    if not response.ok:\n",
    "        raise Exception('Error analyzing gene list')\n",
    "\n",
    "    data = json.loads(response.text)\n",
    "    \n",
    "    ENRICHR_URL = 'http://maayanlab.cloud/Enrichr/enrich'\n",
    "    query_string = '?userListId=%s&backgroundType=%s'\n",
    "    user_list_id = data['userListId']\n",
    "    gene_set_library = 'KEGG_2019_Human'\n",
    "    response = requests.get(\n",
    "        ENRICHR_URL + query_string % (user_list_id, gene_set_library)\n",
    "     )\n",
    "    if not response.ok:\n",
    "        raise Exception('Error fetching enrichment results')\n",
    "\n",
    "    data = json.loads(response.text)\n",
    "    \n",
    "    enrichr_df = pd.DataFrame(data=data[gene_set_library], columns=[\"rank\", \"term_name\", \"pval\", \"zscore\", \"combined_score\", \"overlapping_genes\", \"padj\", \"pold\", \"poldadj\"])\n",
    "    return enrichr_df"
   ]
  },
  {
   "cell_type": "code",
   "execution_count": 13,
   "id": "widespread-translation",
   "metadata": {},
   "outputs": [],
   "source": [
    "len(met_gene_set)"
   ]
  },
  {
   "cell_type": "code",
   "execution_count": 14,
   "id": "assumed-armstrong",
   "metadata": {},
   "outputs": [],
   "source": [
    "met_enrichr_df = get_enrichr_df(met_gene_set, 'Differentially significant genes')"
   ]
  },
  {
   "cell_type": "code",
   "execution_count": 15,
   "id": "bearing-chick",
   "metadata": {},
   "outputs": [],
   "source": [
    "met_enrichr_df.head()"
   ]
  },
  {
   "cell_type": "code",
   "execution_count": 16,
   "id": "separate-juvenile",
   "metadata": {},
   "outputs": [],
   "source": [
    "met_enrichr_df.to_csv(snakemake.output[\"enrichr\"], sep='\\t')"
   ]
  },
  {
   "cell_type": "code",
   "execution_count": 17,
   "id": "timely-commercial",
   "metadata": {},
   "outputs": [],
   "source": [
    "met_enrichr_df = met_enrichr_df.loc[met_enrichr_df[\"padj\"] < 0.999913]"
   ]
  },
  {
   "cell_type": "code",
   "execution_count": 18,
   "id": "leading-edinburgh",
   "metadata": {},
   "outputs": [],
   "source": [
    "met_enrichr_df[\"minuslog10p\"] = met_enrichr_df[\"padj\"].apply(lambda p: -np.log10(p))\n",
    "met_enrichr_df[\"significant\"] = met_enrichr_df[\"padj\"] < 0.05"
   ]
  },
  {
   "cell_type": "code",
   "execution_count": 19,
   "id": "acceptable-particular",
   "metadata": {},
   "outputs": [],
   "source": [
    "TERM_SORT = met_enrichr_df[\"term_name\"].values.tolist()\n",
    "\n",
    "plot = alt.Chart(met_enrichr_df.head(30)).mark_bar().encode(\n",
    "    x=alt.X(\"minuslog10p:Q\", axis=alt.Axis(title=\"-log_10(p)\")),\n",
    "    y=alt.Y(\"term_name:N\", sort=TERM_SORT, axis=alt.Axis(title=\"KEGG 2019 term\")),\n",
    "    color=alt.Color(\"significant:N\", legend=alt.Legend(title=\"Significant at 0.05\"))\n",
    ").properties(\n",
    "    title=f\"Top 30 pathways enriched in differentially expressed gene set for {metmap_tissue} metastasis, fold {fold}\"\n",
    ")\n",
    "\n",
    "plot"
   ]
  },
  {
   "cell_type": "code",
   "execution_count": 20,
   "id": "german-smooth",
   "metadata": {},
   "outputs": [],
   "source": [
    "alt_save(plot, snakemake.output[\"enrichr_plot\"])"
   ]
  },
  {
   "cell_type": "code",
   "execution_count": null,
   "id": "robust-stanley",
   "metadata": {},
   "outputs": [],
   "source": []
  },
  {
   "cell_type": "code",
   "execution_count": null,
   "id": "durable-writer",
   "metadata": {},
   "outputs": [],
   "source": []
  }
 ],
 "metadata": {
  "kernelspec": {
   "display_name": "Python 3",
   "language": "python",
   "name": "python3"
  },
  "language_info": {
   "codemirror_mode": {
    "name": "ipython",
    "version": 3
   },
   "file_extension": ".py",
   "mimetype": "text/x-python",
   "name": "python",
   "nbconvert_exporter": "python",
   "pygments_lexer": "ipython3",
   "version": "3.8.8"
  }
 },
 "nbformat": 4,
 "nbformat_minor": 5
}
