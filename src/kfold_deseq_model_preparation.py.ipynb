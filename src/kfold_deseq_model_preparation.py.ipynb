{
 "cells": [
  {
   "cell_type": "code",
   "execution_count": 4,
   "id": "pending-depression",
   "metadata": {},
   "outputs": [],
   "source": [
    "import pandas as pd\n",
    "import numpy as np\n",
    "from anndata import read_h5ad, AnnData\n",
    "import scanpy as sc\n",
    "import json\n",
    "from scipy.io import mmwrite\n",
    "\n",
    "from sklearn.metrics import mean_squared_error, r2_score\n",
    "from sklearn.cross_decomposition import PLSRegression\n",
    "\n",
    "import altair as alt\n",
    "from altair_saver import save as alt_save"
   ]
  },
  {
   "cell_type": "code",
   "execution_count": 2,
   "id": "killing-patch",
   "metadata": {},
   "outputs": [
    {
     "ename": "NameError",
     "evalue": "name 'snakemake' is not defined",
     "output_type": "error",
     "traceback": [
      "\u001b[0;31m---------------------------------------------------------------------------\u001b[0m",
      "\u001b[0;31mNameError\u001b[0m                                 Traceback (most recent call last)",
      "\u001b[0;32m<ipython-input-2-38ac5ed99b56>\u001b[0m in \u001b[0;36m<module>\u001b[0;34m\u001b[0m\n\u001b[0;32m----> 1\u001b[0;31m \u001b[0mmetmap_tissues\u001b[0m \u001b[0;34m=\u001b[0m \u001b[0msnakemake\u001b[0m\u001b[0;34m.\u001b[0m\u001b[0mparams\u001b[0m\u001b[0;34m[\u001b[0m\u001b[0;34m'metmap_tissues'\u001b[0m\u001b[0;34m]\u001b[0m\u001b[0;34m\u001b[0m\u001b[0;34m\u001b[0m\u001b[0m\n\u001b[0m\u001b[1;32m      2\u001b[0m \u001b[0mtm_to_metmap\u001b[0m \u001b[0;34m=\u001b[0m \u001b[0msnakemake\u001b[0m\u001b[0;34m.\u001b[0m\u001b[0mparams\u001b[0m\u001b[0;34m[\u001b[0m\u001b[0;34m'tm_to_metmap'\u001b[0m\u001b[0;34m]\u001b[0m\u001b[0;34m\u001b[0m\u001b[0;34m\u001b[0m\u001b[0m\n",
      "\u001b[0;31mNameError\u001b[0m: name 'snakemake' is not defined"
     ]
    }
   ],
   "source": [
    "metmap_tissues = snakemake.params['metmap_tissues']\n",
    "tm_to_metmap = snakemake.params['tm_to_metmap']"
   ]
  },
  {
   "cell_type": "code",
   "execution_count": null,
   "id": "unavailable-pierre",
   "metadata": {},
   "outputs": [],
   "source": [
    "curr_fold = int(snakemake.wildcards[\"fold\"])\n",
    "curr_fold"
   ]
  },
  {
   "cell_type": "code",
   "execution_count": null,
   "id": "quiet-singing",
   "metadata": {},
   "outputs": [],
   "source": [
    "kfold_df = pd.read_csv(snakemake.input['kfold_indices'])\n",
    "kfold_train_df = kfold_df.loc[(kfold_df[\"fold\"] == curr_fold) & (kfold_df[\"set\"] == \"train\")]\n",
    "kfold_test_df = kfold_df.loc[(kfold_df[\"fold\"] == curr_fold) & (kfold_df[\"set\"] == \"test\")]"
   ]
  },
  {
   "cell_type": "code",
   "execution_count": null,
   "id": "undefined-shadow",
   "metadata": {},
   "outputs": [],
   "source": [
    "kfold_train_df.head()"
   ]
  },
  {
   "cell_type": "code",
   "execution_count": null,
   "id": "specified-amplifier",
   "metadata": {},
   "outputs": [],
   "source": [
    "ccle_adata = read_h5ad(snakemake.input['ccle_exp'])"
   ]
  },
  {
   "cell_type": "code",
   "execution_count": null,
   "id": "higher-clear",
   "metadata": {},
   "outputs": [],
   "source": [
    "mm_all_df = pd.read_excel(snakemake.input['mm_potential'], sheet_name=f\"metp500.all5\", index_col=0)"
   ]
  },
  {
   "cell_type": "code",
   "execution_count": null,
   "id": "technological-schedule",
   "metadata": {},
   "outputs": [],
   "source": [
    "train_celllines = kfold_train_df[\"cellline\"].values.tolist()\n",
    "test_celllines = kfold_test_df[\"cellline\"].values.tolist()"
   ]
  },
  {
   "cell_type": "code",
   "execution_count": null,
   "id": "finnish-argument",
   "metadata": {},
   "outputs": [],
   "source": [
    "# Need to take union of significantly differentially expressed genes in the training set.\n",
    "\n",
    "deseq_files = dict(zip(metmap_tissues, snakemake.input[:len(metmap_tissues)]))\n",
    "deseq_dfs = {}\n",
    "\n",
    "significance_level = 0.01\n",
    "fc_level = 2\n",
    "\n",
    "deseq_significant_union = set()\n",
    "\n",
    "for tissue, deseq_file in deseq_files.items():\n",
    "    tissue_deseq_df = pd.read_csv(deseq_file, index_col=0)\n",
    "    tissue_deseq_df[\"significant\"] = tissue_deseq_df.apply(lambda row: row['padj'] <= significance_level and abs(row['log2FoldChange']) >= fc_level, axis='columns')\n",
    "    # Filter to keep only the significantly differentially expressed genes\n",
    "    tissue_deseq_df = tissue_deseq_df.loc[tissue_deseq_df[\"significant\"]]\n",
    "    \n",
    "    deseq_dfs[tissue] = tissue_deseq_df\n",
    "    \n",
    "    deseq_significant_union = deseq_significant_union.union(set(tissue_deseq_df.index.values.tolist()))\n",
    "\n",
    "deseq_signficant_genes = list(deseq_significant_union)\n",
    "len(deseq_signficant_genes)"
   ]
  },
  {
   "cell_type": "code",
   "execution_count": null,
   "id": "worth-divorce",
   "metadata": {},
   "outputs": [],
   "source": [
    "tissue_train_test_X = {\n",
    "    \"train\": ccle_adata[train_celllines, deseq_signficant_genes],\n",
    "    \"test\": ccle_adata[test_celllines, deseq_signficant_genes],\n",
    "}"
   ]
  },
  {
   "cell_type": "code",
   "execution_count": 3,
   "id": "honest-invention",
   "metadata": {},
   "outputs": [
    {
     "ename": "NameError",
     "evalue": "name 'metmap_tissues' is not defined",
     "output_type": "error",
     "traceback": [
      "\u001b[0;31m---------------------------------------------------------------------------\u001b[0m",
      "\u001b[0;31mNameError\u001b[0m                                 Traceback (most recent call last)",
      "\u001b[0;32m<ipython-input-3-a7fb76acb724>\u001b[0m in \u001b[0;36m<module>\u001b[0;34m\u001b[0m\n\u001b[1;32m      5\u001b[0m \u001b[0mtrain_y\u001b[0m \u001b[0;34m=\u001b[0m \u001b[0;34m[\u001b[0m\u001b[0;34m]\u001b[0m\u001b[0;34m\u001b[0m\u001b[0;34m\u001b[0m\u001b[0m\n\u001b[1;32m      6\u001b[0m \u001b[0mtest_y\u001b[0m \u001b[0;34m=\u001b[0m \u001b[0;34m[\u001b[0m\u001b[0;34m]\u001b[0m\u001b[0;34m\u001b[0m\u001b[0;34m\u001b[0m\u001b[0m\n\u001b[0;32m----> 7\u001b[0;31m \u001b[0;32mfor\u001b[0m \u001b[0mtissue\u001b[0m \u001b[0;32min\u001b[0m \u001b[0mmetmap_tissues\u001b[0m\u001b[0;34m:\u001b[0m\u001b[0;34m\u001b[0m\u001b[0;34m\u001b[0m\u001b[0m\n\u001b[0m\u001b[1;32m      8\u001b[0m     \u001b[0mmm_tissue\u001b[0m \u001b[0;34m=\u001b[0m \u001b[0mtm_to_metmap\u001b[0m\u001b[0;34m[\u001b[0m\u001b[0mtissue\u001b[0m\u001b[0;34m]\u001b[0m\u001b[0;34m\u001b[0m\u001b[0;34m\u001b[0m\u001b[0m\n\u001b[1;32m      9\u001b[0m     \u001b[0mmm_tissue_df\u001b[0m \u001b[0;34m=\u001b[0m \u001b[0mpd\u001b[0m\u001b[0;34m.\u001b[0m\u001b[0mread_excel\u001b[0m\u001b[0;34m(\u001b[0m\u001b[0msnakemake\u001b[0m\u001b[0;34m.\u001b[0m\u001b[0minput\u001b[0m\u001b[0;34m[\u001b[0m\u001b[0;34m'mm_potential'\u001b[0m\u001b[0;34m]\u001b[0m\u001b[0;34m,\u001b[0m \u001b[0msheet_name\u001b[0m\u001b[0;34m=\u001b[0m\u001b[0;34mf\"metp500.{mm_tissue}\"\u001b[0m\u001b[0;34m,\u001b[0m \u001b[0mindex_col\u001b[0m\u001b[0;34m=\u001b[0m\u001b[0;36m0\u001b[0m\u001b[0;34m)\u001b[0m\u001b[0;34m\u001b[0m\u001b[0;34m\u001b[0m\u001b[0m\n",
      "\u001b[0;31mNameError\u001b[0m: name 'metmap_tissues' is not defined"
     ]
    }
   ],
   "source": [
    "# Make a dictionary mapping tissue type to training and testing metastatic potential values.\n",
    "# These will become the response variables for PLSRegression.\n",
    "# These should be ordered according to the ordering of cell lines in kfold_train_df and kfold_test_df\n",
    "\n",
    "train_y = []\n",
    "test_y = []\n",
    "for tissue in metmap_tissues:\n",
    "    mm_tissue = tm_to_metmap[tissue]\n",
    "    mm_tissue_df = pd.read_excel(snakemake.input['mm_potential'], sheet_name=f\"metp500.{mm_tissue}\", index_col=0)\n",
    "    \n",
    "    mm_tissue_train_df = mm_tissue_df.loc[train_celllines]\n",
    "    mm_tissue_test_df = mm_tissue_df.loc[test_celllines]\n",
    "    \n",
    "    train_y.append(mm_tissue_train_df[\"mean\"].values)\n",
    "    test_y.append(mm_tissue_test_df[\"mean\"].values)\n",
    "\n",
    "tissue_train_test_y = {\n",
    "    \"train\": np.stack(train_y, axis=-1),\n",
    "    \"test\": np.stack(test_y, axis=-1)\n",
    "}"
   ]
  },
  {
   "cell_type": "code",
   "execution_count": 13,
   "id": "dated-stomach",
   "metadata": {},
   "outputs": [],
   "source": [
    "X_train = tissue_train_test_X[\"train\"]\n",
    "Y_train = tissue_train_test_y[\"train\"]\n",
    "\n",
    "X_test = tissue_train_test_X[\"test\"]\n",
    "Y_test = tissue_train_test_y[\"test\"]"
   ]
  },
  {
   "cell_type": "code",
   "execution_count": null,
   "id": "finnish-silicon",
   "metadata": {},
   "outputs": [],
   "source": [
    "mmwrite(snakemake.output[\"X_train\"], X_train)\n",
    "mmwrite(snakemake.output[\"Y_train\"], Y_train)\n",
    "mmwrite(snakemake.output[\"X_test\"], X_test)\n",
    "mmwrite(snakemake.output[\"Y_test\"], Y_test)"
   ]
  }
 ],
 "metadata": {
  "kernelspec": {
   "display_name": "Python 3",
   "language": "python",
   "name": "python3"
  },
  "language_info": {
   "codemirror_mode": {
    "name": "ipython",
    "version": 3
   },
   "file_extension": ".py",
   "mimetype": "text/x-python",
   "name": "python",
   "nbconvert_exporter": "python",
   "pygments_lexer": "ipython3",
   "version": "3.8.8"
  }
 },
 "nbformat": 4,
 "nbformat_minor": 5
}
