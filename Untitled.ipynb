{
 "cells": [
  {
   "cell_type": "code",
   "execution_count": 1,
   "id": "falling-disclosure",
   "metadata": {},
   "outputs": [],
   "source": [
    "from anndata import AnnData\n",
    "import scanpy as sc\n",
    "import numpy as np\n",
    "import pandas as pd\n",
    "from os.path import join"
   ]
  },
  {
   "cell_type": "code",
   "execution_count": 6,
   "id": "conceptual-isaac",
   "metadata": {},
   "outputs": [
    {
     "name": "stderr",
     "output_type": "stream",
     "text": [
      "/Users/mkeller/anaconda3/envs/lr-env/lib/python3.8/site-packages/IPython/core/interactiveshell.py:3155: DtypeWarning: Columns (0,1) have mixed types.Specify dtype option on import or set low_memory=False.\n",
      "  has_raised = await self.run_ast_nodes(code_ast.body, cell_name,\n"
     ]
    },
    {
     "data": {
      "text/html": [
       "<div>\n",
       "<style scoped>\n",
       "    .dataframe tbody tr th:only-of-type {\n",
       "        vertical-align: middle;\n",
       "    }\n",
       "\n",
       "    .dataframe tbody tr th {\n",
       "        vertical-align: top;\n",
       "    }\n",
       "\n",
       "    .dataframe thead th {\n",
       "        text-align: right;\n",
       "    }\n",
       "</style>\n",
       "<table border=\"1\" class=\"dataframe\">\n",
       "  <thead>\n",
       "    <tr style=\"text-align: right;\">\n",
       "      <th></th>\n",
       "      <th>Neurog3&gt;0_raw</th>\n",
       "      <th>Neurog3&gt;0_scaled</th>\n",
       "      <th>cell</th>\n",
       "      <th>cell_ontology_class</th>\n",
       "      <th>cell_ontology_id</th>\n",
       "      <th>cluster.ids</th>\n",
       "      <th>free_annotation</th>\n",
       "      <th>mouse.id</th>\n",
       "      <th>mouse.sex</th>\n",
       "      <th>plate.barcode</th>\n",
       "      <th>...</th>\n",
       "      <th>subsetC</th>\n",
       "      <th>subsetC_cluster.ids</th>\n",
       "      <th>subsetD</th>\n",
       "      <th>subsetD_cluster.ids</th>\n",
       "      <th>subsetE</th>\n",
       "      <th>subsetE_cluster.ids</th>\n",
       "      <th>subtissue</th>\n",
       "      <th>tissue</th>\n",
       "      <th>tissue_tSNE_1</th>\n",
       "      <th>tissue_tSNE_2</th>\n",
       "    </tr>\n",
       "  </thead>\n",
       "  <tbody>\n",
       "    <tr>\n",
       "      <th>0</th>\n",
       "      <td>NaN</td>\n",
       "      <td>NaN</td>\n",
       "      <td>A1.B000610.3_56_F.1.1</td>\n",
       "      <td>bladder cell</td>\n",
       "      <td>CL:1001319</td>\n",
       "      <td>5</td>\n",
       "      <td>Bladder mesenchymal cell</td>\n",
       "      <td>3_56_F</td>\n",
       "      <td>F</td>\n",
       "      <td>B000610</td>\n",
       "      <td>...</td>\n",
       "      <td>NaN</td>\n",
       "      <td>NaN</td>\n",
       "      <td>NaN</td>\n",
       "      <td>NaN</td>\n",
       "      <td>NaN</td>\n",
       "      <td>NaN</td>\n",
       "      <td>NaN</td>\n",
       "      <td>Bladder</td>\n",
       "      <td>-7.182841</td>\n",
       "      <td>-10.895094</td>\n",
       "    </tr>\n",
       "    <tr>\n",
       "      <th>1</th>\n",
       "      <td>NaN</td>\n",
       "      <td>NaN</td>\n",
       "      <td>A1.B002764.3_38_F.1.1</td>\n",
       "      <td>bladder urothelial cell</td>\n",
       "      <td>CL:1001428</td>\n",
       "      <td>3</td>\n",
       "      <td>Luminal bladder epithelial cell</td>\n",
       "      <td>3_38_F</td>\n",
       "      <td>F</td>\n",
       "      <td>B002764</td>\n",
       "      <td>...</td>\n",
       "      <td>NaN</td>\n",
       "      <td>NaN</td>\n",
       "      <td>NaN</td>\n",
       "      <td>NaN</td>\n",
       "      <td>NaN</td>\n",
       "      <td>NaN</td>\n",
       "      <td>NaN</td>\n",
       "      <td>Bladder</td>\n",
       "      <td>4.199059</td>\n",
       "      <td>-11.050240</td>\n",
       "    </tr>\n",
       "    <tr>\n",
       "      <th>2</th>\n",
       "      <td>NaN</td>\n",
       "      <td>NaN</td>\n",
       "      <td>A1.B002771.3_39_F.1.1</td>\n",
       "      <td>bladder cell</td>\n",
       "      <td>CL:1001319</td>\n",
       "      <td>5</td>\n",
       "      <td>Bladder mesenchymal cell</td>\n",
       "      <td>3_39_F</td>\n",
       "      <td>F</td>\n",
       "      <td>B002771</td>\n",
       "      <td>...</td>\n",
       "      <td>NaN</td>\n",
       "      <td>NaN</td>\n",
       "      <td>NaN</td>\n",
       "      <td>NaN</td>\n",
       "      <td>NaN</td>\n",
       "      <td>NaN</td>\n",
       "      <td>NaN</td>\n",
       "      <td>Bladder</td>\n",
       "      <td>-11.995435</td>\n",
       "      <td>-7.325534</td>\n",
       "    </tr>\n",
       "    <tr>\n",
       "      <th>3</th>\n",
       "      <td>NaN</td>\n",
       "      <td>NaN</td>\n",
       "      <td>A1.D041914.3_8_M.1.1</td>\n",
       "      <td>bladder cell</td>\n",
       "      <td>CL:1001319</td>\n",
       "      <td>5</td>\n",
       "      <td>Bladder mesenchymal cell</td>\n",
       "      <td>3_8_M</td>\n",
       "      <td>M</td>\n",
       "      <td>D041914</td>\n",
       "      <td>...</td>\n",
       "      <td>NaN</td>\n",
       "      <td>NaN</td>\n",
       "      <td>NaN</td>\n",
       "      <td>NaN</td>\n",
       "      <td>NaN</td>\n",
       "      <td>NaN</td>\n",
       "      <td>NaN</td>\n",
       "      <td>Bladder</td>\n",
       "      <td>-6.820022</td>\n",
       "      <td>-14.174246</td>\n",
       "    </tr>\n",
       "    <tr>\n",
       "      <th>4</th>\n",
       "      <td>NaN</td>\n",
       "      <td>NaN</td>\n",
       "      <td>A1.D042253.3_9_M.1.1</td>\n",
       "      <td>bladder cell</td>\n",
       "      <td>CL:1001319</td>\n",
       "      <td>2</td>\n",
       "      <td>Bladder mesenchymal cell</td>\n",
       "      <td>3_9_M</td>\n",
       "      <td>M</td>\n",
       "      <td>D042253</td>\n",
       "      <td>...</td>\n",
       "      <td>NaN</td>\n",
       "      <td>NaN</td>\n",
       "      <td>NaN</td>\n",
       "      <td>NaN</td>\n",
       "      <td>NaN</td>\n",
       "      <td>NaN</td>\n",
       "      <td>NaN</td>\n",
       "      <td>Bladder</td>\n",
       "      <td>-24.163538</td>\n",
       "      <td>-7.499349</td>\n",
       "    </tr>\n",
       "  </tbody>\n",
       "</table>\n",
       "<p>5 rows × 24 columns</p>\n",
       "</div>"
      ],
      "text/plain": [
       "  Neurog3>0_raw Neurog3>0_scaled                   cell  \\\n",
       "0           NaN              NaN  A1.B000610.3_56_F.1.1   \n",
       "1           NaN              NaN  A1.B002764.3_38_F.1.1   \n",
       "2           NaN              NaN  A1.B002771.3_39_F.1.1   \n",
       "3           NaN              NaN   A1.D041914.3_8_M.1.1   \n",
       "4           NaN              NaN   A1.D042253.3_9_M.1.1   \n",
       "\n",
       "       cell_ontology_class cell_ontology_id  cluster.ids  \\\n",
       "0             bladder cell       CL:1001319            5   \n",
       "1  bladder urothelial cell       CL:1001428            3   \n",
       "2             bladder cell       CL:1001319            5   \n",
       "3             bladder cell       CL:1001319            5   \n",
       "4             bladder cell       CL:1001319            2   \n",
       "\n",
       "                   free_annotation mouse.id mouse.sex plate.barcode  ...  \\\n",
       "0         Bladder mesenchymal cell   3_56_F         F       B000610  ...   \n",
       "1  Luminal bladder epithelial cell   3_38_F         F       B002764  ...   \n",
       "2         Bladder mesenchymal cell   3_39_F         F       B002771  ...   \n",
       "3         Bladder mesenchymal cell    3_8_M         M       D041914  ...   \n",
       "4         Bladder mesenchymal cell    3_9_M         M       D042253  ...   \n",
       "\n",
       "  subsetC  subsetC_cluster.ids subsetD  subsetD_cluster.ids subsetE  \\\n",
       "0     NaN                  NaN     NaN                  NaN     NaN   \n",
       "1     NaN                  NaN     NaN                  NaN     NaN   \n",
       "2     NaN                  NaN     NaN                  NaN     NaN   \n",
       "3     NaN                  NaN     NaN                  NaN     NaN   \n",
       "4     NaN                  NaN     NaN                  NaN     NaN   \n",
       "\n",
       "   subsetE_cluster.ids subtissue   tissue tissue_tSNE_1  tissue_tSNE_2  \n",
       "0                  NaN       NaN  Bladder     -7.182841     -10.895094  \n",
       "1                  NaN       NaN  Bladder      4.199059     -11.050240  \n",
       "2                  NaN       NaN  Bladder    -11.995435      -7.325534  \n",
       "3                  NaN       NaN  Bladder     -6.820022     -14.174246  \n",
       "4                  NaN       NaN  Bladder    -24.163538      -7.499349  \n",
       "\n",
       "[5 rows x 24 columns]"
      ]
     },
     "execution_count": 6,
     "metadata": {},
     "output_type": "execute_result"
    }
   ],
   "source": [
    "ann_df = pd.read_csv(join(\"data\", \"raw\", \"tm\", \"annotations.csv\"))\n",
    "ann_df.head()"
   ]
  },
  {
   "cell_type": "code",
   "execution_count": 9,
   "id": "grateful-flour",
   "metadata": {},
   "outputs": [
    {
     "data": {
      "text/plain": [
       "['Bladder',\n",
       " 'Brain_Non-Myeloid',\n",
       " 'Fat',\n",
       " 'Skin',\n",
       " 'Trachea',\n",
       " 'Lung',\n",
       " 'Kidney',\n",
       " 'Brain_Myeloid',\n",
       " 'Pancreas',\n",
       " 'Tongue',\n",
       " 'Limb_Muscle',\n",
       " 'Thymus',\n",
       " 'Mammary_Gland',\n",
       " 'Diaphragm',\n",
       " 'Marrow',\n",
       " 'Spleen',\n",
       " 'Large_Intestine',\n",
       " 'Liver',\n",
       " 'Heart',\n",
       " 'Aorta']"
      ]
     },
     "execution_count": 9,
     "metadata": {},
     "output_type": "execute_result"
    }
   ],
   "source": [
    "tissues = ann_df[\"tissue\"].unique().tolist()\n",
    "tissues"
   ]
  },
  {
   "cell_type": "code",
   "execution_count": 46,
   "id": "twenty-hybrid",
   "metadata": {},
   "outputs": [],
   "source": [
    "def create_h5ad(tissue):\n",
    "    obs_df = ann_df.loc[ann_df[\"tissue\"] == tissue].set_index(\"cell\")\n",
    "    \n",
    "    X_df = pd.read_csv(join(\"data\", \"raw\", \"tm\", \"FACS\", f\"{tissue}-counts.csv\"), index_col=0).transpose()\n",
    "    \n",
    "    dummy_join_cols = X_df.columns.values.tolist()[0:1]\n",
    "    joined_obs_df = X_df[dummy_join_cols].join(obs_df).drop(columns=dummy_join_cols)\n",
    "    \n",
    "    tsne = joined_obs_df[['tissue_tSNE_1', 'tissue_tSNE_2']]\n",
    "    \n",
    "    drop_cols = [\"Neurog3>0_raw\", \"Neurog3>0_scaled\", 'tissue_tSNE_1', 'tissue_tSNE_2']\n",
    "    joined_obs_df = joined_obs_df.drop(columns=drop_cols)\n",
    "    \n",
    "    adata = AnnData(X=X_df, obs=joined_obs_df, obsm={ \"X_tsne\": tsne.values })\n",
    "    \n",
    "    return adata"
   ]
  },
  {
   "cell_type": "code",
   "execution_count": 47,
   "id": "retained-wright",
   "metadata": {},
   "outputs": [],
   "source": [
    "for tissue in tissues:\n",
    "    out_file = join(\"data\", \"raw\", \"tm\", \"adata\", f\"{tissue}.h5ad\")\n",
    "    adata = create_h5ad(tissue)\n",
    "    adata.write(out_file)"
   ]
  },
  {
   "cell_type": "code",
   "execution_count": 48,
   "id": "welsh-behalf",
   "metadata": {},
   "outputs": [
    {
     "data": {
      "text/plain": [
       "AnnData object with n_obs × n_vars = 1113 × 23433\n",
       "    obs: 'cell_ontology_class', 'cell_ontology_id', 'cluster.ids', 'free_annotation', 'mouse.id', 'mouse.sex', 'plate.barcode', 'subsetA', 'subsetA_cluster.ids', 'subsetB', 'subsetB_cluster.ids', 'subsetC', 'subsetC_cluster.ids', 'subsetD', 'subsetD_cluster.ids', 'subsetE', 'subsetE_cluster.ids', 'subtissue', 'tissue'\n",
       "    obsm: 'X_tsne'"
      ]
     },
     "execution_count": 48,
     "metadata": {},
     "output_type": "execute_result"
    }
   ],
   "source": [
    "adata"
   ]
  },
  {
   "cell_type": "code",
   "execution_count": 52,
   "id": "quiet-algebra",
   "metadata": {},
   "outputs": [
    {
     "data": {
      "image/png": "[encoded data removed]",
      "text/plain": [
       "<Figure size 432x288 with 1 Axes>"
      ]
     },
     "metadata": {},
     "output_type": "display_data"
    }
   ],
   "source": [
    "sc.pl.embedding(adata, basis=\"X_tsne\", color=\"cell_ontology_id\")"
   ]
  },
  {
   "cell_type": "code",
   "execution_count": null,
   "id": "gentle-estimate",
   "metadata": {},
   "outputs": [],
   "source": [
    "sc.pl.dotplot(adata, marker_genes_dict, 'clusters', dendrogram=True)"
   ]
  }
 ],
 "metadata": {
  "kernelspec": {
   "display_name": "Python 3",
   "language": "python",
   "name": "python3"
  },
  "language_info": {
   "codemirror_mode": {
    "name": "ipython",
    "version": 3
   },
   "file_extension": ".py",
   "mimetype": "text/x-python",
   "name": "python",
   "nbconvert_exporter": "python",
   "pygments_lexer": "ipython3",
   "version": "3.8.8"
  }
 },
 "nbformat": 4,
 "nbformat_minor": 5
}
